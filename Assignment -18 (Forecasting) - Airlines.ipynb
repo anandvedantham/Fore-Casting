{
 "cells": [
  {
   "cell_type": "markdown",
   "id": "dcfcd1f9",
   "metadata": {},
   "source": [
    "    Forecast the Airlines Passengers data set. \n",
    "    Prepare a document for each model explaining how many dummy variables you have created and RMSE value for each model. \n",
    "    Finally which model you will use for Forecasting."
   ]
  },
  {
   "cell_type": "markdown",
   "id": "1dcb968a",
   "metadata": {},
   "source": [
    "### Importing the required Libraries"
   ]
  },
  {
   "cell_type": "code",
   "execution_count": 1,
   "id": "20ce1e4e",
   "metadata": {
    "ExecuteTime": {
     "end_time": "2023-09-03T18:49:48.046485Z",
     "start_time": "2023-09-03T18:49:45.578660Z"
    }
   },
   "outputs": [],
   "source": [
    "import pandas as pd, numpy as np\n",
    "import matplotlib.pyplot as plt, seaborn as sns\n",
    "\n",
    "from pandas import Grouper\n",
    "from pandas.plotting import lag_plot\n",
    "import statsmodels.graphics.tsaplots as tsa_plots\n",
    "import statsmodels.formula.api as smf\n",
    "\n",
    "from statsmodels.tsa.seasonal import seasonal_decompose\n",
    "from statsmodels.tsa.holtwinters import SimpleExpSmoothing #SES\n",
    "from statsmodels.tsa.holtwinters import Holt  # Holts Exponential Smoothing\n",
    "from statsmodels.tsa.holtwinters import ExponentialSmoothing\n",
    "\n",
    "from sklearn.metrics import mean_squared_error\n",
    "from statsmodels.tsa.arima.model import ARIMA\n",
    "\n",
    "# importing warnings\n",
    "import warnings\n",
    "warnings.filterwarnings(\"ignore\")"
   ]
  },
  {
   "cell_type": "markdown",
   "id": "27a5065f",
   "metadata": {},
   "source": [
    "#### Reading the dataset"
   ]
  },
  {
   "cell_type": "code",
   "execution_count": 2,
   "id": "e8999f65",
   "metadata": {
    "ExecuteTime": {
     "end_time": "2023-09-03T18:49:48.392476Z",
     "start_time": "2023-09-03T18:49:48.048815Z"
    }
   },
   "outputs": [
    {
     "data": {
      "text/html": [
       "<div>\n",
       "<style scoped>\n",
       "    .dataframe tbody tr th:only-of-type {\n",
       "        vertical-align: middle;\n",
       "    }\n",
       "\n",
       "    .dataframe tbody tr th {\n",
       "        vertical-align: top;\n",
       "    }\n",
       "\n",
       "    .dataframe thead th {\n",
       "        text-align: right;\n",
       "    }\n",
       "</style>\n",
       "<table border=\"1\" class=\"dataframe\">\n",
       "  <thead>\n",
       "    <tr style=\"text-align: right;\">\n",
       "      <th></th>\n",
       "      <th>Month</th>\n",
       "      <th>Passengers</th>\n",
       "    </tr>\n",
       "  </thead>\n",
       "  <tbody>\n",
       "    <tr>\n",
       "      <th>0</th>\n",
       "      <td>1995-01-01</td>\n",
       "      <td>112</td>\n",
       "    </tr>\n",
       "    <tr>\n",
       "      <th>1</th>\n",
       "      <td>1995-02-01</td>\n",
       "      <td>118</td>\n",
       "    </tr>\n",
       "    <tr>\n",
       "      <th>2</th>\n",
       "      <td>1995-03-01</td>\n",
       "      <td>132</td>\n",
       "    </tr>\n",
       "    <tr>\n",
       "      <th>3</th>\n",
       "      <td>1995-04-01</td>\n",
       "      <td>129</td>\n",
       "    </tr>\n",
       "    <tr>\n",
       "      <th>4</th>\n",
       "      <td>1995-05-01</td>\n",
       "      <td>121</td>\n",
       "    </tr>\n",
       "  </tbody>\n",
       "</table>\n",
       "</div>"
      ],
      "text/plain": [
       "       Month  Passengers\n",
       "0 1995-01-01         112\n",
       "1 1995-02-01         118\n",
       "2 1995-03-01         132\n",
       "3 1995-04-01         129\n",
       "4 1995-05-01         121"
      ]
     },
     "execution_count": 2,
     "metadata": {},
     "output_type": "execute_result"
    }
   ],
   "source": [
    "airlines = pd.read_excel(\"Airlines+Data.xlsx\")\n",
    "airlines.head()"
   ]
  },
  {
   "cell_type": "markdown",
   "id": "f4be69e6",
   "metadata": {},
   "source": [
    "### Performing EDA on the dataset"
   ]
  },
  {
   "cell_type": "code",
   "execution_count": 3,
   "id": "5d3f4bca",
   "metadata": {
    "ExecuteTime": {
     "end_time": "2023-09-03T18:49:48.408288Z",
     "start_time": "2023-09-03T18:49:48.394689Z"
    }
   },
   "outputs": [
    {
     "name": "stdout",
     "output_type": "stream",
     "text": [
      "<class 'pandas.core.frame.DataFrame'>\n",
      "RangeIndex: 96 entries, 0 to 95\n",
      "Data columns (total 2 columns):\n",
      " #   Column      Non-Null Count  Dtype         \n",
      "---  ------      --------------  -----         \n",
      " 0   Month       96 non-null     datetime64[ns]\n",
      " 1   Passengers  96 non-null     int64         \n",
      "dtypes: datetime64[ns](1), int64(1)\n",
      "memory usage: 1.6 KB\n"
     ]
    }
   ],
   "source": [
    "# to get the information of the datafile\n",
    "airlines.info()"
   ]
  },
  {
   "cell_type": "code",
   "execution_count": 4,
   "id": "100cc212",
   "metadata": {
    "ExecuteTime": {
     "end_time": "2023-09-03T18:49:48.424343Z",
     "start_time": "2023-09-03T18:49:48.410382Z"
    }
   },
   "outputs": [
    {
     "data": {
      "text/plain": [
       "Month         0\n",
       "Passengers    0\n",
       "dtype: int64"
      ]
     },
     "execution_count": 4,
     "metadata": {},
     "output_type": "execute_result"
    }
   ],
   "source": [
    "# to check the null values of the data\n",
    "airlines.isnull().sum()"
   ]
  },
  {
   "cell_type": "code",
   "execution_count": 5,
   "id": "40e01ba0",
   "metadata": {
    "ExecuteTime": {
     "end_time": "2023-09-03T18:49:48.439673Z",
     "start_time": "2023-09-03T18:49:48.426718Z"
    }
   },
   "outputs": [
    {
     "name": "stdout",
     "output_type": "stream",
     "text": [
      "Dimensions - (96, 2)\n",
      "Column names - Index(['Month', 'Passengers'], dtype='object')\n"
     ]
    }
   ],
   "source": [
    "print(\"Dimensions -\",airlines.shape)\n",
    "print(\"Column names -\",airlines.columns)"
   ]
  },
  {
   "cell_type": "code",
   "execution_count": 6,
   "id": "4dd58f71",
   "metadata": {
    "ExecuteTime": {
     "end_time": "2023-09-03T18:49:48.455379Z",
     "start_time": "2023-09-03T18:49:48.441717Z"
    }
   },
   "outputs": [
    {
     "data": {
      "text/html": [
       "<div>\n",
       "<style scoped>\n",
       "    .dataframe tbody tr th:only-of-type {\n",
       "        vertical-align: middle;\n",
       "    }\n",
       "\n",
       "    .dataframe tbody tr th {\n",
       "        vertical-align: top;\n",
       "    }\n",
       "\n",
       "    .dataframe thead th {\n",
       "        text-align: right;\n",
       "    }\n",
       "</style>\n",
       "<table border=\"1\" class=\"dataframe\">\n",
       "  <thead>\n",
       "    <tr style=\"text-align: right;\">\n",
       "      <th></th>\n",
       "      <th>Passengers</th>\n",
       "    </tr>\n",
       "  </thead>\n",
       "  <tbody>\n",
       "    <tr>\n",
       "      <th>count</th>\n",
       "      <td>96.000000</td>\n",
       "    </tr>\n",
       "    <tr>\n",
       "      <th>mean</th>\n",
       "      <td>213.708333</td>\n",
       "    </tr>\n",
       "    <tr>\n",
       "      <th>std</th>\n",
       "      <td>71.918216</td>\n",
       "    </tr>\n",
       "    <tr>\n",
       "      <th>min</th>\n",
       "      <td>104.000000</td>\n",
       "    </tr>\n",
       "    <tr>\n",
       "      <th>25%</th>\n",
       "      <td>156.000000</td>\n",
       "    </tr>\n",
       "    <tr>\n",
       "      <th>50%</th>\n",
       "      <td>200.000000</td>\n",
       "    </tr>\n",
       "    <tr>\n",
       "      <th>75%</th>\n",
       "      <td>264.750000</td>\n",
       "    </tr>\n",
       "    <tr>\n",
       "      <th>max</th>\n",
       "      <td>413.000000</td>\n",
       "    </tr>\n",
       "  </tbody>\n",
       "</table>\n",
       "</div>"
      ],
      "text/plain": [
       "       Passengers\n",
       "count   96.000000\n",
       "mean   213.708333\n",
       "std     71.918216\n",
       "min    104.000000\n",
       "25%    156.000000\n",
       "50%    200.000000\n",
       "75%    264.750000\n",
       "max    413.000000"
      ]
     },
     "execution_count": 6,
     "metadata": {},
     "output_type": "execute_result"
    }
   ],
   "source": [
    "# Summarizing the dataset\n",
    "airlines.describe()"
   ]
  },
  {
   "cell_type": "code",
   "execution_count": 7,
   "id": "7933cd23",
   "metadata": {
    "ExecuteTime": {
     "end_time": "2023-09-03T18:49:48.470679Z",
     "start_time": "2023-09-03T18:49:48.457376Z"
    }
   },
   "outputs": [
    {
     "name": "stdout",
     "output_type": "stream",
     "text": [
      "(0, 2)\n"
     ]
    },
    {
     "data": {
      "text/html": [
       "<div>\n",
       "<style scoped>\n",
       "    .dataframe tbody tr th:only-of-type {\n",
       "        vertical-align: middle;\n",
       "    }\n",
       "\n",
       "    .dataframe tbody tr th {\n",
       "        vertical-align: top;\n",
       "    }\n",
       "\n",
       "    .dataframe thead th {\n",
       "        text-align: right;\n",
       "    }\n",
       "</style>\n",
       "<table border=\"1\" class=\"dataframe\">\n",
       "  <thead>\n",
       "    <tr style=\"text-align: right;\">\n",
       "      <th></th>\n",
       "      <th>Month</th>\n",
       "      <th>Passengers</th>\n",
       "    </tr>\n",
       "  </thead>\n",
       "  <tbody>\n",
       "  </tbody>\n",
       "</table>\n",
       "</div>"
      ],
      "text/plain": [
       "Empty DataFrame\n",
       "Columns: [Month, Passengers]\n",
       "Index: []"
      ]
     },
     "execution_count": 7,
     "metadata": {},
     "output_type": "execute_result"
    }
   ],
   "source": [
    "# to check the dimensions of duplicates in the data\n",
    "print(airlines[airlines.duplicated()].shape)\n",
    "\n",
    "# to get the duplicate values from the data\n",
    "airlines[airlines.duplicated()]"
   ]
  },
  {
   "cell_type": "markdown",
   "id": "02590546",
   "metadata": {},
   "source": [
    "### Feature Engineering"
   ]
  },
  {
   "cell_type": "code",
   "execution_count": 8,
   "id": "3ff229b8",
   "metadata": {
    "ExecuteTime": {
     "end_time": "2023-09-03T18:49:48.486242Z",
     "start_time": "2023-09-03T18:49:48.472823Z"
    }
   },
   "outputs": [],
   "source": [
    "# Renaming the 'Month' column as 'Date'\n",
    "airlines.rename({'Month':'Date'},axis=1, inplace=True)"
   ]
  },
  {
   "cell_type": "code",
   "execution_count": 9,
   "id": "05d1de13",
   "metadata": {
    "ExecuteTime": {
     "end_time": "2023-09-03T18:49:48.501909Z",
     "start_time": "2023-09-03T18:49:48.488829Z"
    }
   },
   "outputs": [
    {
     "name": "stdout",
     "output_type": "stream",
     "text": [
      "Int64Index([1995, 1995, 1995, 1995, 1995, 1995, 1995, 1995, 1995, 1995, 1995,\n",
      "            1995, 1996, 1996, 1996, 1996, 1996, 1996, 1996, 1996, 1996, 1996,\n",
      "            1996, 1996, 1997, 1997, 1997, 1997, 1997, 1997, 1997, 1997, 1997,\n",
      "            1997, 1997, 1997, 1998, 1998, 1998, 1998, 1998, 1998, 1998, 1998,\n",
      "            1998, 1998, 1998, 1998, 1999, 1999, 1999, 1999, 1999, 1999, 1999,\n",
      "            1999, 1999, 1999, 1999, 1999, 2000, 2000, 2000, 2000, 2000, 2000,\n",
      "            2000, 2000, 2000, 2000, 2000, 2000, 2001, 2001, 2001, 2001, 2001,\n",
      "            2001, 2001, 2001, 2001, 2001, 2001, 2001, 2002, 2002, 2002, 2002,\n",
      "            2002, 2002, 2002, 2002, 2002, 2002, 2002, 2002],\n",
      "           dtype='int64', name='Date')\n"
     ]
    },
    {
     "data": {
      "text/html": [
       "<div>\n",
       "<style scoped>\n",
       "    .dataframe tbody tr th:only-of-type {\n",
       "        vertical-align: middle;\n",
       "    }\n",
       "\n",
       "    .dataframe tbody tr th {\n",
       "        vertical-align: top;\n",
       "    }\n",
       "\n",
       "    .dataframe thead th {\n",
       "        text-align: right;\n",
       "    }\n",
       "</style>\n",
       "<table border=\"1\" class=\"dataframe\">\n",
       "  <thead>\n",
       "    <tr style=\"text-align: right;\">\n",
       "      <th></th>\n",
       "      <th>Passengers</th>\n",
       "    </tr>\n",
       "    <tr>\n",
       "      <th>Date</th>\n",
       "      <th></th>\n",
       "    </tr>\n",
       "  </thead>\n",
       "  <tbody>\n",
       "    <tr>\n",
       "      <th>1995-01-01</th>\n",
       "      <td>112</td>\n",
       "    </tr>\n",
       "    <tr>\n",
       "      <th>1995-02-01</th>\n",
       "      <td>118</td>\n",
       "    </tr>\n",
       "    <tr>\n",
       "      <th>1995-03-01</th>\n",
       "      <td>132</td>\n",
       "    </tr>\n",
       "    <tr>\n",
       "      <th>1995-04-01</th>\n",
       "      <td>129</td>\n",
       "    </tr>\n",
       "    <tr>\n",
       "      <th>1995-05-01</th>\n",
       "      <td>121</td>\n",
       "    </tr>\n",
       "  </tbody>\n",
       "</table>\n",
       "</div>"
      ],
      "text/plain": [
       "            Passengers\n",
       "Date                  \n",
       "1995-01-01         112\n",
       "1995-02-01         118\n",
       "1995-03-01         132\n",
       "1995-04-01         129\n",
       "1995-05-01         121"
      ]
     },
     "execution_count": 9,
     "metadata": {},
     "output_type": "execute_result"
    }
   ],
   "source": [
    "# making the Date column as DateTime Index for the dataframe\n",
    "air1 = airlines.copy()\n",
    "air1.set_index('Date',inplace=True)\n",
    "print(air1.index.year)\n",
    "\n",
    "air1.head()"
   ]
  },
  {
   "cell_type": "code",
   "execution_count": 10,
   "id": "e8fcff34",
   "metadata": {
    "ExecuteTime": {
     "end_time": "2023-09-03T18:49:48.532640Z",
     "start_time": "2023-09-03T18:49:48.505323Z"
    }
   },
   "outputs": [
    {
     "data": {
      "text/html": [
       "<div>\n",
       "<style scoped>\n",
       "    .dataframe tbody tr th:only-of-type {\n",
       "        vertical-align: middle;\n",
       "    }\n",
       "\n",
       "    .dataframe tbody tr th {\n",
       "        vertical-align: top;\n",
       "    }\n",
       "\n",
       "    .dataframe thead th {\n",
       "        text-align: right;\n",
       "    }\n",
       "</style>\n",
       "<table border=\"1\" class=\"dataframe\">\n",
       "  <thead>\n",
       "    <tr style=\"text-align: right;\">\n",
       "      <th></th>\n",
       "      <th>Date</th>\n",
       "      <th>Passengers</th>\n",
       "      <th>Month</th>\n",
       "      <th>Year</th>\n",
       "    </tr>\n",
       "  </thead>\n",
       "  <tbody>\n",
       "    <tr>\n",
       "      <th>0</th>\n",
       "      <td>1995-01-01</td>\n",
       "      <td>112</td>\n",
       "      <td>Jan</td>\n",
       "      <td>1995</td>\n",
       "    </tr>\n",
       "    <tr>\n",
       "      <th>1</th>\n",
       "      <td>1995-02-01</td>\n",
       "      <td>118</td>\n",
       "      <td>Feb</td>\n",
       "      <td>1995</td>\n",
       "    </tr>\n",
       "    <tr>\n",
       "      <th>2</th>\n",
       "      <td>1995-03-01</td>\n",
       "      <td>132</td>\n",
       "      <td>Mar</td>\n",
       "      <td>1995</td>\n",
       "    </tr>\n",
       "    <tr>\n",
       "      <th>3</th>\n",
       "      <td>1995-04-01</td>\n",
       "      <td>129</td>\n",
       "      <td>Apr</td>\n",
       "      <td>1995</td>\n",
       "    </tr>\n",
       "    <tr>\n",
       "      <th>4</th>\n",
       "      <td>1995-05-01</td>\n",
       "      <td>121</td>\n",
       "      <td>May</td>\n",
       "      <td>1995</td>\n",
       "    </tr>\n",
       "    <tr>\n",
       "      <th>5</th>\n",
       "      <td>1995-06-01</td>\n",
       "      <td>135</td>\n",
       "      <td>Jun</td>\n",
       "      <td>1995</td>\n",
       "    </tr>\n",
       "    <tr>\n",
       "      <th>6</th>\n",
       "      <td>1995-07-01</td>\n",
       "      <td>148</td>\n",
       "      <td>Jul</td>\n",
       "      <td>1995</td>\n",
       "    </tr>\n",
       "    <tr>\n",
       "      <th>7</th>\n",
       "      <td>1995-08-01</td>\n",
       "      <td>148</td>\n",
       "      <td>Aug</td>\n",
       "      <td>1995</td>\n",
       "    </tr>\n",
       "    <tr>\n",
       "      <th>8</th>\n",
       "      <td>1995-09-01</td>\n",
       "      <td>136</td>\n",
       "      <td>Sep</td>\n",
       "      <td>1995</td>\n",
       "    </tr>\n",
       "    <tr>\n",
       "      <th>9</th>\n",
       "      <td>1995-10-01</td>\n",
       "      <td>119</td>\n",
       "      <td>Oct</td>\n",
       "      <td>1995</td>\n",
       "    </tr>\n",
       "    <tr>\n",
       "      <th>10</th>\n",
       "      <td>1995-11-01</td>\n",
       "      <td>104</td>\n",
       "      <td>Nov</td>\n",
       "      <td>1995</td>\n",
       "    </tr>\n",
       "    <tr>\n",
       "      <th>11</th>\n",
       "      <td>1995-12-01</td>\n",
       "      <td>118</td>\n",
       "      <td>Dec</td>\n",
       "      <td>1995</td>\n",
       "    </tr>\n",
       "  </tbody>\n",
       "</table>\n",
       "</div>"
      ],
      "text/plain": [
       "         Date  Passengers Month  Year\n",
       "0  1995-01-01         112   Jan  1995\n",
       "1  1995-02-01         118   Feb  1995\n",
       "2  1995-03-01         132   Mar  1995\n",
       "3  1995-04-01         129   Apr  1995\n",
       "4  1995-05-01         121   May  1995\n",
       "5  1995-06-01         135   Jun  1995\n",
       "6  1995-07-01         148   Jul  1995\n",
       "7  1995-08-01         148   Aug  1995\n",
       "8  1995-09-01         136   Sep  1995\n",
       "9  1995-10-01         119   Oct  1995\n",
       "10 1995-11-01         104   Nov  1995\n",
       "11 1995-12-01         118   Dec  1995"
      ]
     },
     "execution_count": 10,
     "metadata": {},
     "output_type": "execute_result"
    }
   ],
   "source": [
    "# Now, extracting the month and year into seperate columns from the Date column\n",
    "airlines[\"Date\"] = pd.to_datetime(airlines.Date,format=\"%b-%y\")\n",
    "airlines[\"Month\"] = airlines.Date.dt.strftime(\"%b\") # month extraction\n",
    "airlines[\"Year\"] = airlines.Date.dt.strftime(\"%Y\") # year extraction\n",
    "airlines.head(12)"
   ]
  },
  {
   "cell_type": "markdown",
   "id": "5405ceaf",
   "metadata": {},
   "source": [
    "## Visualizations "
   ]
  },
  {
   "cell_type": "markdown",
   "id": "8e9b1885",
   "metadata": {},
   "source": [
    "##### Line Plot"
   ]
  },
  {
   "cell_type": "code",
   "execution_count": 11,
   "id": "ed74c3c3",
   "metadata": {
    "ExecuteTime": {
     "end_time": "2023-09-03T18:49:48.814849Z",
     "start_time": "2023-09-03T18:49:48.534021Z"
    }
   },
   "outputs": [
    {
     "data": {
      "image/png": "[encoded data removed]",
      "text/plain": [
       "<Figure size 576x216 with 1 Axes>"
      ]
     },
     "metadata": {
      "needs_background": "light"
     },
     "output_type": "display_data"
    }
   ],
   "source": [
    "# creating a Line Plot\n",
    "air1.plot(figsize=(8,3), marker='.')\n",
    "plt.show()"
   ]
  },
  {
   "cell_type": "markdown",
   "id": "a227075a",
   "metadata": {},
   "source": [
    "We can observe that there is an increment in the trend.\n",
    "\n",
    "Hence, the time series is non-stationary."
   ]
  },
  {
   "cell_type": "markdown",
   "id": "b1af2c09",
   "metadata": {},
   "source": [
    "##### Histogram  Plot"
   ]
  },
  {
   "cell_type": "code",
   "execution_count": 12,
   "id": "ebc6830e",
   "metadata": {
    "ExecuteTime": {
     "end_time": "2023-09-03T18:49:48.941916Z",
     "start_time": "2023-09-03T18:49:48.816667Z"
    },
    "scrolled": true
   },
   "outputs": [
    {
     "data": {
      "image/png": "[encoded data removed]",
      "text/plain": [
       "<Figure size 576x216 with 1 Axes>"
      ]
     },
     "metadata": {
      "needs_background": "light"
     },
     "output_type": "display_data"
    }
   ],
   "source": [
    "# Plotting a Histogram\n",
    "air1.hist(figsize=(8,3))\n",
    "plt.show()"
   ]
  },
  {
   "cell_type": "markdown",
   "id": "f45fb6a5",
   "metadata": {},
   "source": [
    "##### Density Plot"
   ]
  },
  {
   "cell_type": "code",
   "execution_count": 13,
   "id": "5899927b",
   "metadata": {
    "ExecuteTime": {
     "end_time": "2023-09-03T18:49:49.050751Z",
     "start_time": "2023-09-03T18:49:48.943834Z"
    },
    "scrolled": true
   },
   "outputs": [
    {
     "data": {
      "image/png": "[encoded data removed]",
      "text/plain": [
       "<Figure size 360x216 with 1 Axes>"
      ]
     },
     "metadata": {
      "needs_background": "light"
     },
     "output_type": "display_data"
    }
   ],
   "source": [
    "# creating Density Plot\n",
    "air1.plot(kind='kde', figsize=(5,3), marker='.', markersize=0.3)\n",
    "plt.show()"
   ]
  },
  {
   "cell_type": "markdown",
   "id": "ad290df1",
   "metadata": {},
   "source": [
    "##### Box Plot"
   ]
  },
  {
   "cell_type": "code",
   "execution_count": 14,
   "id": "370a815a",
   "metadata": {
    "ExecuteTime": {
     "end_time": "2023-09-03T18:49:49.381438Z",
     "start_time": "2023-09-03T18:49:49.052741Z"
    }
   },
   "outputs": [
    {
     "data": {
      "image/png": "[encoded data removed]",
      "text/plain": [
       "<Figure size 720x360 with 2 Axes>"
      ]
     },
     "metadata": {
      "needs_background": "light"
     },
     "output_type": "display_data"
    }
   ],
   "source": [
    "# Boxplot for each year by monthly intervals\n",
    "plt.figure(figsize=(10,5))\n",
    "plt.subplot(211)\n",
    "sns.boxplot(x=\"Month\", y=\"Passengers\", data=airlines);\n",
    "plt.subplot(212)\n",
    "sns.boxplot(x=\"Year\", y=\"Passengers\", data=airlines);"
   ]
  },
  {
   "cell_type": "markdown",
   "id": "4ec7713b",
   "metadata": {},
   "source": [
    "##### Lag Plot"
   ]
  },
  {
   "cell_type": "code",
   "execution_count": 15,
   "id": "c244a576",
   "metadata": {
    "ExecuteTime": {
     "end_time": "2023-09-03T18:49:49.491474Z",
     "start_time": "2023-09-03T18:49:49.383432Z"
    }
   },
   "outputs": [
    {
     "data": {
      "image/png": "[encoded data removed]",
      "text/plain": [
       "<Figure size 432x216 with 1 Axes>"
      ]
     },
     "metadata": {
      "needs_background": "light"
     },
     "output_type": "display_data"
    }
   ],
   "source": [
    "# creating Scatter Plot\n",
    "plt.figure(figsize=(6,3))\n",
    "lag_plot(air1)\n",
    "plt.show()"
   ]
  },
  {
   "cell_type": "markdown",
   "id": "8290f515",
   "metadata": {},
   "source": [
    "### Moving Average"
   ]
  },
  {
   "cell_type": "code",
   "execution_count": 16,
   "id": "fb6c1b0b",
   "metadata": {
    "ExecuteTime": {
     "end_time": "2023-09-03T18:49:49.633364Z",
     "start_time": "2023-09-03T18:49:49.493465Z"
    }
   },
   "outputs": [
    {
     "data": {
      "image/png": "[encoded data removed]",
      "text/plain": [
       "<Figure size 864x288 with 1 Axes>"
      ]
     },
     "metadata": {
      "needs_background": "light"
     },
     "output_type": "display_data"
    }
   ],
   "source": [
    "plt.figure(figsize=(12,4))\n",
    "airlines.Passengers.plot(label='org')\n",
    "for i in range(2,13,4):\n",
    "    airlines['Passengers'].rolling(i).mean().plot(label=str(i))\n",
    "plt.legend(loc='best')\n",
    "plt.show()"
   ]
  },
  {
   "cell_type": "markdown",
   "id": "a850311f",
   "metadata": {},
   "source": [
    "#### Time series decomposition plot"
   ]
  },
  {
   "cell_type": "code",
   "execution_count": 17,
   "id": "76f07221",
   "metadata": {
    "ExecuteTime": {
     "end_time": "2023-09-03T18:49:49.995169Z",
     "start_time": "2023-09-03T18:49:49.634346Z"
    }
   },
   "outputs": [
    {
     "data": {
      "image/png": "[encoded data removed]",
      "text/plain": [
       "<Figure size 432x288 with 4 Axes>"
      ]
     },
     "metadata": {
      "needs_background": "light"
     },
     "output_type": "display_data"
    }
   ],
   "source": [
    "decomp = seasonal_decompose(airlines.Passengers, period=12, model=\"multiplicative\")\n",
    "with plt.rc_context():\n",
    "    plt.rc(\"figure\", figsize=(6,4))\n",
    "    decomp.plot()\n",
    "    plt.show()"
   ]
  },
  {
   "cell_type": "markdown",
   "id": "0721469b",
   "metadata": {},
   "source": [
    "#### Autocorrelation Plot (ACF)"
   ]
  },
  {
   "cell_type": "code",
   "execution_count": 18,
   "id": "af8158bf",
   "metadata": {
    "ExecuteTime": {
     "end_time": "2023-09-03T18:49:50.104099Z",
     "start_time": "2023-09-03T18:49:49.998094Z"
    }
   },
   "outputs": [
    {
     "data": {
      "image/png": "[encoded data removed]",
      "text/plain": [
       "<Figure size 720x216 with 1 Axes>"
      ]
     },
     "metadata": {
      "needs_background": "light"
     },
     "output_type": "display_data"
    }
   ],
   "source": [
    "# creating an Autocorrelation plot\n",
    "from statsmodels.graphics.tsaplots import plot_acf\n",
    "with plt.rc_context():\n",
    "    plt.rc(\"figure\", figsize=(10,3))\n",
    "    plot_acf(air1,lags=95)\n",
    "    plt.show()"
   ]
  },
  {
   "cell_type": "markdown",
   "id": "810ddc1e",
   "metadata": {},
   "source": [
    "#### Partial Autocorrelation Plot (PACF)"
   ]
  },
  {
   "cell_type": "code",
   "execution_count": 19,
   "id": "29eeb72e",
   "metadata": {
    "ExecuteTime": {
     "end_time": "2023-09-03T18:49:50.325188Z",
     "start_time": "2023-09-03T18:49:50.105095Z"
    }
   },
   "outputs": [
    {
     "data": {
      "image/png": "[encoded data removed]",
      "text/plain": [
       "<Figure size 720x216 with 1 Axes>"
      ]
     },
     "metadata": {
      "needs_background": "light"
     },
     "output_type": "display_data"
    }
   ],
   "source": [
    "# creating an Autocorrelation plot\n",
    "from statsmodels.graphics.tsaplots import plot_pacf\n",
    "with plt.rc_context():\n",
    "    plt.rc(\"figure\", figsize=(10,3))\n",
    "    plot_pacf(air1,lags=47)\n",
    "    plt.show()"
   ]
  },
  {
   "cell_type": "markdown",
   "id": "10ab3bac",
   "metadata": {},
   "source": [
    "## Data Preprocessing"
   ]
  },
  {
   "cell_type": "code",
   "execution_count": 20,
   "id": "96db1cac",
   "metadata": {
    "ExecuteTime": {
     "end_time": "2023-09-03T18:49:50.358078Z",
     "start_time": "2023-09-03T18:49:50.328176Z"
    }
   },
   "outputs": [
    {
     "data": {
      "text/html": [
       "<div>\n",
       "<style scoped>\n",
       "    .dataframe tbody tr th:only-of-type {\n",
       "        vertical-align: middle;\n",
       "    }\n",
       "\n",
       "    .dataframe tbody tr th {\n",
       "        vertical-align: top;\n",
       "    }\n",
       "\n",
       "    .dataframe thead th {\n",
       "        text-align: right;\n",
       "    }\n",
       "</style>\n",
       "<table border=\"1\" class=\"dataframe\">\n",
       "  <thead>\n",
       "    <tr style=\"text-align: right;\">\n",
       "      <th></th>\n",
       "      <th>Date</th>\n",
       "      <th>Passengers</th>\n",
       "      <th>Month</th>\n",
       "      <th>Year</th>\n",
       "      <th>Apr</th>\n",
       "      <th>Aug</th>\n",
       "      <th>Dec</th>\n",
       "      <th>Feb</th>\n",
       "      <th>Jan</th>\n",
       "      <th>Jul</th>\n",
       "      <th>Jun</th>\n",
       "      <th>Mar</th>\n",
       "      <th>May</th>\n",
       "      <th>Nov</th>\n",
       "      <th>Oct</th>\n",
       "      <th>Sep</th>\n",
       "    </tr>\n",
       "  </thead>\n",
       "  <tbody>\n",
       "    <tr>\n",
       "      <th>0</th>\n",
       "      <td>1995-01-01</td>\n",
       "      <td>112</td>\n",
       "      <td>Jan</td>\n",
       "      <td>1995</td>\n",
       "      <td>0</td>\n",
       "      <td>0</td>\n",
       "      <td>0</td>\n",
       "      <td>0</td>\n",
       "      <td>1</td>\n",
       "      <td>0</td>\n",
       "      <td>0</td>\n",
       "      <td>0</td>\n",
       "      <td>0</td>\n",
       "      <td>0</td>\n",
       "      <td>0</td>\n",
       "      <td>0</td>\n",
       "    </tr>\n",
       "    <tr>\n",
       "      <th>1</th>\n",
       "      <td>1995-02-01</td>\n",
       "      <td>118</td>\n",
       "      <td>Feb</td>\n",
       "      <td>1995</td>\n",
       "      <td>0</td>\n",
       "      <td>0</td>\n",
       "      <td>0</td>\n",
       "      <td>1</td>\n",
       "      <td>0</td>\n",
       "      <td>0</td>\n",
       "      <td>0</td>\n",
       "      <td>0</td>\n",
       "      <td>0</td>\n",
       "      <td>0</td>\n",
       "      <td>0</td>\n",
       "      <td>0</td>\n",
       "    </tr>\n",
       "    <tr>\n",
       "      <th>2</th>\n",
       "      <td>1995-03-01</td>\n",
       "      <td>132</td>\n",
       "      <td>Mar</td>\n",
       "      <td>1995</td>\n",
       "      <td>0</td>\n",
       "      <td>0</td>\n",
       "      <td>0</td>\n",
       "      <td>0</td>\n",
       "      <td>0</td>\n",
       "      <td>0</td>\n",
       "      <td>0</td>\n",
       "      <td>1</td>\n",
       "      <td>0</td>\n",
       "      <td>0</td>\n",
       "      <td>0</td>\n",
       "      <td>0</td>\n",
       "    </tr>\n",
       "    <tr>\n",
       "      <th>3</th>\n",
       "      <td>1995-04-01</td>\n",
       "      <td>129</td>\n",
       "      <td>Apr</td>\n",
       "      <td>1995</td>\n",
       "      <td>1</td>\n",
       "      <td>0</td>\n",
       "      <td>0</td>\n",
       "      <td>0</td>\n",
       "      <td>0</td>\n",
       "      <td>0</td>\n",
       "      <td>0</td>\n",
       "      <td>0</td>\n",
       "      <td>0</td>\n",
       "      <td>0</td>\n",
       "      <td>0</td>\n",
       "      <td>0</td>\n",
       "    </tr>\n",
       "    <tr>\n",
       "      <th>4</th>\n",
       "      <td>1995-05-01</td>\n",
       "      <td>121</td>\n",
       "      <td>May</td>\n",
       "      <td>1995</td>\n",
       "      <td>0</td>\n",
       "      <td>0</td>\n",
       "      <td>0</td>\n",
       "      <td>0</td>\n",
       "      <td>0</td>\n",
       "      <td>0</td>\n",
       "      <td>0</td>\n",
       "      <td>0</td>\n",
       "      <td>1</td>\n",
       "      <td>0</td>\n",
       "      <td>0</td>\n",
       "      <td>0</td>\n",
       "    </tr>\n",
       "    <tr>\n",
       "      <th>...</th>\n",
       "      <td>...</td>\n",
       "      <td>...</td>\n",
       "      <td>...</td>\n",
       "      <td>...</td>\n",
       "      <td>...</td>\n",
       "      <td>...</td>\n",
       "      <td>...</td>\n",
       "      <td>...</td>\n",
       "      <td>...</td>\n",
       "      <td>...</td>\n",
       "      <td>...</td>\n",
       "      <td>...</td>\n",
       "      <td>...</td>\n",
       "      <td>...</td>\n",
       "      <td>...</td>\n",
       "      <td>...</td>\n",
       "    </tr>\n",
       "    <tr>\n",
       "      <th>91</th>\n",
       "      <td>2002-08-01</td>\n",
       "      <td>405</td>\n",
       "      <td>Aug</td>\n",
       "      <td>2002</td>\n",
       "      <td>0</td>\n",
       "      <td>1</td>\n",
       "      <td>0</td>\n",
       "      <td>0</td>\n",
       "      <td>0</td>\n",
       "      <td>0</td>\n",
       "      <td>0</td>\n",
       "      <td>0</td>\n",
       "      <td>0</td>\n",
       "      <td>0</td>\n",
       "      <td>0</td>\n",
       "      <td>0</td>\n",
       "    </tr>\n",
       "    <tr>\n",
       "      <th>92</th>\n",
       "      <td>2002-09-01</td>\n",
       "      <td>355</td>\n",
       "      <td>Sep</td>\n",
       "      <td>2002</td>\n",
       "      <td>0</td>\n",
       "      <td>0</td>\n",
       "      <td>0</td>\n",
       "      <td>0</td>\n",
       "      <td>0</td>\n",
       "      <td>0</td>\n",
       "      <td>0</td>\n",
       "      <td>0</td>\n",
       "      <td>0</td>\n",
       "      <td>0</td>\n",
       "      <td>0</td>\n",
       "      <td>1</td>\n",
       "    </tr>\n",
       "    <tr>\n",
       "      <th>93</th>\n",
       "      <td>2002-10-01</td>\n",
       "      <td>306</td>\n",
       "      <td>Oct</td>\n",
       "      <td>2002</td>\n",
       "      <td>0</td>\n",
       "      <td>0</td>\n",
       "      <td>0</td>\n",
       "      <td>0</td>\n",
       "      <td>0</td>\n",
       "      <td>0</td>\n",
       "      <td>0</td>\n",
       "      <td>0</td>\n",
       "      <td>0</td>\n",
       "      <td>0</td>\n",
       "      <td>1</td>\n",
       "      <td>0</td>\n",
       "    </tr>\n",
       "    <tr>\n",
       "      <th>94</th>\n",
       "      <td>2002-11-01</td>\n",
       "      <td>271</td>\n",
       "      <td>Nov</td>\n",
       "      <td>2002</td>\n",
       "      <td>0</td>\n",
       "      <td>0</td>\n",
       "      <td>0</td>\n",
       "      <td>0</td>\n",
       "      <td>0</td>\n",
       "      <td>0</td>\n",
       "      <td>0</td>\n",
       "      <td>0</td>\n",
       "      <td>0</td>\n",
       "      <td>1</td>\n",
       "      <td>0</td>\n",
       "      <td>0</td>\n",
       "    </tr>\n",
       "    <tr>\n",
       "      <th>95</th>\n",
       "      <td>2002-12-01</td>\n",
       "      <td>306</td>\n",
       "      <td>Dec</td>\n",
       "      <td>2002</td>\n",
       "      <td>0</td>\n",
       "      <td>0</td>\n",
       "      <td>1</td>\n",
       "      <td>0</td>\n",
       "      <td>0</td>\n",
       "      <td>0</td>\n",
       "      <td>0</td>\n",
       "      <td>0</td>\n",
       "      <td>0</td>\n",
       "      <td>0</td>\n",
       "      <td>0</td>\n",
       "      <td>0</td>\n",
       "    </tr>\n",
       "  </tbody>\n",
       "</table>\n",
       "<p>96 rows × 16 columns</p>\n",
       "</div>"
      ],
      "text/plain": [
       "         Date  Passengers Month  Year  Apr  Aug  Dec  Feb  Jan  Jul  Jun  Mar  \\\n",
       "0  1995-01-01         112   Jan  1995    0    0    0    0    1    0    0    0   \n",
       "1  1995-02-01         118   Feb  1995    0    0    0    1    0    0    0    0   \n",
       "2  1995-03-01         132   Mar  1995    0    0    0    0    0    0    0    1   \n",
       "3  1995-04-01         129   Apr  1995    1    0    0    0    0    0    0    0   \n",
       "4  1995-05-01         121   May  1995    0    0    0    0    0    0    0    0   \n",
       "..        ...         ...   ...   ...  ...  ...  ...  ...  ...  ...  ...  ...   \n",
       "91 2002-08-01         405   Aug  2002    0    1    0    0    0    0    0    0   \n",
       "92 2002-09-01         355   Sep  2002    0    0    0    0    0    0    0    0   \n",
       "93 2002-10-01         306   Oct  2002    0    0    0    0    0    0    0    0   \n",
       "94 2002-11-01         271   Nov  2002    0    0    0    0    0    0    0    0   \n",
       "95 2002-12-01         306   Dec  2002    0    0    1    0    0    0    0    0   \n",
       "\n",
       "    May  Nov  Oct  Sep  \n",
       "0     0    0    0    0  \n",
       "1     0    0    0    0  \n",
       "2     0    0    0    0  \n",
       "3     0    0    0    0  \n",
       "4     1    0    0    0  \n",
       "..  ...  ...  ...  ...  \n",
       "91    0    0    0    0  \n",
       "92    0    0    0    1  \n",
       "93    0    0    1    0  \n",
       "94    0    1    0    0  \n",
       "95    0    0    0    0  \n",
       "\n",
       "[96 rows x 16 columns]"
      ]
     },
     "execution_count": 20,
     "metadata": {},
     "output_type": "execute_result"
    }
   ],
   "source": [
    "# getting dummies of the Month column and performing concatenation\n",
    "month_dummies = pd.DataFrame(pd.get_dummies(airlines['Month']))\n",
    "data = pd.concat([airlines, month_dummies],axis = 1)\n",
    "data"
   ]
  },
  {
   "cell_type": "markdown",
   "id": "50906492",
   "metadata": {},
   "source": [
    "#### Applying Transformations"
   ]
  },
  {
   "cell_type": "code",
   "execution_count": 21,
   "id": "651eba6a",
   "metadata": {
    "ExecuteTime": {
     "end_time": "2023-09-03T18:49:50.404207Z",
     "start_time": "2023-09-03T18:49:50.371033Z"
    }
   },
   "outputs": [
    {
     "data": {
      "text/html": [
       "<div>\n",
       "<style scoped>\n",
       "    .dataframe tbody tr th:only-of-type {\n",
       "        vertical-align: middle;\n",
       "    }\n",
       "\n",
       "    .dataframe tbody tr th {\n",
       "        vertical-align: top;\n",
       "    }\n",
       "\n",
       "    .dataframe thead th {\n",
       "        text-align: right;\n",
       "    }\n",
       "</style>\n",
       "<table border=\"1\" class=\"dataframe\">\n",
       "  <thead>\n",
       "    <tr style=\"text-align: right;\">\n",
       "      <th></th>\n",
       "      <th>Date</th>\n",
       "      <th>Passengers</th>\n",
       "      <th>Month</th>\n",
       "      <th>Year</th>\n",
       "      <th>Apr</th>\n",
       "      <th>Aug</th>\n",
       "      <th>Dec</th>\n",
       "      <th>Feb</th>\n",
       "      <th>Jan</th>\n",
       "      <th>Jul</th>\n",
       "      <th>Jun</th>\n",
       "      <th>Mar</th>\n",
       "      <th>May</th>\n",
       "      <th>Nov</th>\n",
       "      <th>Oct</th>\n",
       "      <th>Sep</th>\n",
       "      <th>t</th>\n",
       "      <th>t_sq</th>\n",
       "      <th>log</th>\n",
       "    </tr>\n",
       "  </thead>\n",
       "  <tbody>\n",
       "    <tr>\n",
       "      <th>0</th>\n",
       "      <td>1995-01-01</td>\n",
       "      <td>112</td>\n",
       "      <td>Jan</td>\n",
       "      <td>1995</td>\n",
       "      <td>0</td>\n",
       "      <td>0</td>\n",
       "      <td>0</td>\n",
       "      <td>0</td>\n",
       "      <td>1</td>\n",
       "      <td>0</td>\n",
       "      <td>0</td>\n",
       "      <td>0</td>\n",
       "      <td>0</td>\n",
       "      <td>0</td>\n",
       "      <td>0</td>\n",
       "      <td>0</td>\n",
       "      <td>1</td>\n",
       "      <td>1</td>\n",
       "      <td>4.718499</td>\n",
       "    </tr>\n",
       "    <tr>\n",
       "      <th>1</th>\n",
       "      <td>1995-02-01</td>\n",
       "      <td>118</td>\n",
       "      <td>Feb</td>\n",
       "      <td>1995</td>\n",
       "      <td>0</td>\n",
       "      <td>0</td>\n",
       "      <td>0</td>\n",
       "      <td>1</td>\n",
       "      <td>0</td>\n",
       "      <td>0</td>\n",
       "      <td>0</td>\n",
       "      <td>0</td>\n",
       "      <td>0</td>\n",
       "      <td>0</td>\n",
       "      <td>0</td>\n",
       "      <td>0</td>\n",
       "      <td>2</td>\n",
       "      <td>4</td>\n",
       "      <td>4.770685</td>\n",
       "    </tr>\n",
       "    <tr>\n",
       "      <th>2</th>\n",
       "      <td>1995-03-01</td>\n",
       "      <td>132</td>\n",
       "      <td>Mar</td>\n",
       "      <td>1995</td>\n",
       "      <td>0</td>\n",
       "      <td>0</td>\n",
       "      <td>0</td>\n",
       "      <td>0</td>\n",
       "      <td>0</td>\n",
       "      <td>0</td>\n",
       "      <td>0</td>\n",
       "      <td>1</td>\n",
       "      <td>0</td>\n",
       "      <td>0</td>\n",
       "      <td>0</td>\n",
       "      <td>0</td>\n",
       "      <td>3</td>\n",
       "      <td>9</td>\n",
       "      <td>4.882802</td>\n",
       "    </tr>\n",
       "    <tr>\n",
       "      <th>3</th>\n",
       "      <td>1995-04-01</td>\n",
       "      <td>129</td>\n",
       "      <td>Apr</td>\n",
       "      <td>1995</td>\n",
       "      <td>1</td>\n",
       "      <td>0</td>\n",
       "      <td>0</td>\n",
       "      <td>0</td>\n",
       "      <td>0</td>\n",
       "      <td>0</td>\n",
       "      <td>0</td>\n",
       "      <td>0</td>\n",
       "      <td>0</td>\n",
       "      <td>0</td>\n",
       "      <td>0</td>\n",
       "      <td>0</td>\n",
       "      <td>4</td>\n",
       "      <td>16</td>\n",
       "      <td>4.859812</td>\n",
       "    </tr>\n",
       "    <tr>\n",
       "      <th>4</th>\n",
       "      <td>1995-05-01</td>\n",
       "      <td>121</td>\n",
       "      <td>May</td>\n",
       "      <td>1995</td>\n",
       "      <td>0</td>\n",
       "      <td>0</td>\n",
       "      <td>0</td>\n",
       "      <td>0</td>\n",
       "      <td>0</td>\n",
       "      <td>0</td>\n",
       "      <td>0</td>\n",
       "      <td>0</td>\n",
       "      <td>1</td>\n",
       "      <td>0</td>\n",
       "      <td>0</td>\n",
       "      <td>0</td>\n",
       "      <td>5</td>\n",
       "      <td>25</td>\n",
       "      <td>4.795791</td>\n",
       "    </tr>\n",
       "  </tbody>\n",
       "</table>\n",
       "</div>"
      ],
      "text/plain": [
       "        Date  Passengers Month  Year  Apr  Aug  Dec  Feb  Jan  Jul  Jun  Mar  \\\n",
       "0 1995-01-01         112   Jan  1995    0    0    0    0    1    0    0    0   \n",
       "1 1995-02-01         118   Feb  1995    0    0    0    1    0    0    0    0   \n",
       "2 1995-03-01         132   Mar  1995    0    0    0    0    0    0    0    1   \n",
       "3 1995-04-01         129   Apr  1995    1    0    0    0    0    0    0    0   \n",
       "4 1995-05-01         121   May  1995    0    0    0    0    0    0    0    0   \n",
       "\n",
       "   May  Nov  Oct  Sep  t  t_sq       log  \n",
       "0    0    0    0    0  1     1  4.718499  \n",
       "1    0    0    0    0  2     4  4.770685  \n",
       "2    0    0    0    0  3     9  4.882802  \n",
       "3    0    0    0    0  4    16  4.859812  \n",
       "4    1    0    0    0  5    25  4.795791  "
      ]
     },
     "execution_count": 21,
     "metadata": {},
     "output_type": "execute_result"
    }
   ],
   "source": [
    "data[\"t\"] = np.arange(1,97)\n",
    "data[\"t_sq\"] = data[\"t\"]*data[\"t\"]\n",
    "data[\"log\"] = np.log(data[\"Passengers\"])\n",
    "\n",
    "data.head()"
   ]
  },
  {
   "cell_type": "code",
   "execution_count": 22,
   "id": "06a48238",
   "metadata": {
    "ExecuteTime": {
     "end_time": "2023-09-03T18:49:50.905463Z",
     "start_time": "2023-09-03T18:49:50.406238Z"
    }
   },
   "outputs": [
    {
     "data": {
      "image/png": "[encoded data removed]",
      "text/plain": [
       "<Figure size 576x360 with 2 Axes>"
      ]
     },
     "metadata": {
      "needs_background": "light"
     },
     "output_type": "display_data"
    }
   ],
   "source": [
    "# plotting heatmap between months and years\n",
    "plt.figure(figsize=(8,5))\n",
    "Y_month = pd.pivot_table(data=data, values=\"Passengers\", index=\"Year\", \n",
    "                         columns=\"Month\", aggfunc=\"mean\", fill_value=0)\n",
    "sns.heatmap(Y_month, annot=True, fmt=\"g\");"
   ]
  },
  {
   "cell_type": "code",
   "execution_count": 23,
   "id": "e82582bf",
   "metadata": {
    "ExecuteTime": {
     "end_time": "2023-09-03T18:49:51.153627Z",
     "start_time": "2023-09-03T18:49:50.908373Z"
    }
   },
   "outputs": [
    {
     "data": {
      "image/png": "[encoded data removed]",
      "text/plain": [
       "<Figure size 720x216 with 1 Axes>"
      ]
     },
     "metadata": {
      "needs_background": "light"
     },
     "output_type": "display_data"
    }
   ],
   "source": [
    "# creating lineplot\n",
    "plt.figure(figsize=(10,3))\n",
    "sns.lineplot(x=\"Year\", y=\"Passengers\", data=data);"
   ]
  },
  {
   "cell_type": "markdown",
   "id": "54676c08",
   "metadata": {},
   "source": [
    "So, from all the plots we can observe that the dataset has upward trend with multiplicative seasonality."
   ]
  },
  {
   "cell_type": "markdown",
   "id": "22f22734",
   "metadata": {},
   "source": [
    "### Splitting the Data"
   ]
  },
  {
   "cell_type": "code",
   "execution_count": 24,
   "id": "3f29fb76",
   "metadata": {
    "ExecuteTime": {
     "end_time": "2023-09-03T18:49:51.168856Z",
     "start_time": "2023-09-03T18:49:51.156247Z"
    }
   },
   "outputs": [],
   "source": [
    "# splitting the data into train and test data\n",
    "train = data.head(80)\n",
    "test = data.tail(16)"
   ]
  },
  {
   "cell_type": "code",
   "execution_count": 25,
   "id": "bc2b078e",
   "metadata": {
    "ExecuteTime": {
     "end_time": "2023-09-03T18:49:51.184426Z",
     "start_time": "2023-09-03T18:49:51.170865Z"
    }
   },
   "outputs": [
    {
     "name": "stdout",
     "output_type": "stream",
     "text": [
      "(80, 19)\n",
      "(16, 19)\n"
     ]
    }
   ],
   "source": [
    "# printing the dimensions of the train and test data\n",
    "print(train.shape)\n",
    "print(test.shape) "
   ]
  },
  {
   "cell_type": "markdown",
   "id": "78215fae",
   "metadata": {},
   "source": [
    "### Evaluation Metrics - RMSE & MAPE"
   ]
  },
  {
   "cell_type": "code",
   "execution_count": 26,
   "id": "804a4e8d",
   "metadata": {
    "ExecuteTime": {
     "end_time": "2023-09-03T18:49:51.199603Z",
     "start_time": "2023-09-03T18:49:51.186337Z"
    }
   },
   "outputs": [],
   "source": [
    "def RMSE(pred, org):\n",
    "    air = np.mean((pred-org)**2)\n",
    "    return np.sqrt(air)"
   ]
  },
  {
   "cell_type": "code",
   "execution_count": 27,
   "id": "2def9459",
   "metadata": {
    "ExecuteTime": {
     "end_time": "2023-09-03T18:49:51.215374Z",
     "start_time": "2023-09-03T18:49:51.201593Z"
    }
   },
   "outputs": [],
   "source": [
    "def MAPE(pred, org):\n",
    "    air = np.abs(((pred-org)/org)*100)\n",
    "    return np.mean(air)"
   ]
  },
  {
   "cell_type": "markdown",
   "id": "28d389bb",
   "metadata": {},
   "source": [
    "# Building Models"
   ]
  },
  {
   "cell_type": "markdown",
   "id": "2f2438d7",
   "metadata": {},
   "source": [
    "### LINEAR MODEL"
   ]
  },
  {
   "cell_type": "code",
   "execution_count": 28,
   "id": "b3f4faf7",
   "metadata": {
    "ExecuteTime": {
     "end_time": "2023-09-03T18:49:51.246488Z",
     "start_time": "2023-09-03T18:49:51.221449Z"
    }
   },
   "outputs": [
    {
     "data": {
      "text/plain": [
       "80    281.560759\n",
       "81    283.736334\n",
       "82    285.911908\n",
       "83    288.087482\n",
       "84    290.263057\n",
       "85    292.438631\n",
       "86    294.614205\n",
       "87    296.789780\n",
       "88    298.965354\n",
       "89    301.140928\n",
       "90    303.316503\n",
       "91    305.492077\n",
       "92    307.667651\n",
       "93    309.843226\n",
       "94    312.018800\n",
       "95    314.194374\n",
       "dtype: float64"
      ]
     },
     "execution_count": 28,
     "metadata": {},
     "output_type": "execute_result"
    }
   ],
   "source": [
    "# Fitting the linear model and predicting\n",
    "lin_model = smf.ols(\"Passengers~t\", data=train).fit()\n",
    "lin_pred = pd.Series(lin_model.predict(pd.DataFrame(test[\"t\"])))\n",
    "lin_pred"
   ]
  },
  {
   "cell_type": "code",
   "execution_count": 29,
   "id": "af1ea2a6",
   "metadata": {
    "ExecuteTime": {
     "end_time": "2023-09-03T18:49:51.261614Z",
     "start_time": "2023-09-03T18:49:51.248582Z"
    }
   },
   "outputs": [
    {
     "name": "stdout",
     "output_type": "stream",
     "text": [
      "RMSE of the Linear Model :  47.542624067726805\n",
      "MAPE of the Linear Model :  10.412065149364267\n"
     ]
    }
   ],
   "source": [
    "# To get RMSE of the linear model\n",
    "lin_rmse = RMSE(lin_pred, test['Passengers'])\n",
    "print('RMSE of the Linear Model : ',lin_rmse)\n",
    "\n",
    "# To get MAPE of the linear model\n",
    "lin_mape = MAPE(lin_pred, test['Passengers'])\n",
    "print('MAPE of the Linear Model : ',lin_mape)"
   ]
  },
  {
   "cell_type": "markdown",
   "id": "8fed93b2",
   "metadata": {},
   "source": [
    "### EXPONENTIAL MODEL"
   ]
  },
  {
   "cell_type": "code",
   "execution_count": 30,
   "id": "91db06e4",
   "metadata": {
    "ExecuteTime": {
     "end_time": "2023-09-03T18:49:51.292549Z",
     "start_time": "2023-09-03T18:49:51.263531Z"
    }
   },
   "outputs": [
    {
     "data": {
      "text/plain": [
       "80    294.021373\n",
       "81    297.385627\n",
       "82    300.788376\n",
       "83    304.230059\n",
       "84    307.711123\n",
       "85    311.232018\n",
       "86    314.793200\n",
       "87    318.395130\n",
       "88    322.038274\n",
       "89    325.723103\n",
       "90    329.450095\n",
       "91    333.219732\n",
       "92    337.032502\n",
       "93    340.888898\n",
       "94    344.789420\n",
       "95    348.734573\n",
       "dtype: float64"
      ]
     },
     "execution_count": 30,
     "metadata": {},
     "output_type": "execute_result"
    }
   ],
   "source": [
    "# Fitting the exponential model and predicting\n",
    "exp_model = smf.ols(\"log~t\", data=train).fit()\n",
    "exp_pred = np.exp(pd.Series(exp_model.predict(pd.DataFrame(test[\"t\"]))))\n",
    "exp_pred"
   ]
  },
  {
   "cell_type": "code",
   "execution_count": 31,
   "id": "d3a8168d",
   "metadata": {
    "ExecuteTime": {
     "end_time": "2023-09-03T18:49:51.307977Z",
     "start_time": "2023-09-03T18:49:51.295508Z"
    }
   },
   "outputs": [
    {
     "name": "stdout",
     "output_type": "stream",
     "text": [
      "RMSE of the Exponential Model :  43.79373939334308\n",
      "MAPE of the Exponential Model :  11.472693597730398\n"
     ]
    }
   ],
   "source": [
    "# To get RMSE of the exponential model\n",
    "exp_rmse = RMSE(exp_pred, test['Passengers'])\n",
    "print('RMSE of the Exponential Model : ',exp_rmse)\n",
    "\n",
    "# To get MAPE of the exponential model\n",
    "exp_mape = MAPE(exp_pred, test['Passengers'])\n",
    "print('MAPE of the Exponential Model : ',exp_mape)"
   ]
  },
  {
   "cell_type": "markdown",
   "id": "4d6b1964",
   "metadata": {},
   "source": [
    "### QUADRATIC MODEL"
   ]
  },
  {
   "cell_type": "code",
   "execution_count": 32,
   "id": "28afe892",
   "metadata": {
    "ExecuteTime": {
     "end_time": "2023-09-03T18:49:51.339306Z",
     "start_time": "2023-09-03T18:49:51.309972Z"
    }
   },
   "outputs": [
    {
     "data": {
      "text/plain": [
       "80    294.174684\n",
       "81    297.284623\n",
       "82    300.417351\n",
       "83    303.572869\n",
       "84    306.751176\n",
       "85    309.952273\n",
       "86    313.176159\n",
       "87    316.422834\n",
       "88    319.692299\n",
       "89    322.984553\n",
       "90    326.299596\n",
       "91    329.637429\n",
       "92    332.998052\n",
       "93    336.381463\n",
       "94    339.787664\n",
       "95    343.216655\n",
       "dtype: float64"
      ]
     },
     "execution_count": 32,
     "metadata": {},
     "output_type": "execute_result"
    }
   ],
   "source": [
    "# Fitting the quadratic model and predicting\n",
    "quad_model = smf.ols(\"Passengers ~ t+t_sq\", data=train).fit()\n",
    "quad_pred = pd.Series(quad_model.predict(pd.DataFrame(test[[\"t\",\"t_sq\"]])))\n",
    "quad_pred"
   ]
  },
  {
   "cell_type": "code",
   "execution_count": 33,
   "id": "5789f952",
   "metadata": {
    "ExecuteTime": {
     "end_time": "2023-09-03T18:49:51.355181Z",
     "start_time": "2023-09-03T18:49:51.341227Z"
    }
   },
   "outputs": [
    {
     "name": "stdout",
     "output_type": "stream",
     "text": [
      "RMSE of the Quadratic Model :  43.65440369584248\n",
      "MAPE of the Quadratic Model :  11.23878199954824\n"
     ]
    }
   ],
   "source": [
    "# To get RMSE of the quadratic model\n",
    "quad_rmse = RMSE(quad_pred, test['Passengers'])\n",
    "print('RMSE of the Quadratic Model : ',quad_rmse)\n",
    "\n",
    "# To get MAPE of the quadratic model\n",
    "quad_mape = MAPE(quad_pred, test['Passengers'])\n",
    "print('MAPE of the Quadratic Model : ',quad_mape)"
   ]
  },
  {
   "cell_type": "markdown",
   "id": "f4ea143c",
   "metadata": {},
   "source": [
    "## Exponential Smoothing"
   ]
  },
  {
   "cell_type": "code",
   "execution_count": 34,
   "id": "cfcb91a9",
   "metadata": {
    "ExecuteTime": {
     "end_time": "2023-09-03T18:49:51.370976Z",
     "start_time": "2023-09-03T18:49:51.357179Z"
    }
   },
   "outputs": [],
   "source": [
    "from statsmodels.tsa.holtwinters import SimpleExpSmoothing\n",
    "from statsmodels.tsa.holtwinters import Holt\n",
    "from statsmodels.tsa.holtwinters import ExponentialSmoothing"
   ]
  },
  {
   "cell_type": "markdown",
   "id": "89c88c4e",
   "metadata": {},
   "source": [
    "### SIMPLE EXPONENTIAL METHOD"
   ]
  },
  {
   "cell_type": "code",
   "execution_count": 35,
   "id": "8f08ba09",
   "metadata": {
    "ExecuteTime": {
     "end_time": "2023-09-03T18:49:51.386261Z",
     "start_time": "2023-09-03T18:49:51.374247Z"
    }
   },
   "outputs": [
    {
     "data": {
      "text/plain": [
       "80    297.434175\n",
       "81    297.434175\n",
       "82    297.434175\n",
       "83    297.434175\n",
       "84    297.434175\n",
       "85    297.434175\n",
       "86    297.434175\n",
       "87    297.434175\n",
       "88    297.434175\n",
       "89    297.434175\n",
       "90    297.434175\n",
       "91    297.434175\n",
       "92    297.434175\n",
       "93    297.434175\n",
       "94    297.434175\n",
       "95    297.434175\n",
       "dtype: float64"
      ]
     },
     "execution_count": 35,
     "metadata": {},
     "output_type": "execute_result"
    }
   ],
   "source": [
    "# Fitting the simple exponential model and predicting\n",
    "sim_exp_m = SimpleExpSmoothing(train[\"Passengers\"]).fit(smoothing_level=0.2)\n",
    "sim_exp_pred = sim_exp_m.predict(start=test.index[0], end=test.index[-1])\n",
    "sim_exp_pred"
   ]
  },
  {
   "cell_type": "code",
   "execution_count": 36,
   "id": "43edc607",
   "metadata": {
    "ExecuteTime": {
     "end_time": "2023-09-03T18:49:51.401290Z",
     "start_time": "2023-09-03T18:49:51.388327Z"
    }
   },
   "outputs": [
    {
     "name": "stdout",
     "output_type": "stream",
     "text": [
      "RMSE of the Simple Exponential Model :  50.85821662656279\n",
      "MAPE of the Simple Exponential Model :  11.375850554268187\n"
     ]
    }
   ],
   "source": [
    "# To get RMSE of the simple exponential model\n",
    "sim_exp_rmse = RMSE(sim_exp_pred, test['Passengers'])\n",
    "print('RMSE of the Simple Exponential Model : ',sim_exp_rmse)\n",
    "\n",
    "# To get MAPE of the simple exponential model\n",
    "sim_exp_mape = MAPE(sim_exp_pred, test['Passengers'])\n",
    "print('MAPE of the Simple Exponential Model : ',sim_exp_mape)"
   ]
  },
  {
   "cell_type": "markdown",
   "id": "ace3defa",
   "metadata": {},
   "source": [
    "### HOLT METHOD"
   ]
  },
  {
   "cell_type": "code",
   "execution_count": 37,
   "id": "1d70d9de",
   "metadata": {
    "ExecuteTime": {
     "end_time": "2023-09-03T18:49:51.432619Z",
     "start_time": "2023-09-03T18:49:51.403283Z"
    }
   },
   "outputs": [
    {
     "data": {
      "text/plain": [
       "80    359.391457\n",
       "81    371.782913\n",
       "82    384.174370\n",
       "83    396.565826\n",
       "84    408.957283\n",
       "85    421.348739\n",
       "86    433.740196\n",
       "87    446.131652\n",
       "88    458.523109\n",
       "89    470.914565\n",
       "90    483.306022\n",
       "91    495.697478\n",
       "92    508.088935\n",
       "93    520.480391\n",
       "94    532.871848\n",
       "95    545.263304\n",
       "dtype: float64"
      ]
     },
     "execution_count": 37,
     "metadata": {},
     "output_type": "execute_result"
    }
   ],
   "source": [
    "# Fitting the model using HOLT method and predicting\n",
    "holt_model = Holt(train[\"Passengers\"]).fit(smoothing_trend=0.2)\n",
    "holt_pred = holt_model.predict(start=test.index[0], end=test.index[-1])\n",
    "holt_pred"
   ]
  },
  {
   "cell_type": "code",
   "execution_count": 38,
   "id": "bc680ab4",
   "metadata": {
    "ExecuteTime": {
     "end_time": "2023-09-03T18:49:51.447589Z",
     "start_time": "2023-09-03T18:49:51.434688Z"
    }
   },
   "outputs": [
    {
     "name": "stdout",
     "output_type": "stream",
     "text": [
      "RMSE of the Holt Model :  148.5132127374089\n",
      "MAPE of the Holt Model :  45.540892154678176\n"
     ]
    }
   ],
   "source": [
    "# To get RMSE of the model using holt method\n",
    "holt_rmse = RMSE(holt_pred, test['Passengers'])\n",
    "print('RMSE of the Holt Model : ',holt_rmse)\n",
    "\n",
    "# To get MAPE of the model using holt method\n",
    "holt_mape = MAPE(holt_pred, test['Passengers'])\n",
    "print('MAPE of the Holt Model : ',holt_mape)"
   ]
  },
  {
   "cell_type": "markdown",
   "id": "2311d7ff",
   "metadata": {},
   "source": [
    "### HOLTS WINTER EXPONENTIAL SMOOTHING \n",
    "    with multiplicative seasonality and additive trend"
   ]
  },
  {
   "cell_type": "code",
   "execution_count": 39,
   "id": "727904ce",
   "metadata": {
    "ExecuteTime": {
     "end_time": "2023-09-03T18:49:51.604277Z",
     "start_time": "2023-09-03T18:49:51.449570Z"
    }
   },
   "outputs": [
    {
     "data": {
      "text/plain": [
       "80    310.167268\n",
       "81    273.378174\n",
       "82    239.338259\n",
       "83    270.781639\n",
       "84    276.720023\n",
       "85    274.057772\n",
       "86    317.640977\n",
       "87    307.796180\n",
       "88    306.484939\n",
       "89    343.879832\n",
       "90    384.064790\n",
       "91    379.426951\n",
       "92    336.660236\n",
       "93    296.563764\n",
       "94    259.494420\n",
       "95    293.426918\n",
       "dtype: float64"
      ]
     },
     "execution_count": 39,
     "metadata": {},
     "output_type": "execute_result"
    }
   ],
   "source": [
    "# Fitting the model using HOLTs winter exponential smoothing method and predicting\n",
    "holt_exp_mm = ExponentialSmoothing(train[\"Passengers\"], seasonal=\"mul\", \n",
    "                                   trend=\"add\", seasonal_periods=12).fit()\n",
    "holt_exp_pred = holt_exp_mm.predict(start=test.index[0], end=test.index[-1])\n",
    "holt_exp_pred"
   ]
  },
  {
   "cell_type": "code",
   "execution_count": 40,
   "id": "af5d0f82",
   "metadata": {
    "ExecuteTime": {
     "end_time": "2023-09-03T18:49:51.619313Z",
     "start_time": "2023-09-03T18:49:51.607379Z"
    }
   },
   "outputs": [
    {
     "name": "stdout",
     "output_type": "stream",
     "text": [
      "RMSE of the Holts Exponential Smoothening(mul) Model :  14.571722870667635\n",
      "MAPE of the Holt Exponential Smoothening(mul) Model :  3.217948455752744\n"
     ]
    }
   ],
   "source": [
    "# To get RMSE of the model using holts exponential method\n",
    "holt_exp_m_rmse = RMSE(holt_exp_pred, test['Passengers'])\n",
    "print('RMSE of the Holts Exponential Smoothing(mul) Model : ',holt_exp_m_rmse)\n",
    "\n",
    "# To get MAPE of the model using holts exponential method\n",
    "holt_exp_m_mape = MAPE(holt_exp_pred, test['Passengers'])\n",
    "print('MAPE of the Holt Exponential Smoothing(mul) Model : ',holt_exp_m_mape)"
   ]
  },
  {
   "cell_type": "markdown",
   "id": "b1575f27",
   "metadata": {},
   "source": [
    "### HOLTS WINTER EXPONENTIAL SMOOTHING\n",
    "    with additive seasonality and additive trend"
   ]
  },
  {
   "cell_type": "code",
   "execution_count": 41,
   "id": "0e335bad",
   "metadata": {
    "ExecuteTime": {
     "end_time": "2023-09-03T18:49:51.777262Z",
     "start_time": "2023-09-03T18:49:51.622229Z"
    }
   },
   "outputs": [
    {
     "data": {
      "text/plain": [
       "80    325.215483\n",
       "81    302.216365\n",
       "82    281.215990\n",
       "83    302.716049\n",
       "84    306.816167\n",
       "85    307.671938\n",
       "86    334.958307\n",
       "87    328.816353\n",
       "88    328.101757\n",
       "89    352.101016\n",
       "90    377.102978\n",
       "91    376.245530\n",
       "92    352.990579\n",
       "93    329.991461\n",
       "94    308.991086\n",
       "95    330.491145\n",
       "dtype: float64"
      ]
     },
     "execution_count": 41,
     "metadata": {},
     "output_type": "execute_result"
    }
   ],
   "source": [
    "# Fitting the model using HOLTs winter exponential smoothening method and predicting\n",
    "holt_exp_am = ExponentialSmoothing(train[\"Passengers\"], seasonal=\"add\", \n",
    "                                   trend=\"add\", seasonal_periods=12).fit()\n",
    "holt_exp_pred = holt_exp_am.predict(start=test.index[0], end=test.index[-1])\n",
    "holt_exp_pred"
   ]
  },
  {
   "cell_type": "code",
   "execution_count": 42,
   "id": "bb6f9726",
   "metadata": {
    "ExecuteTime": {
     "end_time": "2023-09-03T18:49:51.793303Z",
     "start_time": "2023-09-03T18:49:51.779159Z"
    }
   },
   "outputs": [
    {
     "name": "stdout",
     "output_type": "stream",
     "text": [
      "RMSE of the Holts Exponential Smoothening(add) Model :  26.08944405460314\n",
      "MAPE of the Holt Exponential Smoothening(add) Model :  7.947398732995254\n"
     ]
    }
   ],
   "source": [
    "# To get RMSE of the model using holts exponential method\n",
    "holt_exp_a_rmse = RMSE(holt_exp_pred, test['Passengers'])\n",
    "print('RMSE of the Holts Exponential Smoothing(add) Model : ',holt_exp_a_rmse)\n",
    "\n",
    "# To get MAPE of the model using holts exponential method\n",
    "holt_exp_a_mape = MAPE(holt_exp_pred, test['Passengers'])\n",
    "print('MAPE of the Holt Exponential Smoothing(add) Model : ',holt_exp_a_mape)"
   ]
  },
  {
   "cell_type": "markdown",
   "id": "5a4f55e8",
   "metadata": {},
   "source": [
    "## Seasonalities"
   ]
  },
  {
   "cell_type": "markdown",
   "id": "fdc420fc",
   "metadata": {},
   "source": [
    "### ADDITIVE SEASONALITY"
   ]
  },
  {
   "cell_type": "code",
   "execution_count": 43,
   "id": "15072e8c",
   "metadata": {
    "ExecuteTime": {
     "end_time": "2023-09-03T18:49:51.839242Z",
     "start_time": "2023-09-03T18:49:51.794828Z"
    }
   },
   "outputs": [
    {
     "data": {
      "text/plain": [
       "80    197.166667\n",
       "81    174.166667\n",
       "82    153.166667\n",
       "83    174.666667\n",
       "84    169.285714\n",
       "85    170.142857\n",
       "86    197.428571\n",
       "87    191.285714\n",
       "88    190.571429\n",
       "89    214.571429\n",
       "90    239.571429\n",
       "91    238.714286\n",
       "92    197.166667\n",
       "93    174.166667\n",
       "94    153.166667\n",
       "95    174.666667\n",
       "dtype: float64"
      ]
     },
     "execution_count": 43,
     "metadata": {},
     "output_type": "execute_result"
    }
   ],
   "source": [
    "# Fitting the model using additive seasonality and predicting\n",
    "adds_model = smf.ols(\"Passengers ~ Apr+Aug+Dec+Feb+Jan+Jul+Jun+Mar+May+Nov+Oct+Sep\", data=train).fit()\n",
    "adds_pred = pd. Series(adds_model.predict(pd.DataFrame(test[['Apr','Aug','Dec','Feb','Jan','Jul',\n",
    "                                                             'Jun','Mar','May','Nov','Oct','Sep']])))\n",
    "adds_pred"
   ]
  },
  {
   "cell_type": "code",
   "execution_count": 44,
   "id": "0de92630",
   "metadata": {
    "ExecuteTime": {
     "end_time": "2023-09-03T18:49:51.855196Z",
     "start_time": "2023-09-03T18:49:51.842232Z"
    }
   },
   "outputs": [
    {
     "name": "stdout",
     "output_type": "stream",
     "text": [
      "RMSE of the Additive Seasonality Model :  129.26647641443304\n",
      "MAPE of the Additive Seasonality Model :  40.0657925269333\n"
     ]
    }
   ],
   "source": [
    "# To get RMSE of the model using additive seasonality\n",
    "adds_rmse = RMSE(adds_pred, test['Passengers'])\n",
    "print('RMSE of the Additive Seasonality Model : ',adds_rmse)\n",
    "\n",
    "# To get MAPE of the model using additive seasonality \n",
    "adds_mape = MAPE(adds_pred, test['Passengers'])\n",
    "print('MAPE of the Additive Seasonality Model : ',adds_mape)"
   ]
  },
  {
   "cell_type": "markdown",
   "id": "2e1d2bd5",
   "metadata": {},
   "source": [
    "### ADDITIVE SEASONALITY WITH QUADRATIC TREND"
   ]
  },
  {
   "cell_type": "code",
   "execution_count": 45,
   "id": "538409aa",
   "metadata": {
    "ExecuteTime": {
     "end_time": "2023-09-03T18:49:51.903080Z",
     "start_time": "2023-09-03T18:49:51.858179Z"
    }
   },
   "outputs": [
    {
     "data": {
      "text/plain": [
       "80    295.660188\n",
       "81    273.296441\n",
       "82    252.932693\n",
       "83    275.068946\n",
       "84    281.849739\n",
       "85    283.434027\n",
       "86    311.446888\n",
       "87    306.031176\n",
       "88    306.044037\n",
       "89    330.771183\n",
       "90    356.498328\n",
       "91    356.368332\n",
       "92    329.618361\n",
       "93    307.436401\n",
       "94    287.254440\n",
       "95    309.572479\n",
       "dtype: float64"
      ]
     },
     "execution_count": 45,
     "metadata": {},
     "output_type": "execute_result"
    }
   ],
   "source": [
    "# Fitting the model using additive seasonality with quadratic trend and predicting\n",
    "adds_quad_m = smf.ols(\"Passengers ~ t+t_sq+Apr+Aug+Dec+Feb+Jan+Jul+Jun+Mar+May+Nov+Oct+Sep\", data=train).fit()\n",
    "adds_quad_pred = pd.Series(adds_quad_m.predict(pd.DataFrame(test[[\"t\",\"t_sq\",'Apr', 'Aug', 'Dec', \n",
    "                                                                  'Feb', 'Jan','Jul', 'Jun', 'Mar', \n",
    "                                                                  'May', 'Nov', 'Oct', 'Sep']])))\n",
    "adds_quad_pred"
   ]
  },
  {
   "cell_type": "code",
   "execution_count": 46,
   "id": "342c35be",
   "metadata": {
    "ExecuteTime": {
     "end_time": "2023-09-03T18:49:51.918642Z",
     "start_time": "2023-09-03T18:49:51.905599Z"
    }
   },
   "outputs": [
    {
     "name": "stdout",
     "output_type": "stream",
     "text": [
      "RMSE of the Additive Seasonality (Quad Trend) Model :  23.9109835701002\n",
      "MAPE of the Additive Seasonality (Quad Trend) Model :  4.75752836724243\n"
     ]
    }
   ],
   "source": [
    "# To get RMSE of the model using additive seasonality with quadratic trend\n",
    "adds_quad_rmse = RMSE(adds_quad_pred, test['Passengers'])\n",
    "print('RMSE of the Additive Seasonality (Quad Trend) Model : ',adds_quad_rmse)\n",
    "\n",
    "# To get MAPE of the model using additive seasonality with quadratic trend\n",
    "adds_quad_mape = MAPE(adds_quad_pred, test['Passengers'])\n",
    "print('MAPE of the Additive Seasonality (Quad Trend) Model : ',adds_quad_mape)"
   ]
  },
  {
   "cell_type": "markdown",
   "id": "8837adb6",
   "metadata": {},
   "source": [
    "### MULTIPLICATIVE SEASONALITY "
   ]
  },
  {
   "cell_type": "code",
   "execution_count": 47,
   "id": "207090bc",
   "metadata": {
    "ExecuteTime": {
     "end_time": "2023-09-03T18:49:51.967092Z",
     "start_time": "2023-09-03T18:49:51.920548Z"
    }
   },
   "outputs": [
    {
     "data": {
      "text/plain": [
       "80    192.398361\n",
       "81    169.438001\n",
       "82    148.855427\n",
       "83    170.408754\n",
       "84    163.250497\n",
       "85    165.816061\n",
       "86    191.568046\n",
       "87    184.843888\n",
       "88    183.056135\n",
       "89    206.057385\n",
       "90    229.388674\n",
       "91    229.474806\n",
       "92    192.398361\n",
       "93    169.438001\n",
       "94    148.855427\n",
       "95    170.408754\n",
       "dtype: float64"
      ]
     },
     "execution_count": 47,
     "metadata": {},
     "output_type": "execute_result"
    }
   ],
   "source": [
    "# Fitting the model using multiplicative seasonality and predicting\n",
    "muls_model = smf.ols(\"log ~ Apr+Aug+Dec+Feb+Jan+Jul+Jun+Mar+May+Nov+Oct+Sep\", data=train).fit()\n",
    "muls_pred = np.exp(pd.Series(muls_model.predict(pd.DataFrame(test[['Apr','Aug','Dec','Feb',\n",
    "                                                                       'Jan','Jul','Jun','Mar',\n",
    "                                                                       'May','Nov','Oct','Sep']]))))\n",
    "muls_pred"
   ]
  },
  {
   "cell_type": "code",
   "execution_count": 48,
   "id": "ee6688f3",
   "metadata": {
    "ExecuteTime": {
     "end_time": "2023-09-03T18:49:51.982323Z",
     "start_time": "2023-09-03T18:49:51.968384Z"
    }
   },
   "outputs": [
    {
     "name": "stdout",
     "output_type": "stream",
     "text": [
      "RMSE of the Multiplicative Seasonality Model :  135.3264841462107\n",
      "MAPE of the Multiplicative Seasonality Model :  41.90680946153701\n"
     ]
    }
   ],
   "source": [
    "# To get RMSE of the model using multiplicative seasonality\n",
    "muls_rmse = RMSE(muls_pred, test['Passengers'])\n",
    "print('RMSE of the Multiplicative Seasonality Model : ',muls_rmse)\n",
    "\n",
    "# To get MAPE of the model using multiplicative seasonality \n",
    "muls_mape = MAPE(muls_pred, test['Passengers'])\n",
    "print('MAPE of the Multiplicative Seasonality Model : ',muls_mape)"
   ]
  },
  {
   "cell_type": "markdown",
   "id": "3a608183",
   "metadata": {},
   "source": [
    "### MULTIPLICATIVE ADDITIVE SEASONALITY "
   ]
  },
  {
   "cell_type": "code",
   "execution_count": 49,
   "id": "94f2edd7",
   "metadata": {
    "ExecuteTime": {
     "end_time": "2023-09-03T18:49:52.029106Z",
     "start_time": "2023-09-03T18:49:51.983366Z"
    }
   },
   "outputs": [
    {
     "data": {
      "text/plain": [
       "80    307.323808\n",
       "81    270.648521\n",
       "82    237.771343\n",
       "83    272.199133\n",
       "84    278.808336\n",
       "85    283.189950\n",
       "86    327.170631\n",
       "87    315.686737\n",
       "88    312.633514\n",
       "89    351.916335\n",
       "90    391.762817\n",
       "91    391.909918\n",
       "92    351.324969\n",
       "93    309.398688\n",
       "94    271.814312\n",
       "95    311.171310\n",
       "dtype: float64"
      ]
     },
     "execution_count": 49,
     "metadata": {},
     "output_type": "execute_result"
    }
   ],
   "source": [
    "# Fitting the model using multiplicative additive seasonality and predicting\n",
    "mul_adds_m = smf.ols(\"log ~ t+Apr+Aug+Dec+Feb+Jan+Jul+Jun+Mar+May+Nov+Oct+Sep\", data=train).fit()\n",
    "mul_adds_pred = np.exp(pd.Series(mul_adds_m.predict(pd.DataFrame(test[[\"t\",'Apr','Aug','Dec','Feb',\n",
    "                                                                        'Jan','Jul','Jun','Mar',\n",
    "                                                                        'May','Nov','Oct','Sep']]))))\n",
    "mul_adds_pred"
   ]
  },
  {
   "cell_type": "code",
   "execution_count": 50,
   "id": "fd853695",
   "metadata": {
    "ExecuteTime": {
     "end_time": "2023-09-03T18:49:52.045049Z",
     "start_time": "2023-09-03T18:49:52.030030Z"
    }
   },
   "outputs": [
    {
     "name": "stdout",
     "output_type": "stream",
     "text": [
      "RMSE of the Multiplicative Additive Seasonality Model :  9.469000230375574\n",
      "MAPE of the Multiplicative Additve Seasonality Model :  2.0854045449176857\n"
     ]
    }
   ],
   "source": [
    "# To get RMSE of the model using multiplicative seasonality\n",
    "mul_adds_rmse = RMSE(mul_adds_pred, test['Passengers'])\n",
    "print('RMSE of the Multiplicative Additive Seasonality Model : ',mul_adds_rmse)\n",
    "\n",
    "# To get MAPE of the model using multiplicative seasonality \n",
    "mul_adds_mape = MAPE(mul_adds_pred, test['Passengers'])\n",
    "print('MAPE of the Multiplicative Additve Seasonality Model : ',mul_adds_mape)"
   ]
  },
  {
   "cell_type": "markdown",
   "id": "d570355c",
   "metadata": {},
   "source": [
    "## ARIMA MODEL"
   ]
  },
  {
   "cell_type": "code",
   "execution_count": 51,
   "id": "f52cf477",
   "metadata": {
    "ExecuteTime": {
     "end_time": "2023-09-03T18:49:52.060490Z",
     "start_time": "2023-09-03T18:49:52.047529Z"
    }
   },
   "outputs": [],
   "source": [
    "from math import sqrt\n",
    "from sklearn.metrics import mean_squared_error\n",
    "from statsmodels.tsa.arima.model import ARIMA\n",
    "from statsmodels.tsa.stattools import adfuller"
   ]
  },
  {
   "cell_type": "code",
   "execution_count": 52,
   "id": "b6fc74da",
   "metadata": {
    "ExecuteTime": {
     "end_time": "2023-09-03T18:49:52.091398Z",
     "start_time": "2023-09-03T18:49:52.062483Z"
    }
   },
   "outputs": [
    {
     "data": {
      "text/html": [
       "<div>\n",
       "<style scoped>\n",
       "    .dataframe tbody tr th:only-of-type {\n",
       "        vertical-align: middle;\n",
       "    }\n",
       "\n",
       "    .dataframe tbody tr th {\n",
       "        vertical-align: top;\n",
       "    }\n",
       "\n",
       "    .dataframe thead th {\n",
       "        text-align: right;\n",
       "    }\n",
       "</style>\n",
       "<table border=\"1\" class=\"dataframe\">\n",
       "  <thead>\n",
       "    <tr style=\"text-align: right;\">\n",
       "      <th></th>\n",
       "      <th>Date</th>\n",
       "      <th>Passengers</th>\n",
       "      <th>Month</th>\n",
       "      <th>Year</th>\n",
       "      <th>Apr</th>\n",
       "      <th>Aug</th>\n",
       "      <th>Dec</th>\n",
       "      <th>Feb</th>\n",
       "      <th>Jan</th>\n",
       "      <th>Jul</th>\n",
       "      <th>Jun</th>\n",
       "      <th>Mar</th>\n",
       "      <th>May</th>\n",
       "      <th>Nov</th>\n",
       "      <th>Oct</th>\n",
       "      <th>Sep</th>\n",
       "      <th>t</th>\n",
       "      <th>t_sq</th>\n",
       "      <th>log</th>\n",
       "    </tr>\n",
       "  </thead>\n",
       "  <tbody>\n",
       "    <tr>\n",
       "      <th>0</th>\n",
       "      <td>1995-01-01</td>\n",
       "      <td>112</td>\n",
       "      <td>Jan</td>\n",
       "      <td>1995</td>\n",
       "      <td>0</td>\n",
       "      <td>0</td>\n",
       "      <td>0</td>\n",
       "      <td>0</td>\n",
       "      <td>1</td>\n",
       "      <td>0</td>\n",
       "      <td>0</td>\n",
       "      <td>0</td>\n",
       "      <td>0</td>\n",
       "      <td>0</td>\n",
       "      <td>0</td>\n",
       "      <td>0</td>\n",
       "      <td>1</td>\n",
       "      <td>1</td>\n",
       "      <td>4.718499</td>\n",
       "    </tr>\n",
       "    <tr>\n",
       "      <th>1</th>\n",
       "      <td>1995-02-01</td>\n",
       "      <td>118</td>\n",
       "      <td>Feb</td>\n",
       "      <td>1995</td>\n",
       "      <td>0</td>\n",
       "      <td>0</td>\n",
       "      <td>0</td>\n",
       "      <td>1</td>\n",
       "      <td>0</td>\n",
       "      <td>0</td>\n",
       "      <td>0</td>\n",
       "      <td>0</td>\n",
       "      <td>0</td>\n",
       "      <td>0</td>\n",
       "      <td>0</td>\n",
       "      <td>0</td>\n",
       "      <td>2</td>\n",
       "      <td>4</td>\n",
       "      <td>4.770685</td>\n",
       "    </tr>\n",
       "    <tr>\n",
       "      <th>2</th>\n",
       "      <td>1995-03-01</td>\n",
       "      <td>132</td>\n",
       "      <td>Mar</td>\n",
       "      <td>1995</td>\n",
       "      <td>0</td>\n",
       "      <td>0</td>\n",
       "      <td>0</td>\n",
       "      <td>0</td>\n",
       "      <td>0</td>\n",
       "      <td>0</td>\n",
       "      <td>0</td>\n",
       "      <td>1</td>\n",
       "      <td>0</td>\n",
       "      <td>0</td>\n",
       "      <td>0</td>\n",
       "      <td>0</td>\n",
       "      <td>3</td>\n",
       "      <td>9</td>\n",
       "      <td>4.882802</td>\n",
       "    </tr>\n",
       "    <tr>\n",
       "      <th>3</th>\n",
       "      <td>1995-04-01</td>\n",
       "      <td>129</td>\n",
       "      <td>Apr</td>\n",
       "      <td>1995</td>\n",
       "      <td>1</td>\n",
       "      <td>0</td>\n",
       "      <td>0</td>\n",
       "      <td>0</td>\n",
       "      <td>0</td>\n",
       "      <td>0</td>\n",
       "      <td>0</td>\n",
       "      <td>0</td>\n",
       "      <td>0</td>\n",
       "      <td>0</td>\n",
       "      <td>0</td>\n",
       "      <td>0</td>\n",
       "      <td>4</td>\n",
       "      <td>16</td>\n",
       "      <td>4.859812</td>\n",
       "    </tr>\n",
       "    <tr>\n",
       "      <th>4</th>\n",
       "      <td>1995-05-01</td>\n",
       "      <td>121</td>\n",
       "      <td>May</td>\n",
       "      <td>1995</td>\n",
       "      <td>0</td>\n",
       "      <td>0</td>\n",
       "      <td>0</td>\n",
       "      <td>0</td>\n",
       "      <td>0</td>\n",
       "      <td>0</td>\n",
       "      <td>0</td>\n",
       "      <td>0</td>\n",
       "      <td>1</td>\n",
       "      <td>0</td>\n",
       "      <td>0</td>\n",
       "      <td>0</td>\n",
       "      <td>5</td>\n",
       "      <td>25</td>\n",
       "      <td>4.795791</td>\n",
       "    </tr>\n",
       "  </tbody>\n",
       "</table>\n",
       "</div>"
      ],
      "text/plain": [
       "        Date  Passengers Month  Year  Apr  Aug  Dec  Feb  Jan  Jul  Jun  Mar  \\\n",
       "0 1995-01-01         112   Jan  1995    0    0    0    0    1    0    0    0   \n",
       "1 1995-02-01         118   Feb  1995    0    0    0    1    0    0    0    0   \n",
       "2 1995-03-01         132   Mar  1995    0    0    0    0    0    0    0    1   \n",
       "3 1995-04-01         129   Apr  1995    1    0    0    0    0    0    0    0   \n",
       "4 1995-05-01         121   May  1995    0    0    0    0    0    0    0    0   \n",
       "\n",
       "   May  Nov  Oct  Sep  t  t_sq       log  \n",
       "0    0    0    0    0  1     1  4.718499  \n",
       "1    0    0    0    0  2     4  4.770685  \n",
       "2    0    0    0    0  3     9  4.882802  \n",
       "3    0    0    0    0  4    16  4.859812  \n",
       "4    1    0    0    0  5    25  4.795791  "
      ]
     },
     "execution_count": 52,
     "metadata": {},
     "output_type": "execute_result"
    }
   ],
   "source": [
    "# making the Date column as DateTime Index for the dataframe\n",
    "data1 = data.copy()\n",
    "data1.set_index('Date',inplace=True)\n",
    "data1.reset_index(inplace=True)\n",
    "data1.head()"
   ]
  },
  {
   "cell_type": "code",
   "execution_count": 53,
   "id": "9a503f23",
   "metadata": {
    "ExecuteTime": {
     "end_time": "2023-09-03T18:49:52.232163Z",
     "start_time": "2023-09-03T18:49:52.094463Z"
    },
    "scrolled": false
   },
   "outputs": [
    {
     "name": "stdout",
     "output_type": "stream",
     "text": [
      "            Passengers\n",
      "Date                  \n",
      "1995-01-01         112\n",
      "1995-02-01         118\n",
      "1995-03-01         132\n",
      "1995-04-01         129\n",
      "1995-05-01         121\n"
     ]
    },
    {
     "data": {
      "image/png": "[encoded data removed]",
      "text/plain": [
       "<Figure size 432x216 with 1 Axes>"
      ]
     },
     "metadata": {
      "needs_background": "light"
     },
     "output_type": "display_data"
    }
   ],
   "source": [
    "# Making the data as stationary and printing \n",
    "data2 = data1[[\"Date\", \"Passengers\"]]\n",
    "data2.to_csv(\"data3.csv\", index=False)\n",
    "df = pd.read_csv(\"data3.csv\", index_col=0)\n",
    "print(df.head())\n",
    "# visualizing\n",
    "df.plot(figsize=(6,3))\n",
    "plt.show()"
   ]
  },
  {
   "cell_type": "code",
   "execution_count": 54,
   "id": "1b146277",
   "metadata": {
    "ExecuteTime": {
     "end_time": "2023-09-03T18:49:52.248023Z",
     "start_time": "2023-09-03T18:49:52.233071Z"
    }
   },
   "outputs": [],
   "source": [
    "# Evaluating the data\n",
    "testr = adfuller(df['Passengers'])"
   ]
  },
  {
   "cell_type": "markdown",
   "id": "ea4b8dd2",
   "metadata": {},
   "source": [
    "Null Hypothesis Ho : It is non-stationary\n",
    "\n",
    "Alter Hypothesis H1 : It is stationary"
   ]
  },
  {
   "cell_type": "code",
   "execution_count": 55,
   "id": "6e0ee85b",
   "metadata": {
    "ExecuteTime": {
     "end_time": "2023-09-03T18:49:52.278602Z",
     "start_time": "2023-09-03T18:49:52.251275Z"
    }
   },
   "outputs": [
    {
     "name": "stdout",
     "output_type": "stream",
     "text": [
      "ADF Test Statistic : 1.3402479596467023\n",
      "p-value : 0.9968250481137263\n",
      "Lags Used : 12\n",
      "No. of Observations Used : 83\n",
      "Weak evidence against null hypothesis, time series has a unit root, indicating it is non-stationary \n"
     ]
    }
   ],
   "source": [
    "def adfuller_test(Passengers):\n",
    "    result=adfuller(Passengers)\n",
    "    labels = ['ADF Test Statistic','p-value','Lags Used','No. of Observations Used']\n",
    "    \n",
    "    for value,label in zip(result,labels):\n",
    "        print(label+' : '+str(value) )\n",
    "    if result[1] <= 0.05:\n",
    "        print(\"Strong evidence against the null hypothesis(Ho), So reject the null hypothesis. Data has no unit root and is stationary\")\n",
    "    else:\n",
    "        print(\"Weak evidence against null hypothesis, time series has a unit root, indicating it is non-stationary \")\n",
    "        \n",
    "adfuller_test(df['Passengers'])"
   ]
  },
  {
   "cell_type": "markdown",
   "id": "c9f9872b",
   "metadata": {},
   "source": [
    "#### Transformations"
   ]
  },
  {
   "cell_type": "code",
   "execution_count": 56,
   "id": "e48cd47d",
   "metadata": {
    "ExecuteTime": {
     "end_time": "2023-09-03T18:49:52.340630Z",
     "start_time": "2023-09-03T18:49:52.281876Z"
    },
    "scrolled": true
   },
   "outputs": [
    {
     "name": "stdout",
     "output_type": "stream",
     "text": [
      "LOG : \n",
      "\n",
      "             Passengers       log\n",
      "Date                            \n",
      "1995-01-01         112  4.718499\n",
      "1995-02-01         118  4.770685\n",
      "1995-03-01         132  4.882802\n",
      "1995-04-01         129  4.859812\n",
      "1995-05-01         121  4.795791 \n",
      "\n",
      "ADF Test Statistic : -0.7230267542465403\n",
      "p-value : 0.8406945968114743\n",
      "Lags Used : 12\n",
      "No. of Observations Used : 83\n",
      "Weak evidence against null hypothesis, time series has a unit root, indicating it is non-stationary \n",
      "None\n",
      "\n",
      "\n",
      "\n",
      "SQRT : \n",
      "\n",
      "             Passengers       log       sqrt\n",
      "Date                                       \n",
      "1995-01-01         112  4.718499  10.583005\n",
      "1995-02-01         118  4.770685  10.862780\n",
      "1995-03-01         132  4.882802  11.489125\n",
      "1995-04-01         129  4.859812  11.357817\n",
      "1995-05-01         121  4.795791  11.000000 \n",
      "\n",
      "ADF Test Statistic : 0.451434643126231\n",
      "p-value : 0.9833197981745518\n",
      "Lags Used : 12\n",
      "No. of Observations Used : 83\n",
      "Weak evidence against null hypothesis, time series has a unit root, indicating it is non-stationary \n",
      "None\n",
      "\n",
      "\n",
      "\n",
      "Combination of SQRT & LOG : \n",
      "\n",
      "             Passengers       log       sqrt     log_sq\n",
      "Date                                                  \n",
      "1995-01-01         112  4.718499  10.583005  10.583005\n",
      "1995-02-01         118  4.770685  10.862780  10.862780\n",
      "1995-03-01         132  4.882802  11.489125  11.489125\n",
      "1995-04-01         129  4.859812  11.357817  11.357817\n",
      "1995-05-01         121  4.795791  11.000000  11.000000 \n",
      "\n",
      "ADF Test Statistic : 0.451434643126231\n",
      "p-value : 0.9833197981745518\n",
      "Lags Used : 12\n",
      "No. of Observations Used : 83\n",
      "Weak evidence against null hypothesis, time series has a unit root, indicating it is non-stationary \n"
     ]
    }
   ],
   "source": [
    "# Applying the Transformations on the data\n",
    "\n",
    "# Logarithm\n",
    "df['log'] = np.log(df['Passengers'])\n",
    "print('LOG : \\n\\n',df.head(),'\\n')\n",
    "print(adfuller_test(df['log'])) \n",
    "# ignore None in the output as it's resulting due to printing \n",
    "\n",
    "# Square Root\n",
    "df['sqrt'] = np.sqrt(df['Passengers'])\n",
    "print('\\n\\n\\nSQRT : \\n\\n',df.head(),'\\n')\n",
    "print(adfuller_test(df['sqrt']))\n",
    "\n",
    "# Combination of SquareRoot and Log\n",
    "df['log_sq'] = np.sqrt(df['Passengers'])\n",
    "print('\\n\\n\\nCombination of SQRT & LOG : \\n\\n',df.head(),'\\n')\n",
    "adfuller_test(df['log_sq'])"
   ]
  },
  {
   "cell_type": "code",
   "execution_count": 57,
   "id": "ea2dc565",
   "metadata": {
    "ExecuteTime": {
     "end_time": "2023-09-03T18:49:52.372143Z",
     "start_time": "2023-09-03T18:49:52.341510Z"
    },
    "scrolled": true
   },
   "outputs": [
    {
     "name": "stdout",
     "output_type": "stream",
     "text": [
      "\n",
      "\n",
      "\n",
      "Seasonal Difference : \n",
      "\n",
      "             Passengers       log       sqrt     log_sq  Seasonal_Diff\n",
      "Date                                                                 \n",
      "1995-01-01         112  4.718499  10.583005  10.583005            NaN\n",
      "1995-02-01         118  4.770685  10.862780  10.862780            NaN\n",
      "1995-03-01         132  4.882802  11.489125  11.489125            NaN\n",
      "1995-04-01         129  4.859812  11.357817  11.357817            NaN\n",
      "1995-05-01         121  4.795791  11.000000  11.000000            NaN\n",
      "1995-06-01         135  4.905275  11.618950  11.618950            NaN\n",
      "1995-07-01         148  4.997212  12.165525  12.165525            NaN\n",
      "1995-08-01         148  4.997212  12.165525  12.165525            NaN\n",
      "1995-09-01         136  4.912655  11.661904  11.661904            NaN\n",
      "1995-10-01         119  4.779123  10.908712  10.908712            NaN\n",
      "1995-11-01         104  4.644391  10.198039  10.198039            NaN\n",
      "1995-12-01         118  4.770685  10.862780  10.862780            NaN\n",
      "1996-01-01         115  4.744932  10.723805  10.723805            3.0\n",
      "1996-02-01         126  4.836282  11.224972  11.224972            8.0\n",
      "1996-03-01         141  4.948760  11.874342  11.874342            9.0 \n",
      "\n",
      "ADF Test Statistic : -2.690004383862315\n",
      "p-value : 0.07578397625851786\n",
      "Lags Used : 1\n",
      "No. of Observations Used : 82\n",
      "Weak evidence against null hypothesis, time series has a unit root, indicating it is non-stationary \n",
      "None\n",
      "\n",
      "\n",
      "\n",
      "SQRT trnasform with Seasonal Difference : \n",
      "\n",
      "             Passengers       log       sqrt     log_sq  Seasonal_Diff  \\\n",
      "Date                                                                    \n",
      "1995-01-01         112  4.718499  10.583005  10.583005            NaN   \n",
      "1995-02-01         118  4.770685  10.862780  10.862780            NaN   \n",
      "1995-03-01         132  4.882802  11.489125  11.489125            NaN   \n",
      "1995-04-01         129  4.859812  11.357817  11.357817            NaN   \n",
      "1995-05-01         121  4.795791  11.000000  11.000000            NaN   \n",
      "1995-06-01         135  4.905275  11.618950  11.618950            NaN   \n",
      "1995-07-01         148  4.997212  12.165525  12.165525            NaN   \n",
      "1995-08-01         148  4.997212  12.165525  12.165525            NaN   \n",
      "1995-09-01         136  4.912655  11.661904  11.661904            NaN   \n",
      "1995-10-01         119  4.779123  10.908712  10.908712            NaN   \n",
      "1995-11-01         104  4.644391  10.198039  10.198039            NaN   \n",
      "1995-12-01         118  4.770685  10.862780  10.862780            NaN   \n",
      "1996-01-01         115  4.744932  10.723805  10.723805            3.0   \n",
      "1996-02-01         126  4.836282  11.224972  11.224972            8.0   \n",
      "1996-03-01         141  4.948760  11.874342  11.874342            9.0   \n",
      "\n",
      "             sq_diff  \n",
      "Date                  \n",
      "1995-01-01       NaN  \n",
      "1995-02-01       NaN  \n",
      "1995-03-01       NaN  \n",
      "1995-04-01       NaN  \n",
      "1995-05-01       NaN  \n",
      "1995-06-01       NaN  \n",
      "1995-07-01       NaN  \n",
      "1995-08-01       NaN  \n",
      "1995-09-01       NaN  \n",
      "1995-10-01       NaN  \n",
      "1995-11-01       NaN  \n",
      "1995-12-01       NaN  \n",
      "1996-01-01  0.140800  \n",
      "1996-02-01  0.362192  \n",
      "1996-03-01  0.385217   \n",
      "\n",
      "ADF Test Statistic : -2.918327873445583\n",
      "p-value : 0.04325785016386719\n",
      "Lags Used : 1\n",
      "No. of Observations Used : 82\n",
      "Strong evidence against the null hypothesis(Ho), So reject the null hypothesis. Data has no unit root and is stationary\n"
     ]
    }
   ],
   "source": [
    "# Differencing\n",
    "df['Seasonal_Diff'] = df['Passengers']-df['Passengers'].shift(12)\n",
    "print('\\n\\n\\nSeasonal Difference : \\n\\n',df.head(15),'\\n')\n",
    "print(adfuller_test(df['Seasonal_Diff'].dropna()))\n",
    "\n",
    "# Sqrt transform with Differencing\n",
    "df['sq_diff'] = df['sqrt']-df['sqrt'].shift(12)\n",
    "print('\\n\\n\\nSQRT trnasform with Seasonal Difference : \\n\\n',df.head(15),'\\n')\n",
    "adfuller_test(df['sq_diff'].dropna())"
   ]
  },
  {
   "cell_type": "code",
   "execution_count": 58,
   "id": "dcddb584",
   "metadata": {
    "ExecuteTime": {
     "end_time": "2023-09-03T18:49:53.051888Z",
     "start_time": "2023-09-03T18:49:52.374129Z"
    },
    "scrolled": true
   },
   "outputs": [
    {
     "data": {
      "image/png": "[encoded data removed]",
      "text/plain": [
       "<Figure size 360x216 with 1 Axes>"
      ]
     },
     "metadata": {
      "needs_background": "light"
     },
     "output_type": "display_data"
    }
   ],
   "source": [
    "plt.figure(figsize=(5,3))\n",
    "plt.plot(df['sq_diff'])\n",
    "plt.show()"
   ]
  },
  {
   "cell_type": "markdown",
   "id": "dbc6ad60",
   "metadata": {},
   "source": [
    "#### Splitting the Data"
   ]
  },
  {
   "cell_type": "code",
   "execution_count": 59,
   "id": "e9d4dde6",
   "metadata": {
    "ExecuteTime": {
     "end_time": "2023-09-03T18:49:53.082956Z",
     "start_time": "2023-09-03T18:49:53.053880Z"
    }
   },
   "outputs": [
    {
     "name": "stdout",
     "output_type": "stream",
     "text": [
      "Dataset: 84, Validation: 12\n"
     ]
    }
   ],
   "source": [
    "# Splitting the data\n",
    "\n",
    "df1 = pd.read_csv(\"data3.csv\", index_col=0)\n",
    "split_point = len(df1)-12\n",
    "dataset, validation = df1[0:split_point], df1[split_point:]\n",
    "print(\"Dataset: %d, Validation: %d\" % (len(dataset), len(validation)))\n",
    "\n",
    "dataset.to_csv(\"dataset.csv\", header=False)\n",
    "validation.to_csv(\"validation.csv\", header=False)"
   ]
  },
  {
   "cell_type": "markdown",
   "id": "b937e6b1",
   "metadata": {},
   "source": [
    "#### Base Model"
   ]
  },
  {
   "cell_type": "code",
   "execution_count": 60,
   "id": "a632b0a0",
   "metadata": {
    "ExecuteTime": {
     "end_time": "2023-09-03T18:49:53.459739Z",
     "start_time": "2023-09-03T18:49:53.085684Z"
    }
   },
   "outputs": [
    {
     "name": "stdout",
     "output_type": "stream",
     "text": [
      "Predicted: 218.000, Expected: 230.000\n",
      "Predicted: 230.000, Expected: 242.000\n",
      "Predicted: 242.000, Expected: 209.000\n",
      "Predicted: 209.000, Expected: 191.000\n",
      "Predicted: 191.000, Expected: 172.000\n",
      "Predicted: 172.000, Expected: 194.000\n",
      "Predicted: 194.000, Expected: 196.000\n",
      "Predicted: 196.000, Expected: 196.000\n",
      "Predicted: 196.000, Expected: 236.000\n",
      "Predicted: 236.000, Expected: 235.000\n",
      "Predicted: 235.000, Expected: 229.000\n",
      "Predicted: 229.000, Expected: 243.000\n",
      "Predicted: 243.000, Expected: 264.000\n",
      "Predicted: 264.000, Expected: 272.000\n",
      "Predicted: 272.000, Expected: 237.000\n",
      "Predicted: 237.000, Expected: 211.000\n",
      "Predicted: 211.000, Expected: 180.000\n",
      "Predicted: 180.000, Expected: 201.000\n",
      "Predicted: 201.000, Expected: 204.000\n",
      "Predicted: 204.000, Expected: 188.000\n",
      "Predicted: 188.000, Expected: 235.000\n",
      "Predicted: 235.000, Expected: 227.000\n",
      "Predicted: 227.000, Expected: 234.000\n",
      "Predicted: 234.000, Expected: 264.000\n",
      "Predicted: 264.000, Expected: 302.000\n",
      "Predicted: 302.000, Expected: 293.000\n",
      "Predicted: 293.000, Expected: 259.000\n",
      "Predicted: 259.000, Expected: 229.000\n",
      "Predicted: 229.000, Expected: 203.000\n",
      "Predicted: 203.000, Expected: 229.000\n",
      "Predicted: 229.000, Expected: 242.000\n",
      "Predicted: 242.000, Expected: 233.000\n",
      "Predicted: 233.000, Expected: 267.000\n",
      "Predicted: 267.000, Expected: 269.000\n",
      "Predicted: 269.000, Expected: 270.000\n",
      "Predicted: 270.000, Expected: 315.000\n",
      "Predicted: 315.000, Expected: 364.000\n",
      "Predicted: 364.000, Expected: 347.000\n",
      "Predicted: 347.000, Expected: 312.000\n",
      "Predicted: 312.000, Expected: 274.000\n",
      "Predicted: 274.000, Expected: 237.000\n",
      "Predicted: 237.000, Expected: 278.000\n",
      "\n",
      "RMSE: 26.029\n"
     ]
    }
   ],
   "source": [
    "# Persistence / Base Model\n",
    "\n",
    "train = pd.read_csv(\"dataset.csv\", header=None, index_col=0,\n",
    "                     parse_dates=True, squeeze=True)\n",
    "X = train.values\n",
    "X = X.astype(\"float32\")\n",
    "train_size = int(len(X) * 0.50)\n",
    "train, test = X[0:train_size], X[train_size:]\n",
    "\n",
    "history = [X for X in train]\n",
    "predictions = list()\n",
    "for i in range (len(test)):\n",
    "    yhat = history[-1]\n",
    "    predictions.append(yhat)\n",
    "    obs = test[i]\n",
    "    history.append(obs) \n",
    "    print(\"Predicted: %.3f, Expected: %.3f\" % (yhat, obs))\n",
    "        \n",
    "rmse = sqrt(mean_squared_error(test, predictions))\n",
    "print(\"\\nRMSE: %.3f\" % rmse)"
   ]
  },
  {
   "cell_type": "markdown",
   "id": "5f3e9191",
   "metadata": {},
   "source": [
    "#### Building the Model based on the optimized values"
   ]
  },
  {
   "cell_type": "code",
   "execution_count": 61,
   "id": "4bcb0d2a",
   "metadata": {
    "ExecuteTime": {
     "end_time": "2023-09-03T18:49:53.506997Z",
     "start_time": "2023-09-03T18:49:53.462629Z"
    }
   },
   "outputs": [],
   "source": [
    "train = pd.read_csv('dataset.csv', header=None, index_col=0, parse_dates=True, squeeze=True)\n",
    "df = train.values\n",
    "df = df.astype(\"float32\")\n",
    "test = pd.read_csv('validation.csv', header=None, index_col=0, parse_dates=True, squeeze=True)"
   ]
  },
  {
   "cell_type": "code",
   "execution_count": 62,
   "id": "e32ed12e",
   "metadata": {
    "ExecuteTime": {
     "end_time": "2023-09-03T18:49:53.600380Z",
     "start_time": "2023-09-03T18:49:53.509512Z"
    }
   },
   "outputs": [
    {
     "data": {
      "text/plain": [
       "array([295.33620845, 296.53910691, 298.42477104, 286.39466481,\n",
       "       286.39466481, 286.39466481, 286.39466481, 286.39466481,\n",
       "       286.39466481, 286.39466481, 286.39466481, 286.39466481])"
      ]
     },
     "execution_count": 62,
     "metadata": {},
     "output_type": "execute_result"
    }
   ],
   "source": [
    "arima_model = ARIMA(df, order=(0,1,4)).fit()\n",
    "forecast = arima_model.forecast(steps=12)\n",
    "forecast"
   ]
  },
  {
   "cell_type": "code",
   "execution_count": 63,
   "id": "b97c291e",
   "metadata": {
    "ExecuteTime": {
     "end_time": "2023-09-03T18:49:53.615921Z",
     "start_time": "2023-09-03T18:49:53.603366Z"
    }
   },
   "outputs": [
    {
     "name": "stdout",
     "output_type": "stream",
     "text": [
      "RMSE of the ARIMA Model :  12.817148652498041\n",
      "MAPE of the ARIMA Model :  4.327679593252097\n"
     ]
    }
   ],
   "source": [
    "# To get RMSE of the ARIMA model\n",
    "arima_rmse= RMSE(forecast, test[1])\n",
    "print('RMSE of the ARIMA Model : ',arima_rmse)\n",
    "\n",
    "# To get MAPE of the ARIMA model\n",
    "arima_mape = MAPE(forecast, test[1])\n",
    "print('MAPE of the ARIMA Model : ',arima_mape)"
   ]
  },
  {
   "cell_type": "markdown",
   "id": "f33a6acf",
   "metadata": {},
   "source": [
    "## Conclusion "
   ]
  },
  {
   "cell_type": "code",
   "execution_count": 64,
   "id": "35ba82d7",
   "metadata": {
    "ExecuteTime": {
     "end_time": "2023-09-03T18:49:53.631259Z",
     "start_time": "2023-09-03T18:49:53.617840Z"
    }
   },
   "outputs": [
    {
     "data": {
      "text/html": [
       "<div>\n",
       "<style scoped>\n",
       "    .dataframe tbody tr th:only-of-type {\n",
       "        vertical-align: middle;\n",
       "    }\n",
       "\n",
       "    .dataframe tbody tr th {\n",
       "        vertical-align: top;\n",
       "    }\n",
       "\n",
       "    .dataframe thead th {\n",
       "        text-align: right;\n",
       "    }\n",
       "</style>\n",
       "<table border=\"1\" class=\"dataframe\">\n",
       "  <thead>\n",
       "    <tr style=\"text-align: right;\">\n",
       "      <th></th>\n",
       "      <th>Model</th>\n",
       "      <th>RMSE</th>\n",
       "      <th>MAPE</th>\n",
       "    </tr>\n",
       "  </thead>\n",
       "  <tbody>\n",
       "    <tr>\n",
       "      <th>10</th>\n",
       "      <td>multiplicative additive seas</td>\n",
       "      <td>9.469000</td>\n",
       "      <td>2.085405</td>\n",
       "    </tr>\n",
       "    <tr>\n",
       "      <th>11</th>\n",
       "      <td>ARIMA</td>\n",
       "      <td>12.817149</td>\n",
       "      <td>4.327680</td>\n",
       "    </tr>\n",
       "    <tr>\n",
       "      <th>5</th>\n",
       "      <td>holt exponential (Multi)</td>\n",
       "      <td>14.571723</td>\n",
       "      <td>3.217948</td>\n",
       "    </tr>\n",
       "    <tr>\n",
       "      <th>8</th>\n",
       "      <td>additive seas with quad</td>\n",
       "      <td>23.910984</td>\n",
       "      <td>4.757528</td>\n",
       "    </tr>\n",
       "    <tr>\n",
       "      <th>6</th>\n",
       "      <td>holt exponential (add)</td>\n",
       "      <td>26.089444</td>\n",
       "      <td>7.947399</td>\n",
       "    </tr>\n",
       "    <tr>\n",
       "      <th>2</th>\n",
       "      <td>quadratic</td>\n",
       "      <td>43.654404</td>\n",
       "      <td>11.238782</td>\n",
       "    </tr>\n",
       "    <tr>\n",
       "      <th>1</th>\n",
       "      <td>exponential</td>\n",
       "      <td>43.793739</td>\n",
       "      <td>11.472694</td>\n",
       "    </tr>\n",
       "    <tr>\n",
       "      <th>0</th>\n",
       "      <td>linear</td>\n",
       "      <td>47.542624</td>\n",
       "      <td>10.412065</td>\n",
       "    </tr>\n",
       "    <tr>\n",
       "      <th>3</th>\n",
       "      <td>simple exponential</td>\n",
       "      <td>50.858217</td>\n",
       "      <td>11.375851</td>\n",
       "    </tr>\n",
       "    <tr>\n",
       "      <th>7</th>\n",
       "      <td>additive seas</td>\n",
       "      <td>129.266476</td>\n",
       "      <td>40.065793</td>\n",
       "    </tr>\n",
       "    <tr>\n",
       "      <th>9</th>\n",
       "      <td>multiplicative seas</td>\n",
       "      <td>135.326484</td>\n",
       "      <td>41.906809</td>\n",
       "    </tr>\n",
       "    <tr>\n",
       "      <th>4</th>\n",
       "      <td>holt</td>\n",
       "      <td>148.513213</td>\n",
       "      <td>45.540892</td>\n",
       "    </tr>\n",
       "  </tbody>\n",
       "</table>\n",
       "</div>"
      ],
      "text/plain": [
       "                           Model        RMSE       MAPE\n",
       "10  multiplicative additive seas    9.469000   2.085405\n",
       "11                         ARIMA   12.817149   4.327680\n",
       "5       holt exponential (Multi)   14.571723   3.217948\n",
       "8        additive seas with quad   23.910984   4.757528\n",
       "6         holt exponential (add)   26.089444   7.947399\n",
       "2                      quadratic   43.654404  11.238782\n",
       "1                    exponential   43.793739  11.472694\n",
       "0                         linear   47.542624  10.412065\n",
       "3             simple exponential   50.858217  11.375851\n",
       "7                  additive seas  129.266476  40.065793\n",
       "9            multiplicative seas  135.326484  41.906809\n",
       "4                           holt  148.513213  45.540892"
      ]
     },
     "execution_count": 64,
     "metadata": {},
     "output_type": "execute_result"
    }
   ],
   "source": [
    "Final = pd.DataFrame({\"Model\": pd.Series([\"linear\", \"exponential\", \"quadratic\", \"simple exponential\",\n",
    "                                          \"holt\", \"holt exponential (Multi)\", \"holt exponential (add)\",\n",
    "                                          \"additive seas\", \"additive seas with quad\", \n",
    "                                          \"multiplicative seas\",\"multiplicative additive seas\",\"ARIMA\"]),\n",
    "                      \"RMSE\": pd.Series([lin_rmse, exp_rmse, quad_rmse, sim_exp_rmse, \n",
    "                                         holt_rmse, holt_exp_m_rmse, holt_exp_a_rmse, adds_rmse,\n",
    "                                         adds_quad_rmse, muls_rmse, mul_adds_rmse, arima_rmse]),\n",
    "                      \"MAPE\": pd.Series([lin_mape, exp_mape, quad_mape, sim_exp_mape, \n",
    "                                         holt_mape, holt_exp_m_mape, holt_exp_a_mape, adds_mape,\n",
    "                                         adds_quad_mape, muls_mape, mul_adds_mape, arima_mape])})\n",
    "Final.sort_values([\"RMSE\"])"
   ]
  },
  {
   "cell_type": "markdown",
   "id": "7ccd89fc",
   "metadata": {},
   "source": [
    "    We can observe that the model built with 'Multiplicative Additive Seasonality' method gives the best RMSE and MAPE Values.\n",
    "    Hence, we can conclude that this is the best fit model for Forecasting the Airlines Passengers dataset."
   ]
  }
 ],
 "metadata": {
  "kernelspec": {
   "display_name": "Python 3 (ipykernel)",
   "language": "python",
   "name": "python3"
  },
  "language_info": {
   "codemirror_mode": {
    "name": "ipython",
    "version": 3
   },
   "file_extension": ".py",
   "mimetype": "text/x-python",
   "name": "python",
   "nbconvert_exporter": "python",
   "pygments_lexer": "ipython3",
   "version": "3.9.12"
  }
 },
 "nbformat": 4,
 "nbformat_minor": 5
}
