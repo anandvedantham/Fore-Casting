{
 "cells": [
  {
   "cell_type": "markdown",
   "id": "dcfcd1f9",
   "metadata": {},
   "source": [
    "    Forecast the CocaCola Sales data set. \n",
    "    Prepare a document for each model explaining how many dummy variables you have created and RMSE value for each model. \n",
    "    Finally which model you will use for Forecasting."
   ]
  },
  {
   "cell_type": "markdown",
   "id": "1dcb968a",
   "metadata": {},
   "source": [
    "### Importing the required Libraries"
   ]
  },
  {
   "cell_type": "code",
   "execution_count": 1,
   "id": "20ce1e4e",
   "metadata": {
    "ExecuteTime": {
     "end_time": "2023-09-03T18:49:17.848560Z",
     "start_time": "2023-09-03T18:49:15.638323Z"
    }
   },
   "outputs": [],
   "source": [
    "import pandas as pd, numpy as np\n",
    "import matplotlib.pyplot as plt, seaborn as sns\n",
    "\n",
    "from pandas import Grouper\n",
    "from pandas.plotting import lag_plot\n",
    "import statsmodels.graphics.tsaplots as tsa_plots\n",
    "import statsmodels.formula.api as smf\n",
    "\n",
    "from statsmodels.tsa.seasonal import seasonal_decompose\n",
    "from statsmodels.tsa.holtwinters import SimpleExpSmoothing #SES\n",
    "from statsmodels.tsa.holtwinters import Holt  # Holts Exponential Smoothing\n",
    "from statsmodels.tsa.holtwinters import ExponentialSmoothing\n",
    "\n",
    "from sklearn.metrics import mean_squared_error\n",
    "from statsmodels.tsa.arima.model import ARIMA\n",
    "\n",
    "# importing warnings\n",
    "import warnings\n",
    "warnings.filterwarnings(\"ignore\")"
   ]
  },
  {
   "cell_type": "markdown",
   "id": "27a5065f",
   "metadata": {},
   "source": [
    "#### Reading the dataset"
   ]
  },
  {
   "cell_type": "code",
   "execution_count": 2,
   "id": "e8999f65",
   "metadata": {
    "ExecuteTime": {
     "end_time": "2023-09-03T18:49:18.179502Z",
     "start_time": "2023-09-03T18:49:17.850624Z"
    }
   },
   "outputs": [
    {
     "data": {
      "text/html": [
       "<div>\n",
       "<style scoped>\n",
       "    .dataframe tbody tr th:only-of-type {\n",
       "        vertical-align: middle;\n",
       "    }\n",
       "\n",
       "    .dataframe tbody tr th {\n",
       "        vertical-align: top;\n",
       "    }\n",
       "\n",
       "    .dataframe thead th {\n",
       "        text-align: right;\n",
       "    }\n",
       "</style>\n",
       "<table border=\"1\" class=\"dataframe\">\n",
       "  <thead>\n",
       "    <tr style=\"text-align: right;\">\n",
       "      <th></th>\n",
       "      <th>Quarter</th>\n",
       "      <th>Sales</th>\n",
       "    </tr>\n",
       "  </thead>\n",
       "  <tbody>\n",
       "    <tr>\n",
       "      <th>0</th>\n",
       "      <td>Q1_86</td>\n",
       "      <td>1734.827000</td>\n",
       "    </tr>\n",
       "    <tr>\n",
       "      <th>1</th>\n",
       "      <td>Q2_86</td>\n",
       "      <td>2244.960999</td>\n",
       "    </tr>\n",
       "    <tr>\n",
       "      <th>2</th>\n",
       "      <td>Q3_86</td>\n",
       "      <td>2533.804993</td>\n",
       "    </tr>\n",
       "    <tr>\n",
       "      <th>3</th>\n",
       "      <td>Q4_86</td>\n",
       "      <td>2154.962997</td>\n",
       "    </tr>\n",
       "    <tr>\n",
       "      <th>4</th>\n",
       "      <td>Q1_87</td>\n",
       "      <td>1547.818996</td>\n",
       "    </tr>\n",
       "  </tbody>\n",
       "</table>\n",
       "</div>"
      ],
      "text/plain": [
       "  Quarter        Sales\n",
       "0   Q1_86  1734.827000\n",
       "1   Q2_86  2244.960999\n",
       "2   Q3_86  2533.804993\n",
       "3   Q4_86  2154.962997\n",
       "4   Q1_87  1547.818996"
      ]
     },
     "execution_count": 2,
     "metadata": {},
     "output_type": "execute_result"
    }
   ],
   "source": [
    "cola = pd.read_excel(\"CocaCola_Sales_Rawdata.xlsx\")\n",
    "cola.head()"
   ]
  },
  {
   "cell_type": "markdown",
   "id": "f4be69e6",
   "metadata": {},
   "source": [
    "### Performing EDA on the dataset"
   ]
  },
  {
   "cell_type": "code",
   "execution_count": 3,
   "id": "5d3f4bca",
   "metadata": {
    "ExecuteTime": {
     "end_time": "2023-09-03T18:49:18.195251Z",
     "start_time": "2023-09-03T18:49:18.182507Z"
    }
   },
   "outputs": [
    {
     "name": "stdout",
     "output_type": "stream",
     "text": [
      "<class 'pandas.core.frame.DataFrame'>\n",
      "RangeIndex: 42 entries, 0 to 41\n",
      "Data columns (total 2 columns):\n",
      " #   Column   Non-Null Count  Dtype  \n",
      "---  ------   --------------  -----  \n",
      " 0   Quarter  42 non-null     object \n",
      " 1   Sales    42 non-null     float64\n",
      "dtypes: float64(1), object(1)\n",
      "memory usage: 800.0+ bytes\n"
     ]
    }
   ],
   "source": [
    "# to get the information of the datafile\n",
    "cola.info()"
   ]
  },
  {
   "cell_type": "code",
   "execution_count": 4,
   "id": "100cc212",
   "metadata": {
    "ExecuteTime": {
     "end_time": "2023-09-03T18:49:18.210816Z",
     "start_time": "2023-09-03T18:49:18.197244Z"
    }
   },
   "outputs": [
    {
     "data": {
      "text/plain": [
       "Quarter    0\n",
       "Sales      0\n",
       "dtype: int64"
      ]
     },
     "execution_count": 4,
     "metadata": {},
     "output_type": "execute_result"
    }
   ],
   "source": [
    "# to check the null values of the data\n",
    "cola.isnull().sum()"
   ]
  },
  {
   "cell_type": "code",
   "execution_count": 5,
   "id": "40e01ba0",
   "metadata": {
    "ExecuteTime": {
     "end_time": "2023-09-03T18:49:18.226194Z",
     "start_time": "2023-09-03T18:49:18.212492Z"
    }
   },
   "outputs": [
    {
     "name": "stdout",
     "output_type": "stream",
     "text": [
      "Dimensions - (42, 2)\n",
      "Column names - Index(['Quarter', 'Sales'], dtype='object')\n"
     ]
    }
   ],
   "source": [
    "print(\"Dimensions -\",cola.shape)\n",
    "print(\"Column names -\",cola.columns)"
   ]
  },
  {
   "cell_type": "code",
   "execution_count": 6,
   "id": "4dd58f71",
   "metadata": {
    "ExecuteTime": {
     "end_time": "2023-09-03T18:49:18.241684Z",
     "start_time": "2023-09-03T18:49:18.228490Z"
    }
   },
   "outputs": [
    {
     "data": {
      "text/html": [
       "<div>\n",
       "<style scoped>\n",
       "    .dataframe tbody tr th:only-of-type {\n",
       "        vertical-align: middle;\n",
       "    }\n",
       "\n",
       "    .dataframe tbody tr th {\n",
       "        vertical-align: top;\n",
       "    }\n",
       "\n",
       "    .dataframe thead th {\n",
       "        text-align: right;\n",
       "    }\n",
       "</style>\n",
       "<table border=\"1\" class=\"dataframe\">\n",
       "  <thead>\n",
       "    <tr style=\"text-align: right;\">\n",
       "      <th></th>\n",
       "      <th>Sales</th>\n",
       "    </tr>\n",
       "  </thead>\n",
       "  <tbody>\n",
       "    <tr>\n",
       "      <th>count</th>\n",
       "      <td>42.000000</td>\n",
       "    </tr>\n",
       "    <tr>\n",
       "      <th>mean</th>\n",
       "      <td>2994.353308</td>\n",
       "    </tr>\n",
       "    <tr>\n",
       "      <th>std</th>\n",
       "      <td>977.930896</td>\n",
       "    </tr>\n",
       "    <tr>\n",
       "      <th>min</th>\n",
       "      <td>1547.818996</td>\n",
       "    </tr>\n",
       "    <tr>\n",
       "      <th>25%</th>\n",
       "      <td>2159.714247</td>\n",
       "    </tr>\n",
       "    <tr>\n",
       "      <th>50%</th>\n",
       "      <td>2782.376999</td>\n",
       "    </tr>\n",
       "    <tr>\n",
       "      <th>75%</th>\n",
       "      <td>3609.250000</td>\n",
       "    </tr>\n",
       "    <tr>\n",
       "      <th>max</th>\n",
       "      <td>5253.000000</td>\n",
       "    </tr>\n",
       "  </tbody>\n",
       "</table>\n",
       "</div>"
      ],
      "text/plain": [
       "             Sales\n",
       "count    42.000000\n",
       "mean   2994.353308\n",
       "std     977.930896\n",
       "min    1547.818996\n",
       "25%    2159.714247\n",
       "50%    2782.376999\n",
       "75%    3609.250000\n",
       "max    5253.000000"
      ]
     },
     "execution_count": 6,
     "metadata": {},
     "output_type": "execute_result"
    }
   ],
   "source": [
    "# Summarizing the dataset\n",
    "cola.describe()"
   ]
  },
  {
   "cell_type": "code",
   "execution_count": 7,
   "id": "7933cd23",
   "metadata": {
    "ExecuteTime": {
     "end_time": "2023-09-03T18:49:18.257519Z",
     "start_time": "2023-09-03T18:49:18.243600Z"
    }
   },
   "outputs": [
    {
     "name": "stdout",
     "output_type": "stream",
     "text": [
      "(0, 2)\n"
     ]
    },
    {
     "data": {
      "text/html": [
       "<div>\n",
       "<style scoped>\n",
       "    .dataframe tbody tr th:only-of-type {\n",
       "        vertical-align: middle;\n",
       "    }\n",
       "\n",
       "    .dataframe tbody tr th {\n",
       "        vertical-align: top;\n",
       "    }\n",
       "\n",
       "    .dataframe thead th {\n",
       "        text-align: right;\n",
       "    }\n",
       "</style>\n",
       "<table border=\"1\" class=\"dataframe\">\n",
       "  <thead>\n",
       "    <tr style=\"text-align: right;\">\n",
       "      <th></th>\n",
       "      <th>Quarter</th>\n",
       "      <th>Sales</th>\n",
       "    </tr>\n",
       "  </thead>\n",
       "  <tbody>\n",
       "  </tbody>\n",
       "</table>\n",
       "</div>"
      ],
      "text/plain": [
       "Empty DataFrame\n",
       "Columns: [Quarter, Sales]\n",
       "Index: []"
      ]
     },
     "execution_count": 7,
     "metadata": {},
     "output_type": "execute_result"
    }
   ],
   "source": [
    "# to check the dimensions of duplicates in the data\n",
    "print(cola[cola.duplicated()].shape)\n",
    "\n",
    "# to get the duplicate values from the data\n",
    "cola[cola.duplicated()]"
   ]
  },
  {
   "cell_type": "markdown",
   "id": "02590546",
   "metadata": {},
   "source": [
    "### Feature Engineering"
   ]
  },
  {
   "cell_type": "code",
   "execution_count": 8,
   "id": "3ff229b8",
   "metadata": {
    "ExecuteTime": {
     "end_time": "2023-09-03T18:49:18.273368Z",
     "start_time": "2023-09-03T18:49:18.259511Z"
    }
   },
   "outputs": [
    {
     "data": {
      "text/html": [
       "<div>\n",
       "<style scoped>\n",
       "    .dataframe tbody tr th:only-of-type {\n",
       "        vertical-align: middle;\n",
       "    }\n",
       "\n",
       "    .dataframe tbody tr th {\n",
       "        vertical-align: top;\n",
       "    }\n",
       "\n",
       "    .dataframe thead th {\n",
       "        text-align: right;\n",
       "    }\n",
       "</style>\n",
       "<table border=\"1\" class=\"dataframe\">\n",
       "  <thead>\n",
       "    <tr style=\"text-align: right;\">\n",
       "      <th></th>\n",
       "      <th>Quarter</th>\n",
       "      <th>Sales</th>\n",
       "      <th>Quarter_Year</th>\n",
       "    </tr>\n",
       "  </thead>\n",
       "  <tbody>\n",
       "    <tr>\n",
       "      <th>0</th>\n",
       "      <td>Q1_86</td>\n",
       "      <td>1734.827000</td>\n",
       "      <td>Q1 1986</td>\n",
       "    </tr>\n",
       "    <tr>\n",
       "      <th>1</th>\n",
       "      <td>Q2_86</td>\n",
       "      <td>2244.960999</td>\n",
       "      <td>Q2 1986</td>\n",
       "    </tr>\n",
       "    <tr>\n",
       "      <th>2</th>\n",
       "      <td>Q3_86</td>\n",
       "      <td>2533.804993</td>\n",
       "      <td>Q3 1986</td>\n",
       "    </tr>\n",
       "    <tr>\n",
       "      <th>3</th>\n",
       "      <td>Q4_86</td>\n",
       "      <td>2154.962997</td>\n",
       "      <td>Q4 1986</td>\n",
       "    </tr>\n",
       "    <tr>\n",
       "      <th>4</th>\n",
       "      <td>Q1_87</td>\n",
       "      <td>1547.818996</td>\n",
       "      <td>Q1 1987</td>\n",
       "    </tr>\n",
       "  </tbody>\n",
       "</table>\n",
       "</div>"
      ],
      "text/plain": [
       "  Quarter        Sales Quarter_Year\n",
       "0   Q1_86  1734.827000      Q1 1986\n",
       "1   Q2_86  2244.960999      Q2 1986\n",
       "2   Q3_86  2533.804993      Q3 1986\n",
       "3   Q4_86  2154.962997      Q4 1986\n",
       "4   Q1_87  1547.818996      Q1 1987"
      ]
     },
     "execution_count": 8,
     "metadata": {},
     "output_type": "execute_result"
    }
   ],
   "source": [
    "# Converting the Quarters into Years\n",
    "\n",
    "cola['Quarter_Year'] = cola['Quarter'].str.split('_').apply(lambda x: ' 19'.join(x[:]))\n",
    "#to convert quarterly periods to datetime in pandas\n",
    "cola.head()"
   ]
  },
  {
   "cell_type": "code",
   "execution_count": 9,
   "id": "05d1de13",
   "metadata": {
    "ExecuteTime": {
     "end_time": "2023-09-03T18:49:18.288519Z",
     "start_time": "2023-09-03T18:49:18.275437Z"
    }
   },
   "outputs": [
    {
     "data": {
      "text/html": [
       "<div>\n",
       "<style scoped>\n",
       "    .dataframe tbody tr th:only-of-type {\n",
       "        vertical-align: middle;\n",
       "    }\n",
       "\n",
       "    .dataframe tbody tr th {\n",
       "        vertical-align: top;\n",
       "    }\n",
       "\n",
       "    .dataframe thead th {\n",
       "        text-align: right;\n",
       "    }\n",
       "</style>\n",
       "<table border=\"1\" class=\"dataframe\">\n",
       "  <thead>\n",
       "    <tr style=\"text-align: right;\">\n",
       "      <th></th>\n",
       "      <th>Quarter</th>\n",
       "      <th>Sales</th>\n",
       "      <th>Quarter_Year</th>\n",
       "      <th>Date</th>\n",
       "    </tr>\n",
       "  </thead>\n",
       "  <tbody>\n",
       "    <tr>\n",
       "      <th>0</th>\n",
       "      <td>Q1_86</td>\n",
       "      <td>1734.827000</td>\n",
       "      <td>Q1 1986</td>\n",
       "      <td>1986-01-01</td>\n",
       "    </tr>\n",
       "    <tr>\n",
       "      <th>1</th>\n",
       "      <td>Q2_86</td>\n",
       "      <td>2244.960999</td>\n",
       "      <td>Q2 1986</td>\n",
       "      <td>1986-04-01</td>\n",
       "    </tr>\n",
       "    <tr>\n",
       "      <th>2</th>\n",
       "      <td>Q3_86</td>\n",
       "      <td>2533.804993</td>\n",
       "      <td>Q3 1986</td>\n",
       "      <td>1986-07-01</td>\n",
       "    </tr>\n",
       "    <tr>\n",
       "      <th>3</th>\n",
       "      <td>Q4_86</td>\n",
       "      <td>2154.962997</td>\n",
       "      <td>Q4 1986</td>\n",
       "      <td>1986-10-01</td>\n",
       "    </tr>\n",
       "    <tr>\n",
       "      <th>4</th>\n",
       "      <td>Q1_87</td>\n",
       "      <td>1547.818996</td>\n",
       "      <td>Q1 1987</td>\n",
       "      <td>1987-01-01</td>\n",
       "    </tr>\n",
       "  </tbody>\n",
       "</table>\n",
       "</div>"
      ],
      "text/plain": [
       "  Quarter        Sales Quarter_Year       Date\n",
       "0   Q1_86  1734.827000      Q1 1986 1986-01-01\n",
       "1   Q2_86  2244.960999      Q2 1986 1986-04-01\n",
       "2   Q3_86  2533.804993      Q3 1986 1986-07-01\n",
       "3   Q4_86  2154.962997      Q4 1986 1986-10-01\n",
       "4   Q1_87  1547.818996      Q1 1987 1987-01-01"
      ]
     },
     "execution_count": 9,
     "metadata": {},
     "output_type": "execute_result"
    }
   ],
   "source": [
    "#Coverting Quarter Years with Quarter Start Date Year (Date Month and Year)\n",
    "\n",
    "# converting into datetime formate as the index was not in correct formate.\n",
    "cola['Date'] = pd.to_datetime(cola['Quarter_Year'].str.split(' ').apply(lambda x: ''.join(x[::-1])),\n",
    "                              dayfirst=True)\n",
    "cola.head()"
   ]
  },
  {
   "cell_type": "code",
   "execution_count": 10,
   "id": "e8fcff34",
   "metadata": {
    "ExecuteTime": {
     "end_time": "2023-09-03T18:49:18.723315Z",
     "start_time": "2023-09-03T18:49:18.290918Z"
    }
   },
   "outputs": [
    {
     "data": {
      "text/html": [
       "<div>\n",
       "<style scoped>\n",
       "    .dataframe tbody tr th:only-of-type {\n",
       "        vertical-align: middle;\n",
       "    }\n",
       "\n",
       "    .dataframe tbody tr th {\n",
       "        vertical-align: top;\n",
       "    }\n",
       "\n",
       "    .dataframe thead th {\n",
       "        text-align: right;\n",
       "    }\n",
       "</style>\n",
       "<table border=\"1\" class=\"dataframe\">\n",
       "  <thead>\n",
       "    <tr style=\"text-align: right;\">\n",
       "      <th></th>\n",
       "      <th>Quarter</th>\n",
       "      <th>Sales</th>\n",
       "      <th>Quarter_Year</th>\n",
       "      <th>Date</th>\n",
       "      <th>Quarters</th>\n",
       "    </tr>\n",
       "  </thead>\n",
       "  <tbody>\n",
       "    <tr>\n",
       "      <th>0</th>\n",
       "      <td>Q1_86</td>\n",
       "      <td>1734.827000</td>\n",
       "      <td>Q1 1986</td>\n",
       "      <td>1986-01-01</td>\n",
       "      <td>Q1</td>\n",
       "    </tr>\n",
       "    <tr>\n",
       "      <th>1</th>\n",
       "      <td>Q2_86</td>\n",
       "      <td>2244.960999</td>\n",
       "      <td>Q2 1986</td>\n",
       "      <td>1986-04-01</td>\n",
       "      <td>Q2</td>\n",
       "    </tr>\n",
       "    <tr>\n",
       "      <th>2</th>\n",
       "      <td>Q3_86</td>\n",
       "      <td>2533.804993</td>\n",
       "      <td>Q3 1986</td>\n",
       "      <td>1986-07-01</td>\n",
       "      <td>Q3</td>\n",
       "    </tr>\n",
       "    <tr>\n",
       "      <th>3</th>\n",
       "      <td>Q4_86</td>\n",
       "      <td>2154.962997</td>\n",
       "      <td>Q4 1986</td>\n",
       "      <td>1986-10-01</td>\n",
       "      <td>Q4</td>\n",
       "    </tr>\n",
       "    <tr>\n",
       "      <th>4</th>\n",
       "      <td>Q1_87</td>\n",
       "      <td>1547.818996</td>\n",
       "      <td>Q1 1987</td>\n",
       "      <td>1987-01-01</td>\n",
       "      <td>Q1</td>\n",
       "    </tr>\n",
       "  </tbody>\n",
       "</table>\n",
       "</div>"
      ],
      "text/plain": [
       "  Quarter        Sales Quarter_Year       Date Quarters\n",
       "0   Q1_86  1734.827000      Q1 1986 1986-01-01       Q1\n",
       "1   Q2_86  2244.960999      Q2 1986 1986-04-01       Q2\n",
       "2   Q3_86  2533.804993      Q3 1986 1986-07-01       Q3\n",
       "3   Q4_86  2154.962997      Q4 1986 1986-10-01       Q4\n",
       "4   Q1_87  1547.818996      Q1 1987 1987-01-01       Q1"
      ]
     },
     "execution_count": 10,
     "metadata": {},
     "output_type": "execute_result"
    }
   ],
   "source": [
    "# Now, extracting the Quarters and putting them in column\n",
    "cola['Quarters'] = 0\n",
    "for i in range(42):\n",
    "    n = cola['Quarter'][i]\n",
    "    cola['Quarters'][i] = n[0:2]  \n",
    "cola.head()"
   ]
  },
  {
   "cell_type": "code",
   "execution_count": 11,
   "id": "a0114b7c",
   "metadata": {
    "ExecuteTime": {
     "end_time": "2023-09-03T18:49:18.739461Z",
     "start_time": "2023-09-03T18:49:18.726285Z"
    }
   },
   "outputs": [
    {
     "data": {
      "text/html": [
       "<div>\n",
       "<style scoped>\n",
       "    .dataframe tbody tr th:only-of-type {\n",
       "        vertical-align: middle;\n",
       "    }\n",
       "\n",
       "    .dataframe tbody tr th {\n",
       "        vertical-align: top;\n",
       "    }\n",
       "\n",
       "    .dataframe thead th {\n",
       "        text-align: right;\n",
       "    }\n",
       "</style>\n",
       "<table border=\"1\" class=\"dataframe\">\n",
       "  <thead>\n",
       "    <tr style=\"text-align: right;\">\n",
       "      <th></th>\n",
       "      <th>Quarter</th>\n",
       "      <th>Sales</th>\n",
       "      <th>Quarter_Year</th>\n",
       "      <th>Date</th>\n",
       "      <th>Quarters</th>\n",
       "      <th>Q1</th>\n",
       "      <th>Q2</th>\n",
       "      <th>Q3</th>\n",
       "      <th>Q4</th>\n",
       "    </tr>\n",
       "  </thead>\n",
       "  <tbody>\n",
       "    <tr>\n",
       "      <th>0</th>\n",
       "      <td>Q1_86</td>\n",
       "      <td>1734.827000</td>\n",
       "      <td>Q1 1986</td>\n",
       "      <td>1986-01-01</td>\n",
       "      <td>Q1</td>\n",
       "      <td>1</td>\n",
       "      <td>0</td>\n",
       "      <td>0</td>\n",
       "      <td>0</td>\n",
       "    </tr>\n",
       "    <tr>\n",
       "      <th>1</th>\n",
       "      <td>Q2_86</td>\n",
       "      <td>2244.960999</td>\n",
       "      <td>Q2 1986</td>\n",
       "      <td>1986-04-01</td>\n",
       "      <td>Q2</td>\n",
       "      <td>0</td>\n",
       "      <td>1</td>\n",
       "      <td>0</td>\n",
       "      <td>0</td>\n",
       "    </tr>\n",
       "    <tr>\n",
       "      <th>2</th>\n",
       "      <td>Q3_86</td>\n",
       "      <td>2533.804993</td>\n",
       "      <td>Q3 1986</td>\n",
       "      <td>1986-07-01</td>\n",
       "      <td>Q3</td>\n",
       "      <td>0</td>\n",
       "      <td>0</td>\n",
       "      <td>1</td>\n",
       "      <td>0</td>\n",
       "    </tr>\n",
       "    <tr>\n",
       "      <th>3</th>\n",
       "      <td>Q4_86</td>\n",
       "      <td>2154.962997</td>\n",
       "      <td>Q4 1986</td>\n",
       "      <td>1986-10-01</td>\n",
       "      <td>Q4</td>\n",
       "      <td>0</td>\n",
       "      <td>0</td>\n",
       "      <td>0</td>\n",
       "      <td>1</td>\n",
       "    </tr>\n",
       "    <tr>\n",
       "      <th>4</th>\n",
       "      <td>Q1_87</td>\n",
       "      <td>1547.818996</td>\n",
       "      <td>Q1 1987</td>\n",
       "      <td>1987-01-01</td>\n",
       "      <td>Q1</td>\n",
       "      <td>1</td>\n",
       "      <td>0</td>\n",
       "      <td>0</td>\n",
       "      <td>0</td>\n",
       "    </tr>\n",
       "  </tbody>\n",
       "</table>\n",
       "</div>"
      ],
      "text/plain": [
       "  Quarter        Sales Quarter_Year       Date Quarters  Q1  Q2  Q3  Q4\n",
       "0   Q1_86  1734.827000      Q1 1986 1986-01-01       Q1   1   0   0   0\n",
       "1   Q2_86  2244.960999      Q2 1986 1986-04-01       Q2   0   1   0   0\n",
       "2   Q3_86  2533.804993      Q3 1986 1986-07-01       Q3   0   0   1   0\n",
       "3   Q4_86  2154.962997      Q4 1986 1986-10-01       Q4   0   0   0   1\n",
       "4   Q1_87  1547.818996      Q1 1987 1987-01-01       Q1   1   0   0   0"
      ]
     },
     "execution_count": 11,
     "metadata": {},
     "output_type": "execute_result"
    }
   ],
   "source": [
    "#Creating Dummy Variables for Quarters Variable\n",
    "dummy = pd.DataFrame(pd.get_dummies(cola['Quarters']))\n",
    "cola1 = pd.concat((cola, dummy), axis=1)\n",
    "cola1.head()"
   ]
  },
  {
   "cell_type": "code",
   "execution_count": 12,
   "id": "fdbc2525",
   "metadata": {
    "ExecuteTime": {
     "end_time": "2023-09-03T18:49:18.755413Z",
     "start_time": "2023-09-03T18:49:18.741457Z"
    }
   },
   "outputs": [
    {
     "data": {
      "text/html": [
       "<div>\n",
       "<style scoped>\n",
       "    .dataframe tbody tr th:only-of-type {\n",
       "        vertical-align: middle;\n",
       "    }\n",
       "\n",
       "    .dataframe tbody tr th {\n",
       "        vertical-align: top;\n",
       "    }\n",
       "\n",
       "    .dataframe thead th {\n",
       "        text-align: right;\n",
       "    }\n",
       "</style>\n",
       "<table border=\"1\" class=\"dataframe\">\n",
       "  <thead>\n",
       "    <tr style=\"text-align: right;\">\n",
       "      <th></th>\n",
       "      <th>Sales</th>\n",
       "      <th>Date</th>\n",
       "      <th>Quarters</th>\n",
       "      <th>Q1</th>\n",
       "      <th>Q2</th>\n",
       "      <th>Q3</th>\n",
       "      <th>Q4</th>\n",
       "    </tr>\n",
       "  </thead>\n",
       "  <tbody>\n",
       "    <tr>\n",
       "      <th>0</th>\n",
       "      <td>1734.827000</td>\n",
       "      <td>1986-01-01</td>\n",
       "      <td>Q1</td>\n",
       "      <td>1</td>\n",
       "      <td>0</td>\n",
       "      <td>0</td>\n",
       "      <td>0</td>\n",
       "    </tr>\n",
       "    <tr>\n",
       "      <th>1</th>\n",
       "      <td>2244.960999</td>\n",
       "      <td>1986-04-01</td>\n",
       "      <td>Q2</td>\n",
       "      <td>0</td>\n",
       "      <td>1</td>\n",
       "      <td>0</td>\n",
       "      <td>0</td>\n",
       "    </tr>\n",
       "    <tr>\n",
       "      <th>2</th>\n",
       "      <td>2533.804993</td>\n",
       "      <td>1986-07-01</td>\n",
       "      <td>Q3</td>\n",
       "      <td>0</td>\n",
       "      <td>0</td>\n",
       "      <td>1</td>\n",
       "      <td>0</td>\n",
       "    </tr>\n",
       "    <tr>\n",
       "      <th>3</th>\n",
       "      <td>2154.962997</td>\n",
       "      <td>1986-10-01</td>\n",
       "      <td>Q4</td>\n",
       "      <td>0</td>\n",
       "      <td>0</td>\n",
       "      <td>0</td>\n",
       "      <td>1</td>\n",
       "    </tr>\n",
       "    <tr>\n",
       "      <th>4</th>\n",
       "      <td>1547.818996</td>\n",
       "      <td>1987-01-01</td>\n",
       "      <td>Q1</td>\n",
       "      <td>1</td>\n",
       "      <td>0</td>\n",
       "      <td>0</td>\n",
       "      <td>0</td>\n",
       "    </tr>\n",
       "  </tbody>\n",
       "</table>\n",
       "</div>"
      ],
      "text/plain": [
       "         Sales       Date Quarters  Q1  Q2  Q3  Q4\n",
       "0  1734.827000 1986-01-01       Q1   1   0   0   0\n",
       "1  2244.960999 1986-04-01       Q2   0   1   0   0\n",
       "2  2533.804993 1986-07-01       Q3   0   0   1   0\n",
       "3  2154.962997 1986-10-01       Q4   0   0   0   1\n",
       "4  1547.818996 1987-01-01       Q1   1   0   0   0"
      ]
     },
     "execution_count": 12,
     "metadata": {},
     "output_type": "execute_result"
    }
   ],
   "source": [
    "# Dropping all the unnecessary columns\n",
    "cola1.drop(['Quarter','Quarter_Year'] , axis =1, inplace = True)\n",
    "cola1.head()"
   ]
  },
  {
   "cell_type": "code",
   "execution_count": 13,
   "id": "4fb3490e",
   "metadata": {
    "ExecuteTime": {
     "end_time": "2023-09-03T18:49:18.771463Z",
     "start_time": "2023-09-03T18:49:18.757435Z"
    }
   },
   "outputs": [
    {
     "name": "stdout",
     "output_type": "stream",
     "text": [
      "Int64Index([1986, 1986, 1986, 1986, 1987, 1987, 1987, 1987, 1988, 1988, 1988,\n",
      "            1988, 1989, 1989, 1989, 1989, 1990, 1990, 1990, 1990, 1991, 1991,\n",
      "            1991, 1991, 1992, 1992, 1992, 1992, 1993, 1993, 1993, 1993, 1994,\n",
      "            1994, 1994, 1994, 1995, 1995, 1995, 1995, 1996, 1996],\n",
      "           dtype='int64', name='Date')\n"
     ]
    },
    {
     "data": {
      "text/html": [
       "<div>\n",
       "<style scoped>\n",
       "    .dataframe tbody tr th:only-of-type {\n",
       "        vertical-align: middle;\n",
       "    }\n",
       "\n",
       "    .dataframe tbody tr th {\n",
       "        vertical-align: top;\n",
       "    }\n",
       "\n",
       "    .dataframe thead th {\n",
       "        text-align: right;\n",
       "    }\n",
       "</style>\n",
       "<table border=\"1\" class=\"dataframe\">\n",
       "  <thead>\n",
       "    <tr style=\"text-align: right;\">\n",
       "      <th></th>\n",
       "      <th>Sales</th>\n",
       "      <th>Quarters</th>\n",
       "      <th>Q1</th>\n",
       "      <th>Q2</th>\n",
       "      <th>Q3</th>\n",
       "      <th>Q4</th>\n",
       "    </tr>\n",
       "    <tr>\n",
       "      <th>Date</th>\n",
       "      <th></th>\n",
       "      <th></th>\n",
       "      <th></th>\n",
       "      <th></th>\n",
       "      <th></th>\n",
       "      <th></th>\n",
       "    </tr>\n",
       "  </thead>\n",
       "  <tbody>\n",
       "    <tr>\n",
       "      <th>1986-01-01</th>\n",
       "      <td>1734.827000</td>\n",
       "      <td>Q1</td>\n",
       "      <td>1</td>\n",
       "      <td>0</td>\n",
       "      <td>0</td>\n",
       "      <td>0</td>\n",
       "    </tr>\n",
       "    <tr>\n",
       "      <th>1986-04-01</th>\n",
       "      <td>2244.960999</td>\n",
       "      <td>Q2</td>\n",
       "      <td>0</td>\n",
       "      <td>1</td>\n",
       "      <td>0</td>\n",
       "      <td>0</td>\n",
       "    </tr>\n",
       "    <tr>\n",
       "      <th>1986-07-01</th>\n",
       "      <td>2533.804993</td>\n",
       "      <td>Q3</td>\n",
       "      <td>0</td>\n",
       "      <td>0</td>\n",
       "      <td>1</td>\n",
       "      <td>0</td>\n",
       "    </tr>\n",
       "    <tr>\n",
       "      <th>1986-10-01</th>\n",
       "      <td>2154.962997</td>\n",
       "      <td>Q4</td>\n",
       "      <td>0</td>\n",
       "      <td>0</td>\n",
       "      <td>0</td>\n",
       "      <td>1</td>\n",
       "    </tr>\n",
       "    <tr>\n",
       "      <th>1987-01-01</th>\n",
       "      <td>1547.818996</td>\n",
       "      <td>Q1</td>\n",
       "      <td>1</td>\n",
       "      <td>0</td>\n",
       "      <td>0</td>\n",
       "      <td>0</td>\n",
       "    </tr>\n",
       "  </tbody>\n",
       "</table>\n",
       "</div>"
      ],
      "text/plain": [
       "                  Sales Quarters  Q1  Q2  Q3  Q4\n",
       "Date                                            \n",
       "1986-01-01  1734.827000       Q1   1   0   0   0\n",
       "1986-04-01  2244.960999       Q2   0   1   0   0\n",
       "1986-07-01  2533.804993       Q3   0   0   1   0\n",
       "1986-10-01  2154.962997       Q4   0   0   0   1\n",
       "1987-01-01  1547.818996       Q1   1   0   0   0"
      ]
     },
     "execution_count": 13,
     "metadata": {},
     "output_type": "execute_result"
    }
   ],
   "source": [
    "# Making the Date as DateTime index for the Dataframe\n",
    "cola1.set_index('Date',inplace=True)\n",
    "print(cola1.index.year)\n",
    "cola1.head()"
   ]
  },
  {
   "cell_type": "code",
   "execution_count": 14,
   "id": "f795e4b8",
   "metadata": {
    "ExecuteTime": {
     "end_time": "2023-09-03T18:49:18.802962Z",
     "start_time": "2023-09-03T18:49:18.773399Z"
    }
   },
   "outputs": [
    {
     "data": {
      "text/html": [
       "<div>\n",
       "<style scoped>\n",
       "    .dataframe tbody tr th:only-of-type {\n",
       "        vertical-align: middle;\n",
       "    }\n",
       "\n",
       "    .dataframe tbody tr th {\n",
       "        vertical-align: top;\n",
       "    }\n",
       "\n",
       "    .dataframe thead th {\n",
       "        text-align: right;\n",
       "    }\n",
       "</style>\n",
       "<table border=\"1\" class=\"dataframe\">\n",
       "  <thead>\n",
       "    <tr style=\"text-align: right;\">\n",
       "      <th></th>\n",
       "      <th>Quarter</th>\n",
       "      <th>Sales</th>\n",
       "      <th>Quarter_Year</th>\n",
       "      <th>Date</th>\n",
       "      <th>Quarters</th>\n",
       "      <th>Month</th>\n",
       "      <th>Year</th>\n",
       "    </tr>\n",
       "  </thead>\n",
       "  <tbody>\n",
       "    <tr>\n",
       "      <th>0</th>\n",
       "      <td>Q1_86</td>\n",
       "      <td>1734.827000</td>\n",
       "      <td>Q1 1986</td>\n",
       "      <td>1986-01-01</td>\n",
       "      <td>Q1</td>\n",
       "      <td>Jan</td>\n",
       "      <td>1986</td>\n",
       "    </tr>\n",
       "    <tr>\n",
       "      <th>1</th>\n",
       "      <td>Q2_86</td>\n",
       "      <td>2244.960999</td>\n",
       "      <td>Q2 1986</td>\n",
       "      <td>1986-04-01</td>\n",
       "      <td>Q2</td>\n",
       "      <td>Apr</td>\n",
       "      <td>1986</td>\n",
       "    </tr>\n",
       "    <tr>\n",
       "      <th>2</th>\n",
       "      <td>Q3_86</td>\n",
       "      <td>2533.804993</td>\n",
       "      <td>Q3 1986</td>\n",
       "      <td>1986-07-01</td>\n",
       "      <td>Q3</td>\n",
       "      <td>Jul</td>\n",
       "      <td>1986</td>\n",
       "    </tr>\n",
       "    <tr>\n",
       "      <th>3</th>\n",
       "      <td>Q4_86</td>\n",
       "      <td>2154.962997</td>\n",
       "      <td>Q4 1986</td>\n",
       "      <td>1986-10-01</td>\n",
       "      <td>Q4</td>\n",
       "      <td>Oct</td>\n",
       "      <td>1986</td>\n",
       "    </tr>\n",
       "    <tr>\n",
       "      <th>4</th>\n",
       "      <td>Q1_87</td>\n",
       "      <td>1547.818996</td>\n",
       "      <td>Q1 1987</td>\n",
       "      <td>1987-01-01</td>\n",
       "      <td>Q1</td>\n",
       "      <td>Jan</td>\n",
       "      <td>1987</td>\n",
       "    </tr>\n",
       "  </tbody>\n",
       "</table>\n",
       "</div>"
      ],
      "text/plain": [
       "  Quarter        Sales Quarter_Year       Date Quarters Month  Year\n",
       "0   Q1_86  1734.827000      Q1 1986 1986-01-01       Q1   Jan  1986\n",
       "1   Q2_86  2244.960999      Q2 1986 1986-04-01       Q2   Apr  1986\n",
       "2   Q3_86  2533.804993      Q3 1986 1986-07-01       Q3   Jul  1986\n",
       "3   Q4_86  2154.962997      Q4 1986 1986-10-01       Q4   Oct  1986\n",
       "4   Q1_87  1547.818996      Q1 1987 1987-01-01       Q1   Jan  1987"
      ]
     },
     "execution_count": 14,
     "metadata": {},
     "output_type": "execute_result"
    }
   ],
   "source": [
    "# Separating Month and Year into Separate Column for Visualization and removing meaningful insight of the data\n",
    "cola[\"Date\"] = pd.to_datetime(cola.Date,format=\"%b-%y\")\n",
    "cola[\"Month\"] = cola.Date.dt.strftime(\"%b\") # month extraction\n",
    "cola[\"Year\"] = cola.Date.dt.strftime(\"%Y\") # year extraction\n",
    "cola.head()"
   ]
  },
  {
   "cell_type": "markdown",
   "id": "5405ceaf",
   "metadata": {},
   "source": [
    "## Visualizations "
   ]
  },
  {
   "cell_type": "markdown",
   "id": "8e9b1885",
   "metadata": {},
   "source": [
    "##### Line Plot"
   ]
  },
  {
   "cell_type": "code",
   "execution_count": 15,
   "id": "ed74c3c3",
   "metadata": {
    "ExecuteTime": {
     "end_time": "2023-09-03T18:49:19.118588Z",
     "start_time": "2023-09-03T18:49:18.804970Z"
    }
   },
   "outputs": [
    {
     "data": {
      "image/png": "[encoded data removed]",
      "text/plain": [
       "<Figure size 576x216 with 1 Axes>"
      ]
     },
     "metadata": {
      "needs_background": "light"
     },
     "output_type": "display_data"
    }
   ],
   "source": [
    "# creating a Line Plot\n",
    "cola1['Sales'].plot(figsize=(8,3), marker='.')\n",
    "plt.show()"
   ]
  },
  {
   "cell_type": "markdown",
   "id": "a227075a",
   "metadata": {},
   "source": [
    "We can observe that there is an increment in the trend.\n",
    "\n",
    "Hence, the time series is non-stationary."
   ]
  },
  {
   "cell_type": "markdown",
   "id": "b1af2c09",
   "metadata": {},
   "source": [
    "##### Histogram  Plot"
   ]
  },
  {
   "cell_type": "code",
   "execution_count": 16,
   "id": "ebc6830e",
   "metadata": {
    "ExecuteTime": {
     "end_time": "2023-09-03T18:49:19.227393Z",
     "start_time": "2023-09-03T18:49:19.121647Z"
    },
    "scrolled": true
   },
   "outputs": [
    {
     "data": {
      "image/png": "[encoded data removed]",
      "text/plain": [
       "<Figure size 576x216 with 1 Axes>"
      ]
     },
     "metadata": {
      "needs_background": "light"
     },
     "output_type": "display_data"
    }
   ],
   "source": [
    "# Plotting a Histogram\n",
    "cola1['Sales'].hist(figsize=(8,3))\n",
    "plt.show()"
   ]
  },
  {
   "cell_type": "markdown",
   "id": "f45fb6a5",
   "metadata": {},
   "source": [
    "##### Density Plot"
   ]
  },
  {
   "cell_type": "code",
   "execution_count": 17,
   "id": "5899927b",
   "metadata": {
    "ExecuteTime": {
     "end_time": "2023-09-03T18:49:19.336890Z",
     "start_time": "2023-09-03T18:49:19.229387Z"
    },
    "scrolled": true
   },
   "outputs": [
    {
     "data": {
      "image/png": "[encoded data removed]",
      "text/plain": [
       "<Figure size 360x216 with 1 Axes>"
      ]
     },
     "metadata": {
      "needs_background": "light"
     },
     "output_type": "display_data"
    }
   ],
   "source": [
    "# creating Density Plot\n",
    "cola1['Sales'].plot(kind='kde', figsize=(5,3), marker='.', markersize=0.3)\n",
    "plt.show()"
   ]
  },
  {
   "cell_type": "markdown",
   "id": "ad290df1",
   "metadata": {},
   "source": [
    "##### Box Plot"
   ]
  },
  {
   "cell_type": "code",
   "execution_count": 18,
   "id": "370a815a",
   "metadata": {
    "ExecuteTime": {
     "end_time": "2023-09-03T18:49:19.622310Z",
     "start_time": "2023-09-03T18:49:19.337884Z"
    }
   },
   "outputs": [
    {
     "data": {
      "image/png": "[encoded data removed]",
      "text/plain": [
       "<Figure size 720x360 with 2 Axes>"
      ]
     },
     "metadata": {
      "needs_background": "light"
     },
     "output_type": "display_data"
    }
   ],
   "source": [
    "# Boxplot for each year by monthly intervals\n",
    "plt.figure(figsize=(10,5))\n",
    "plt.subplot(211)\n",
    "sns.boxplot(x=\"Month\", y=\"Sales\", data=cola);\n",
    "plt.subplot(212)\n",
    "sns.boxplot(x=\"Year\", y=\"Sales\", data=cola);"
   ]
  },
  {
   "cell_type": "markdown",
   "id": "4ec7713b",
   "metadata": {},
   "source": [
    "##### Lag Plot"
   ]
  },
  {
   "cell_type": "code",
   "execution_count": 19,
   "id": "c244a576",
   "metadata": {
    "ExecuteTime": {
     "end_time": "2023-09-03T18:49:19.717068Z",
     "start_time": "2023-09-03T18:49:19.625298Z"
    }
   },
   "outputs": [
    {
     "data": {
      "image/png": "[encoded data removed]",
      "text/plain": [
       "<Figure size 432x216 with 1 Axes>"
      ]
     },
     "metadata": {
      "needs_background": "light"
     },
     "output_type": "display_data"
    }
   ],
   "source": [
    "# creating Scatter Plot\n",
    "plt.figure(figsize=(6,3))\n",
    "lag_plot(cola1.Sales)\n",
    "plt.show()"
   ]
  },
  {
   "cell_type": "markdown",
   "id": "8290f515",
   "metadata": {},
   "source": [
    "### Moving Average"
   ]
  },
  {
   "cell_type": "code",
   "execution_count": 20,
   "id": "fb6c1b0b",
   "metadata": {
    "ExecuteTime": {
     "end_time": "2023-09-03T18:49:19.841369Z",
     "start_time": "2023-09-03T18:49:19.719060Z"
    }
   },
   "outputs": [
    {
     "data": {
      "image/png": "[encoded data removed]",
      "text/plain": [
       "<Figure size 864x288 with 1 Axes>"
      ]
     },
     "metadata": {
      "needs_background": "light"
     },
     "output_type": "display_data"
    }
   ],
   "source": [
    "plt.figure(figsize=(12,4))\n",
    "cola.Sales.plot(label='org')\n",
    "for i in range(4,16,4):\n",
    "    cola['Sales'].rolling(i).mean().plot(label=str(i))\n",
    "plt.legend(loc='best')\n",
    "plt.show()"
   ]
  },
  {
   "cell_type": "markdown",
   "id": "a850311f",
   "metadata": {},
   "source": [
    "#### Time series decomposition plot"
   ]
  },
  {
   "cell_type": "code",
   "execution_count": 21,
   "id": "76f07221",
   "metadata": {
    "ExecuteTime": {
     "end_time": "2023-09-03T18:49:20.188597Z",
     "start_time": "2023-09-03T18:49:19.843549Z"
    }
   },
   "outputs": [
    {
     "data": {
      "image/png": "[encoded data removed]",
      "text/plain": [
       "<Figure size 432x288 with 4 Axes>"
      ]
     },
     "metadata": {
      "needs_background": "light"
     },
     "output_type": "display_data"
    }
   ],
   "source": [
    "decomp = seasonal_decompose(cola.Sales, period=12)\n",
    "with plt.rc_context():\n",
    "    plt.rc(\"figure\", figsize=(6,4))\n",
    "    decomp.plot()\n",
    "    plt.show()"
   ]
  },
  {
   "cell_type": "markdown",
   "id": "0721469b",
   "metadata": {},
   "source": [
    "#### Autocorrelation Plot (ACF)"
   ]
  },
  {
   "cell_type": "code",
   "execution_count": 22,
   "id": "af8158bf",
   "metadata": {
    "ExecuteTime": {
     "end_time": "2023-09-03T18:49:20.314199Z",
     "start_time": "2023-09-03T18:49:20.190589Z"
    }
   },
   "outputs": [
    {
     "data": {
      "image/png": "[encoded data removed]",
      "text/plain": [
       "<Figure size 720x216 with 1 Axes>"
      ]
     },
     "metadata": {
      "needs_background": "light"
     },
     "output_type": "display_data"
    }
   ],
   "source": [
    "# creating an Autocorrelation plot\n",
    "from statsmodels.graphics.tsaplots import plot_acf\n",
    "with plt.rc_context():\n",
    "    plt.rc(\"figure\", figsize=(10,3))\n",
    "    plot_acf(cola.Sales,lags=41)\n",
    "    plt.show()"
   ]
  },
  {
   "cell_type": "markdown",
   "id": "810ddc1e",
   "metadata": {},
   "source": [
    "#### Partial Autocorrelation Plot (PACF)"
   ]
  },
  {
   "cell_type": "code",
   "execution_count": 23,
   "id": "29eeb72e",
   "metadata": {
    "ExecuteTime": {
     "end_time": "2023-09-03T18:49:20.470794Z",
     "start_time": "2023-09-03T18:49:20.316853Z"
    }
   },
   "outputs": [
    {
     "data": {
      "image/png": "[encoded data removed]",
      "text/plain": [
       "<Figure size 720x216 with 1 Axes>"
      ]
     },
     "metadata": {
      "needs_background": "light"
     },
     "output_type": "display_data"
    }
   ],
   "source": [
    "# creating an Autocorrelation plot\n",
    "from statsmodels.graphics.tsaplots import plot_pacf\n",
    "with plt.rc_context():\n",
    "    plt.rc(\"figure\", figsize=(10,3))\n",
    "    plot_pacf(cola.Sales,lags=20)\n",
    "    plt.show()"
   ]
  },
  {
   "cell_type": "markdown",
   "id": "10ab3bac",
   "metadata": {},
   "source": [
    "## Data Preprocessing"
   ]
  },
  {
   "cell_type": "code",
   "execution_count": 24,
   "id": "96db1cac",
   "metadata": {
    "ExecuteTime": {
     "end_time": "2023-09-03T18:49:20.486794Z",
     "start_time": "2023-09-03T18:49:20.472818Z"
    }
   },
   "outputs": [
    {
     "data": {
      "text/html": [
       "<div>\n",
       "<style scoped>\n",
       "    .dataframe tbody tr th:only-of-type {\n",
       "        vertical-align: middle;\n",
       "    }\n",
       "\n",
       "    .dataframe tbody tr th {\n",
       "        vertical-align: top;\n",
       "    }\n",
       "\n",
       "    .dataframe thead th {\n",
       "        text-align: right;\n",
       "    }\n",
       "</style>\n",
       "<table border=\"1\" class=\"dataframe\">\n",
       "  <thead>\n",
       "    <tr style=\"text-align: right;\">\n",
       "      <th></th>\n",
       "      <th>Quarter</th>\n",
       "      <th>Sales</th>\n",
       "      <th>Quarter_Year</th>\n",
       "      <th>Date</th>\n",
       "      <th>Quarters</th>\n",
       "      <th>Month</th>\n",
       "      <th>Year</th>\n",
       "      <th>Apr</th>\n",
       "      <th>Jan</th>\n",
       "      <th>Jul</th>\n",
       "      <th>Oct</th>\n",
       "    </tr>\n",
       "  </thead>\n",
       "  <tbody>\n",
       "    <tr>\n",
       "      <th>0</th>\n",
       "      <td>Q1_86</td>\n",
       "      <td>1734.827000</td>\n",
       "      <td>Q1 1986</td>\n",
       "      <td>1986-01-01</td>\n",
       "      <td>Q1</td>\n",
       "      <td>Jan</td>\n",
       "      <td>1986</td>\n",
       "      <td>0</td>\n",
       "      <td>1</td>\n",
       "      <td>0</td>\n",
       "      <td>0</td>\n",
       "    </tr>\n",
       "    <tr>\n",
       "      <th>1</th>\n",
       "      <td>Q2_86</td>\n",
       "      <td>2244.960999</td>\n",
       "      <td>Q2 1986</td>\n",
       "      <td>1986-04-01</td>\n",
       "      <td>Q2</td>\n",
       "      <td>Apr</td>\n",
       "      <td>1986</td>\n",
       "      <td>1</td>\n",
       "      <td>0</td>\n",
       "      <td>0</td>\n",
       "      <td>0</td>\n",
       "    </tr>\n",
       "    <tr>\n",
       "      <th>2</th>\n",
       "      <td>Q3_86</td>\n",
       "      <td>2533.804993</td>\n",
       "      <td>Q3 1986</td>\n",
       "      <td>1986-07-01</td>\n",
       "      <td>Q3</td>\n",
       "      <td>Jul</td>\n",
       "      <td>1986</td>\n",
       "      <td>0</td>\n",
       "      <td>0</td>\n",
       "      <td>1</td>\n",
       "      <td>0</td>\n",
       "    </tr>\n",
       "    <tr>\n",
       "      <th>3</th>\n",
       "      <td>Q4_86</td>\n",
       "      <td>2154.962997</td>\n",
       "      <td>Q4 1986</td>\n",
       "      <td>1986-10-01</td>\n",
       "      <td>Q4</td>\n",
       "      <td>Oct</td>\n",
       "      <td>1986</td>\n",
       "      <td>0</td>\n",
       "      <td>0</td>\n",
       "      <td>0</td>\n",
       "      <td>1</td>\n",
       "    </tr>\n",
       "    <tr>\n",
       "      <th>4</th>\n",
       "      <td>Q1_87</td>\n",
       "      <td>1547.818996</td>\n",
       "      <td>Q1 1987</td>\n",
       "      <td>1987-01-01</td>\n",
       "      <td>Q1</td>\n",
       "      <td>Jan</td>\n",
       "      <td>1987</td>\n",
       "      <td>0</td>\n",
       "      <td>1</td>\n",
       "      <td>0</td>\n",
       "      <td>0</td>\n",
       "    </tr>\n",
       "    <tr>\n",
       "      <th>5</th>\n",
       "      <td>Q2_87</td>\n",
       "      <td>2104.411995</td>\n",
       "      <td>Q2 1987</td>\n",
       "      <td>1987-04-01</td>\n",
       "      <td>Q2</td>\n",
       "      <td>Apr</td>\n",
       "      <td>1987</td>\n",
       "      <td>1</td>\n",
       "      <td>0</td>\n",
       "      <td>0</td>\n",
       "      <td>0</td>\n",
       "    </tr>\n",
       "    <tr>\n",
       "      <th>6</th>\n",
       "      <td>Q3_87</td>\n",
       "      <td>2014.362999</td>\n",
       "      <td>Q3 1987</td>\n",
       "      <td>1987-07-01</td>\n",
       "      <td>Q3</td>\n",
       "      <td>Jul</td>\n",
       "      <td>1987</td>\n",
       "      <td>0</td>\n",
       "      <td>0</td>\n",
       "      <td>1</td>\n",
       "      <td>0</td>\n",
       "    </tr>\n",
       "    <tr>\n",
       "      <th>7</th>\n",
       "      <td>Q4_87</td>\n",
       "      <td>1991.746998</td>\n",
       "      <td>Q4 1987</td>\n",
       "      <td>1987-10-01</td>\n",
       "      <td>Q4</td>\n",
       "      <td>Oct</td>\n",
       "      <td>1987</td>\n",
       "      <td>0</td>\n",
       "      <td>0</td>\n",
       "      <td>0</td>\n",
       "      <td>1</td>\n",
       "    </tr>\n",
       "    <tr>\n",
       "      <th>8</th>\n",
       "      <td>Q1_88</td>\n",
       "      <td>1869.049999</td>\n",
       "      <td>Q1 1988</td>\n",
       "      <td>1988-01-01</td>\n",
       "      <td>Q1</td>\n",
       "      <td>Jan</td>\n",
       "      <td>1988</td>\n",
       "      <td>0</td>\n",
       "      <td>1</td>\n",
       "      <td>0</td>\n",
       "      <td>0</td>\n",
       "    </tr>\n",
       "    <tr>\n",
       "      <th>9</th>\n",
       "      <td>Q2_88</td>\n",
       "      <td>2313.631996</td>\n",
       "      <td>Q2 1988</td>\n",
       "      <td>1988-04-01</td>\n",
       "      <td>Q2</td>\n",
       "      <td>Apr</td>\n",
       "      <td>1988</td>\n",
       "      <td>1</td>\n",
       "      <td>0</td>\n",
       "      <td>0</td>\n",
       "      <td>0</td>\n",
       "    </tr>\n",
       "  </tbody>\n",
       "</table>\n",
       "</div>"
      ],
      "text/plain": [
       "  Quarter        Sales Quarter_Year       Date Quarters Month  Year  Apr  Jan  \\\n",
       "0   Q1_86  1734.827000      Q1 1986 1986-01-01       Q1   Jan  1986    0    1   \n",
       "1   Q2_86  2244.960999      Q2 1986 1986-04-01       Q2   Apr  1986    1    0   \n",
       "2   Q3_86  2533.804993      Q3 1986 1986-07-01       Q3   Jul  1986    0    0   \n",
       "3   Q4_86  2154.962997      Q4 1986 1986-10-01       Q4   Oct  1986    0    0   \n",
       "4   Q1_87  1547.818996      Q1 1987 1987-01-01       Q1   Jan  1987    0    1   \n",
       "5   Q2_87  2104.411995      Q2 1987 1987-04-01       Q2   Apr  1987    1    0   \n",
       "6   Q3_87  2014.362999      Q3 1987 1987-07-01       Q3   Jul  1987    0    0   \n",
       "7   Q4_87  1991.746998      Q4 1987 1987-10-01       Q4   Oct  1987    0    0   \n",
       "8   Q1_88  1869.049999      Q1 1988 1988-01-01       Q1   Jan  1988    0    1   \n",
       "9   Q2_88  2313.631996      Q2 1988 1988-04-01       Q2   Apr  1988    1    0   \n",
       "\n",
       "   Jul  Oct  \n",
       "0    0    0  \n",
       "1    0    0  \n",
       "2    1    0  \n",
       "3    0    1  \n",
       "4    0    0  \n",
       "5    0    0  \n",
       "6    1    0  \n",
       "7    0    1  \n",
       "8    0    0  \n",
       "9    0    0  "
      ]
     },
     "execution_count": 24,
     "metadata": {},
     "output_type": "execute_result"
    }
   ],
   "source": [
    "# getting dummies of the Month column and performing concatenation\n",
    "month_dummies = pd.DataFrame(pd.get_dummies(cola['Month']))\n",
    "data = pd.concat([cola, month_dummies],axis = 1)\n",
    "data.head(10)"
   ]
  },
  {
   "cell_type": "markdown",
   "id": "50906492",
   "metadata": {},
   "source": [
    "#### Applying Transformations"
   ]
  },
  {
   "cell_type": "code",
   "execution_count": 25,
   "id": "651eba6a",
   "metadata": {
    "ExecuteTime": {
     "end_time": "2023-09-03T18:49:20.518744Z",
     "start_time": "2023-09-03T18:49:20.488771Z"
    }
   },
   "outputs": [
    {
     "data": {
      "text/html": [
       "<div>\n",
       "<style scoped>\n",
       "    .dataframe tbody tr th:only-of-type {\n",
       "        vertical-align: middle;\n",
       "    }\n",
       "\n",
       "    .dataframe tbody tr th {\n",
       "        vertical-align: top;\n",
       "    }\n",
       "\n",
       "    .dataframe thead th {\n",
       "        text-align: right;\n",
       "    }\n",
       "</style>\n",
       "<table border=\"1\" class=\"dataframe\">\n",
       "  <thead>\n",
       "    <tr style=\"text-align: right;\">\n",
       "      <th></th>\n",
       "      <th>Quarter</th>\n",
       "      <th>Sales</th>\n",
       "      <th>Quarter_Year</th>\n",
       "      <th>Date</th>\n",
       "      <th>Quarters</th>\n",
       "      <th>Month</th>\n",
       "      <th>Year</th>\n",
       "      <th>Apr</th>\n",
       "      <th>Jan</th>\n",
       "      <th>Jul</th>\n",
       "      <th>Oct</th>\n",
       "      <th>t</th>\n",
       "      <th>t_sq</th>\n",
       "      <th>log</th>\n",
       "    </tr>\n",
       "  </thead>\n",
       "  <tbody>\n",
       "    <tr>\n",
       "      <th>0</th>\n",
       "      <td>Q1_86</td>\n",
       "      <td>1734.827000</td>\n",
       "      <td>Q1 1986</td>\n",
       "      <td>1986-01-01</td>\n",
       "      <td>Q1</td>\n",
       "      <td>Jan</td>\n",
       "      <td>1986</td>\n",
       "      <td>0</td>\n",
       "      <td>1</td>\n",
       "      <td>0</td>\n",
       "      <td>0</td>\n",
       "      <td>1</td>\n",
       "      <td>1</td>\n",
       "      <td>7.458663</td>\n",
       "    </tr>\n",
       "    <tr>\n",
       "      <th>1</th>\n",
       "      <td>Q2_86</td>\n",
       "      <td>2244.960999</td>\n",
       "      <td>Q2 1986</td>\n",
       "      <td>1986-04-01</td>\n",
       "      <td>Q2</td>\n",
       "      <td>Apr</td>\n",
       "      <td>1986</td>\n",
       "      <td>1</td>\n",
       "      <td>0</td>\n",
       "      <td>0</td>\n",
       "      <td>0</td>\n",
       "      <td>2</td>\n",
       "      <td>4</td>\n",
       "      <td>7.716443</td>\n",
       "    </tr>\n",
       "    <tr>\n",
       "      <th>2</th>\n",
       "      <td>Q3_86</td>\n",
       "      <td>2533.804993</td>\n",
       "      <td>Q3 1986</td>\n",
       "      <td>1986-07-01</td>\n",
       "      <td>Q3</td>\n",
       "      <td>Jul</td>\n",
       "      <td>1986</td>\n",
       "      <td>0</td>\n",
       "      <td>0</td>\n",
       "      <td>1</td>\n",
       "      <td>0</td>\n",
       "      <td>3</td>\n",
       "      <td>9</td>\n",
       "      <td>7.837477</td>\n",
       "    </tr>\n",
       "    <tr>\n",
       "      <th>3</th>\n",
       "      <td>Q4_86</td>\n",
       "      <td>2154.962997</td>\n",
       "      <td>Q4 1986</td>\n",
       "      <td>1986-10-01</td>\n",
       "      <td>Q4</td>\n",
       "      <td>Oct</td>\n",
       "      <td>1986</td>\n",
       "      <td>0</td>\n",
       "      <td>0</td>\n",
       "      <td>0</td>\n",
       "      <td>1</td>\n",
       "      <td>4</td>\n",
       "      <td>16</td>\n",
       "      <td>7.675529</td>\n",
       "    </tr>\n",
       "    <tr>\n",
       "      <th>4</th>\n",
       "      <td>Q1_87</td>\n",
       "      <td>1547.818996</td>\n",
       "      <td>Q1 1987</td>\n",
       "      <td>1987-01-01</td>\n",
       "      <td>Q1</td>\n",
       "      <td>Jan</td>\n",
       "      <td>1987</td>\n",
       "      <td>0</td>\n",
       "      <td>1</td>\n",
       "      <td>0</td>\n",
       "      <td>0</td>\n",
       "      <td>5</td>\n",
       "      <td>25</td>\n",
       "      <td>7.344602</td>\n",
       "    </tr>\n",
       "  </tbody>\n",
       "</table>\n",
       "</div>"
      ],
      "text/plain": [
       "  Quarter        Sales Quarter_Year       Date Quarters Month  Year  Apr  Jan  \\\n",
       "0   Q1_86  1734.827000      Q1 1986 1986-01-01       Q1   Jan  1986    0    1   \n",
       "1   Q2_86  2244.960999      Q2 1986 1986-04-01       Q2   Apr  1986    1    0   \n",
       "2   Q3_86  2533.804993      Q3 1986 1986-07-01       Q3   Jul  1986    0    0   \n",
       "3   Q4_86  2154.962997      Q4 1986 1986-10-01       Q4   Oct  1986    0    0   \n",
       "4   Q1_87  1547.818996      Q1 1987 1987-01-01       Q1   Jan  1987    0    1   \n",
       "\n",
       "   Jul  Oct  t  t_sq       log  \n",
       "0    0    0  1     1  7.458663  \n",
       "1    0    0  2     4  7.716443  \n",
       "2    1    0  3     9  7.837477  \n",
       "3    0    1  4    16  7.675529  \n",
       "4    0    0  5    25  7.344602  "
      ]
     },
     "execution_count": 25,
     "metadata": {},
     "output_type": "execute_result"
    }
   ],
   "source": [
    "data[\"t\"] = np.arange(1,43)\n",
    "data[\"t_sq\"] = data[\"t\"]*data[\"t\"]\n",
    "data[\"log\"] = np.log(data[\"Sales\"])\n",
    "\n",
    "data.head()"
   ]
  },
  {
   "cell_type": "code",
   "execution_count": 26,
   "id": "06a48238",
   "metadata": {
    "ExecuteTime": {
     "end_time": "2023-09-03T18:49:20.881269Z",
     "start_time": "2023-09-03T18:49:20.521669Z"
    }
   },
   "outputs": [
    {
     "data": {
      "image/png": "[encoded data removed]",
      "text/plain": [
       "<Figure size 576x360 with 2 Axes>"
      ]
     },
     "metadata": {
      "needs_background": "light"
     },
     "output_type": "display_data"
    }
   ],
   "source": [
    "# plotting heatmap between months and years\n",
    "plt.figure(figsize=(8,5))\n",
    "Y_month = pd.pivot_table(data=data, values=\"Sales\", index=\"Year\", \n",
    "                         columns=\"Month\", aggfunc=\"mean\", fill_value=0)\n",
    "sns.heatmap(Y_month, annot=True, fmt=\"g\");"
   ]
  },
  {
   "cell_type": "code",
   "execution_count": 27,
   "id": "e82582bf",
   "metadata": {
    "ExecuteTime": {
     "end_time": "2023-09-03T18:49:21.180496Z",
     "start_time": "2023-09-03T18:49:20.883268Z"
    }
   },
   "outputs": [
    {
     "data": {
      "image/png": "[encoded data removed]",
      "text/plain": [
       "<Figure size 720x216 with 1 Axes>"
      ]
     },
     "metadata": {
      "needs_background": "light"
     },
     "output_type": "display_data"
    }
   ],
   "source": [
    "# creating lineplot\n",
    "plt.figure(figsize=(10,3))\n",
    "sns.lineplot(x=\"Year\", y=\"Sales\", data=data);"
   ]
  },
  {
   "cell_type": "markdown",
   "id": "54676c08",
   "metadata": {},
   "source": [
    "So, from all the plots we can observe that the dataset has upward exponential trend with multiplicative seasonality."
   ]
  },
  {
   "cell_type": "markdown",
   "id": "22f22734",
   "metadata": {},
   "source": [
    "### Splitting the Data"
   ]
  },
  {
   "cell_type": "code",
   "execution_count": 28,
   "id": "3f29fb76",
   "metadata": {
    "ExecuteTime": {
     "end_time": "2023-09-03T18:49:21.196058Z",
     "start_time": "2023-09-03T18:49:21.186182Z"
    }
   },
   "outputs": [],
   "source": [
    "# splitting the data into train and test data\n",
    "train = data.head(38)\n",
    "test = data.tail(4)"
   ]
  },
  {
   "cell_type": "code",
   "execution_count": 29,
   "id": "bc2b078e",
   "metadata": {
    "ExecuteTime": {
     "end_time": "2023-09-03T18:49:21.211354Z",
     "start_time": "2023-09-03T18:49:21.198041Z"
    }
   },
   "outputs": [
    {
     "name": "stdout",
     "output_type": "stream",
     "text": [
      "(38, 14)\n",
      "(4, 14)\n"
     ]
    }
   ],
   "source": [
    "# printing the dimensions of the train and test data\n",
    "print(train.shape)\n",
    "print(test.shape) "
   ]
  },
  {
   "cell_type": "markdown",
   "id": "78215fae",
   "metadata": {},
   "source": [
    "### Evaluation Metrics - RMSE & MAPE"
   ]
  },
  {
   "cell_type": "code",
   "execution_count": 30,
   "id": "804a4e8d",
   "metadata": {
    "ExecuteTime": {
     "end_time": "2023-09-03T18:49:21.226944Z",
     "start_time": "2023-09-03T18:49:21.214343Z"
    }
   },
   "outputs": [],
   "source": [
    "def RMSE(pred, org):\n",
    "    air = np.mean((pred-org)**2)\n",
    "    return np.sqrt(air)"
   ]
  },
  {
   "cell_type": "code",
   "execution_count": 31,
   "id": "2def9459",
   "metadata": {
    "ExecuteTime": {
     "end_time": "2023-09-03T18:49:21.242689Z",
     "start_time": "2023-09-03T18:49:21.228945Z"
    }
   },
   "outputs": [],
   "source": [
    "def MAPE(pred, org):\n",
    "    air = np.abs(((pred-org)/org)*100)\n",
    "    return np.mean(air)"
   ]
  },
  {
   "cell_type": "markdown",
   "id": "28d389bb",
   "metadata": {},
   "source": [
    "# Building Models"
   ]
  },
  {
   "cell_type": "markdown",
   "id": "2f2438d7",
   "metadata": {},
   "source": [
    "### LINEAR MODEL"
   ]
  },
  {
   "cell_type": "code",
   "execution_count": 32,
   "id": "b3f4faf7",
   "metadata": {
    "ExecuteTime": {
     "end_time": "2023-09-03T18:49:21.274116Z",
     "start_time": "2023-09-03T18:49:21.244115Z"
    }
   },
   "outputs": [
    {
     "data": {
      "text/plain": [
       "38    4145.466199\n",
       "39    4213.536208\n",
       "40    4281.606217\n",
       "41    4349.676226\n",
       "dtype: float64"
      ]
     },
     "execution_count": 32,
     "metadata": {},
     "output_type": "execute_result"
    }
   ],
   "source": [
    "# Fitting the linear model and predicting\n",
    "lin_model = smf.ols(\"Sales~t\", data=train).fit()\n",
    "lin_pred = pd.Series(lin_model.predict(pd.DataFrame(test[\"t\"])))\n",
    "lin_pred"
   ]
  },
  {
   "cell_type": "code",
   "execution_count": 33,
   "id": "af1ea2a6",
   "metadata": {
    "ExecuteTime": {
     "end_time": "2023-09-03T18:49:21.288896Z",
     "start_time": "2023-09-03T18:49:21.276807Z"
    }
   },
   "outputs": [
    {
     "name": "stdout",
     "output_type": "stream",
     "text": [
      "RMSE of the Linear Model :  591.553295722396\n",
      "MAPE of the Linear Model :  9.338622188445111\n"
     ]
    }
   ],
   "source": [
    "# To get RMSE of the linear model\n",
    "lin_rmse = RMSE(lin_pred, test['Sales'])\n",
    "print('RMSE of the Linear Model : ',lin_rmse)\n",
    "\n",
    "# To get MAPE of the linear model\n",
    "lin_mape = MAPE(lin_pred, test['Sales'])\n",
    "print('MAPE of the Linear Model : ',lin_mape)"
   ]
  },
  {
   "cell_type": "markdown",
   "id": "8fed93b2",
   "metadata": {},
   "source": [
    "### EXPONENTIAL MODEL"
   ]
  },
  {
   "cell_type": "code",
   "execution_count": 34,
   "id": "91db06e4",
   "metadata": {
    "ExecuteTime": {
     "end_time": "2023-09-03T18:49:21.320546Z",
     "start_time": "2023-09-03T18:49:21.292178Z"
    }
   },
   "outputs": [
    {
     "data": {
      "text/plain": [
       "38    4295.822022\n",
       "39    4399.046102\n",
       "40    4504.750549\n",
       "41    4612.994962\n",
       "dtype: float64"
      ]
     },
     "execution_count": 34,
     "metadata": {},
     "output_type": "execute_result"
    }
   ],
   "source": [
    "# Fitting the exponential model and predicting\n",
    "exp_model = smf.ols(\"log~t\", data=train).fit()\n",
    "exp_pred = np.exp(pd.Series(exp_model.predict(pd.DataFrame(test[\"t\"]))))\n",
    "exp_pred"
   ]
  },
  {
   "cell_type": "code",
   "execution_count": 35,
   "id": "d3a8168d",
   "metadata": {
    "ExecuteTime": {
     "end_time": "2023-09-03T18:49:21.335841Z",
     "start_time": "2023-09-03T18:49:21.322467Z"
    }
   },
   "outputs": [
    {
     "name": "stdout",
     "output_type": "stream",
     "text": [
      "RMSE of the Exponential Model :  466.2479731067161\n",
      "MAPE of the Exponential Model :  8.339472012060977\n"
     ]
    }
   ],
   "source": [
    "# To get RMSE of the exponential model\n",
    "exp_rmse = RMSE(exp_pred, test['Sales'])\n",
    "print('RMSE of the Exponential Model : ',exp_rmse)\n",
    "\n",
    "# To get MAPE of the exponential model\n",
    "exp_mape = MAPE(exp_pred, test['Sales'])\n",
    "print('MAPE of the Exponential Model : ',exp_mape)"
   ]
  },
  {
   "cell_type": "markdown",
   "id": "4d6b1964",
   "metadata": {},
   "source": [
    "### QUADRATIC MODEL"
   ]
  },
  {
   "cell_type": "code",
   "execution_count": 36,
   "id": "28afe892",
   "metadata": {
    "ExecuteTime": {
     "end_time": "2023-09-03T18:49:21.367072Z",
     "start_time": "2023-09-03T18:49:21.338048Z"
    }
   },
   "outputs": [
    {
     "data": {
      "text/plain": [
       "38    4669.104172\n",
       "39    4817.733869\n",
       "40    4970.391551\n",
       "41    5127.077217\n",
       "dtype: float64"
      ]
     },
     "execution_count": 36,
     "metadata": {},
     "output_type": "execute_result"
    }
   ],
   "source": [
    "# Fitting the quadratic model and predicting\n",
    "quad_model = smf.ols(\"Sales ~ t+t_sq\", data=train).fit()\n",
    "quad_pred = pd.Series(quad_model.predict(pd.DataFrame(test[[\"t\",\"t_sq\"]])))\n",
    "quad_pred"
   ]
  },
  {
   "cell_type": "code",
   "execution_count": 37,
   "id": "5789f952",
   "metadata": {
    "ExecuteTime": {
     "end_time": "2023-09-03T18:49:21.382257Z",
     "start_time": "2023-09-03T18:49:21.369294Z"
    }
   },
   "outputs": [
    {
     "name": "stdout",
     "output_type": "stream",
     "text": [
      "RMSE of the Quadratic Model :  475.5618351831504\n",
      "MAPE of the Quadratic Model :  9.177743216665792\n"
     ]
    }
   ],
   "source": [
    "# To get RMSE of the quadratic model\n",
    "quad_rmse = RMSE(quad_pred, test['Sales'])\n",
    "print('RMSE of the Quadratic Model : ',quad_rmse)\n",
    "\n",
    "# To get MAPE of the quadratic model\n",
    "quad_mape = MAPE(quad_pred, test['Sales'])\n",
    "print('MAPE of the Quadratic Model : ',quad_mape)"
   ]
  },
  {
   "cell_type": "markdown",
   "id": "f4ea143c",
   "metadata": {},
   "source": [
    "## Exponential Smoothing"
   ]
  },
  {
   "cell_type": "code",
   "execution_count": 38,
   "id": "cfcb91a9",
   "metadata": {
    "ExecuteTime": {
     "end_time": "2023-09-03T18:49:21.398174Z",
     "start_time": "2023-09-03T18:49:21.384333Z"
    }
   },
   "outputs": [],
   "source": [
    "from statsmodels.tsa.holtwinters import SimpleExpSmoothing\n",
    "from statsmodels.tsa.holtwinters import Holt\n",
    "from statsmodels.tsa.holtwinters import ExponentialSmoothing"
   ]
  },
  {
   "cell_type": "markdown",
   "id": "89c88c4e",
   "metadata": {},
   "source": [
    "### SIMPLE EXPONENTIAL METHOD"
   ]
  },
  {
   "cell_type": "code",
   "execution_count": 39,
   "id": "8f08ba09",
   "metadata": {
    "ExecuteTime": {
     "end_time": "2023-09-03T18:49:21.429568Z",
     "start_time": "2023-09-03T18:49:21.401348Z"
    }
   },
   "outputs": [
    {
     "data": {
      "text/plain": [
       "38    4020.476393\n",
       "39    4020.476393\n",
       "40    4020.476393\n",
       "41    4020.476393\n",
       "dtype: float64"
      ]
     },
     "execution_count": 39,
     "metadata": {},
     "output_type": "execute_result"
    }
   ],
   "source": [
    "# Fitting the simple exponential model and predicting\n",
    "sim_exp_m = SimpleExpSmoothing(train[\"Sales\"]).fit(smoothing_level=0.2)\n",
    "sim_exp_pred = sim_exp_m.predict(start=test.index[0], end=test.index[-1])\n",
    "sim_exp_pred"
   ]
  },
  {
   "cell_type": "code",
   "execution_count": 40,
   "id": "43edc607",
   "metadata": {
    "ExecuteTime": {
     "end_time": "2023-09-03T18:49:21.445445Z",
     "start_time": "2023-09-03T18:49:21.432484Z"
    }
   },
   "outputs": [
    {
     "name": "stdout",
     "output_type": "stream",
     "text": [
      "RMSE of the Simple Exponential Model :  776.4804291589653\n",
      "MAPE of the Simple Exponential Model :  13.169736621034588\n"
     ]
    }
   ],
   "source": [
    "# To get RMSE of the simple exponential model\n",
    "sim_exp_rmse = RMSE(sim_exp_pred, test['Sales'])\n",
    "print('RMSE of the Simple Exponential Model : ',sim_exp_rmse)\n",
    "\n",
    "# To get MAPE of the simple exponential model\n",
    "sim_exp_mape = MAPE(sim_exp_pred, test['Sales'])\n",
    "print('MAPE of the Simple Exponential Model : ',sim_exp_mape)"
   ]
  },
  {
   "cell_type": "markdown",
   "id": "ace3defa",
   "metadata": {},
   "source": [
    "### HOLT METHOD"
   ]
  },
  {
   "cell_type": "code",
   "execution_count": 41,
   "id": "1d70d9de",
   "metadata": {
    "ExecuteTime": {
     "end_time": "2023-09-03T18:49:21.476485Z",
     "start_time": "2023-09-03T18:49:21.447438Z"
    }
   },
   "outputs": [
    {
     "data": {
      "text/plain": [
       "38    4767.643755\n",
       "39    4925.601468\n",
       "40    5083.559182\n",
       "41    5241.516895\n",
       "dtype: float64"
      ]
     },
     "execution_count": 41,
     "metadata": {},
     "output_type": "execute_result"
    }
   ],
   "source": [
    "# Fitting the model using HOLT method and predicting\n",
    "holt_model = Holt(train[\"Sales\"]).fit(smoothing_trend=0.2)\n",
    "holt_pred = holt_model.predict(start=test.index[0], end=test.index[-1])\n",
    "holt_pred"
   ]
  },
  {
   "cell_type": "code",
   "execution_count": 42,
   "id": "bc680ab4",
   "metadata": {
    "ExecuteTime": {
     "end_time": "2023-09-03T18:49:21.491949Z",
     "start_time": "2023-09-03T18:49:21.478405Z"
    }
   },
   "outputs": [
    {
     "name": "stdout",
     "output_type": "stream",
     "text": [
      "RMSE of the Holt Model :  538.2479709944679\n",
      "MAPE of the Holt Model :  9.426778562264591\n"
     ]
    }
   ],
   "source": [
    "# To get RMSE of the model using holt method\n",
    "holt_rmse = RMSE(holt_pred, test['Sales'])\n",
    "print('RMSE of the Holt Model : ',holt_rmse)\n",
    "\n",
    "# To get MAPE of the model using holt method\n",
    "holt_mape = MAPE(holt_pred, test['Sales'])\n",
    "print('MAPE of the Holt Model : ',holt_mape)"
   ]
  },
  {
   "cell_type": "markdown",
   "id": "2311d7ff",
   "metadata": {},
   "source": [
    "### HOLTS WINTER EXPONENTIAL SMOOTHING \n",
    "    with multiplicative seasonality and additive trend"
   ]
  },
  {
   "cell_type": "code",
   "execution_count": 43,
   "id": "727904ce",
   "metadata": {
    "ExecuteTime": {
     "end_time": "2023-09-03T18:49:21.635148Z",
     "start_time": "2023-09-03T18:49:21.492861Z"
    }
   },
   "outputs": [
    {
     "data": {
      "text/plain": [
       "38    4948.862523\n",
       "39    4505.311526\n",
       "40    4018.701335\n",
       "41    5142.218763\n",
       "dtype: float64"
      ]
     },
     "execution_count": 43,
     "metadata": {},
     "output_type": "execute_result"
    }
   ],
   "source": [
    "# Fitting the model using HOLTs winter exponential smoothing method and predicting\n",
    "holt_exp_mm = ExponentialSmoothing(train[\"Sales\"], seasonal=\"mul\", \n",
    "                                   trend=\"add\", seasonal_periods=12).fit()\n",
    "holt_exp_pred = holt_exp_mm.predict(start=test.index[0], end=test.index[-1])\n",
    "holt_exp_pred"
   ]
  },
  {
   "cell_type": "code",
   "execution_count": 44,
   "id": "af5d0f82",
   "metadata": {
    "ExecuteTime": {
     "end_time": "2023-09-03T18:49:21.651220Z",
     "start_time": "2023-09-03T18:49:21.637065Z"
    }
   },
   "outputs": [
    {
     "name": "stdout",
     "output_type": "stream",
     "text": [
      "RMSE of the Holts Exponential Smoothening(mul) Model :  137.47230430088706\n",
      "MAPE of the Holt Exponential Smoothening(mul) Model :  2.841436556687623\n"
     ]
    }
   ],
   "source": [
    "# To get RMSE of the model using holts exponential method\n",
    "holt_exp_m_rmse = RMSE(holt_exp_pred, test['Sales'])\n",
    "print('RMSE of the Holts Exponential Smoothing(mul) Model : ',holt_exp_m_rmse)\n",
    "\n",
    "# To get MAPE of the model using holts exponential method\n",
    "holt_exp_m_mape = MAPE(holt_exp_pred, test['Sales'])\n",
    "print('MAPE of the Holt Exponential Smoothing(mul) Model : ',holt_exp_m_mape)"
   ]
  },
  {
   "cell_type": "markdown",
   "id": "b1575f27",
   "metadata": {},
   "source": [
    "### HOLTS WINTER EXPONENTIAL SMOOTHING\n",
    "    with additive seasonality and additive trend"
   ]
  },
  {
   "cell_type": "code",
   "execution_count": 45,
   "id": "0e335bad",
   "metadata": {
    "ExecuteTime": {
     "end_time": "2023-09-03T18:49:21.775238Z",
     "start_time": "2023-09-03T18:49:21.653140Z"
    }
   },
   "outputs": [
    {
     "data": {
      "text/plain": [
       "38    4966.846948\n",
       "39    4805.161555\n",
       "40    4603.473488\n",
       "41    5335.183070\n",
       "dtype: float64"
      ]
     },
     "execution_count": 45,
     "metadata": {},
     "output_type": "execute_result"
    }
   ],
   "source": [
    "# Fitting the model using HOLTs winter exponential smoothing method and predicting\n",
    "holt_exp_am = ExponentialSmoothing(train[\"Sales\"], seasonal=\"add\", \n",
    "                                   trend=\"add\", seasonal_periods=12).fit()\n",
    "holt_exp_pred = holt_exp_am.predict(start=test.index[0], end=test.index[-1])\n",
    "holt_exp_pred"
   ]
  },
  {
   "cell_type": "code",
   "execution_count": 46,
   "id": "bb6f9726",
   "metadata": {
    "ExecuteTime": {
     "end_time": "2023-09-03T18:49:21.790448Z",
     "start_time": "2023-09-03T18:49:21.777266Z"
    }
   },
   "outputs": [
    {
     "name": "stdout",
     "output_type": "stream",
     "text": [
      "RMSE of the Holts Exponential Smoothening(add) Model :  317.22275782669857\n",
      "MAPE of the Holt Exponential Smoothening(add) Model :  5.923112560977864\n"
     ]
    }
   ],
   "source": [
    "# To get RMSE of the model using holts exponential method\n",
    "holt_exp_a_rmse = RMSE(holt_exp_pred, test['Sales'])\n",
    "print('RMSE of the Holts Exponential Smoothing(add) Model : ',holt_exp_a_rmse)\n",
    "\n",
    "# To get MAPE of the model using holts exponential method\n",
    "holt_exp_a_mape = MAPE(holt_exp_pred, test['Sales'])\n",
    "print('MAPE of the Holt Exponential Smoothing(add) Model : ',holt_exp_a_mape)"
   ]
  },
  {
   "cell_type": "markdown",
   "id": "5a4f55e8",
   "metadata": {},
   "source": [
    "## Seasonalities"
   ]
  },
  {
   "cell_type": "markdown",
   "id": "fdc420fc",
   "metadata": {},
   "source": [
    "### ADDITIVE SEASONALITY"
   ]
  },
  {
   "cell_type": "code",
   "execution_count": 47,
   "id": "15072e8c",
   "metadata": {
    "ExecuteTime": {
     "end_time": "2023-09-03T18:49:21.821258Z",
     "start_time": "2023-09-03T18:49:21.792440Z"
    }
   },
   "outputs": [
    {
     "data": {
      "text/plain": [
       "38    2938.434220\n",
       "39    2712.930886\n",
       "40    2472.555199\n",
       "41    3150.000098\n",
       "dtype: float64"
      ]
     },
     "execution_count": 47,
     "metadata": {},
     "output_type": "execute_result"
    }
   ],
   "source": [
    "# Fitting the model using additive seasonality and predicting\n",
    "adds_model = smf.ols(\"Sales ~ Apr+Jan+Jul+Oct\", data=train).fit()\n",
    "adds_pred = pd. Series(adds_model.predict(pd.DataFrame(test[['Apr','Jan','Jul','Oct']])))\n",
    "adds_pred"
   ]
  },
  {
   "cell_type": "code",
   "execution_count": 48,
   "id": "0de92630",
   "metadata": {
    "ExecuteTime": {
     "end_time": "2023-09-03T18:49:21.836757Z",
     "start_time": "2023-09-03T18:49:21.823503Z"
    }
   },
   "outputs": [
    {
     "name": "stdout",
     "output_type": "stream",
     "text": [
      "RMSE of the Additive Seasonality Model :  1860.0238154547278\n",
      "MAPE of the Additive Seasonality Model :  39.60986706626121\n"
     ]
    }
   ],
   "source": [
    "# To get RMSE of the model using additive seasonality\n",
    "adds_rmse = RMSE(adds_pred, test['Sales'])\n",
    "print('RMSE of the Additive Seasonality Model : ',adds_rmse)\n",
    "\n",
    "# To get MAPE of the model using additive seasonality \n",
    "adds_mape = MAPE(adds_pred, test['Sales'])\n",
    "print('MAPE of the Additive Seasonality Model : ',adds_mape)"
   ]
  },
  {
   "cell_type": "markdown",
   "id": "2e1d2bd5",
   "metadata": {},
   "source": [
    "### ADDITIVE SEASONALITY WITH QUADRATIC TREND"
   ]
  },
  {
   "cell_type": "code",
   "execution_count": 49,
   "id": "538409aa",
   "metadata": {
    "ExecuteTime": {
     "end_time": "2023-09-03T18:49:21.868874Z",
     "start_time": "2023-09-03T18:49:21.838903Z"
    }
   },
   "outputs": [
    {
     "data": {
      "text/plain": [
       "38    4852.677797\n",
       "39    4709.186074\n",
       "40    4638.364982\n",
       "41    5406.022652\n",
       "dtype: float64"
      ]
     },
     "execution_count": 49,
     "metadata": {},
     "output_type": "execute_result"
    }
   ],
   "source": [
    "# Fitting the model using additive seasonality with quadratic trend and predicting\n",
    "adds_quad_m = smf.ols(\"Sales ~ t+t_sq+Apr+Jan+Jul+Oct\", data=train).fit()\n",
    "adds_quad_pred = pd.Series(adds_quad_m.predict(pd.DataFrame(test[[\"t\",\"t_sq\",'Apr','Jan','Jul','Oct']])))\n",
    "adds_quad_pred"
   ]
  },
  {
   "cell_type": "code",
   "execution_count": 50,
   "id": "342c35be",
   "metadata": {
    "ExecuteTime": {
     "end_time": "2023-09-03T18:49:21.884502Z",
     "start_time": "2023-09-03T18:49:21.870881Z"
    }
   },
   "outputs": [
    {
     "name": "stdout",
     "output_type": "stream",
     "text": [
      "RMSE of the Additive Seasonality (Quad Trend) Model :  301.7380071934763\n",
      "MAPE of the Additive Seasonality (Quad Trend) Model :  5.7636982146933065\n"
     ]
    }
   ],
   "source": [
    "# To get RMSE of the model using additive seasonality with quadratic trend\n",
    "adds_quad_rmse = RMSE(adds_quad_pred, test['Sales'])\n",
    "print('RMSE of the Additive Seasonality (Quad Trend) Model : ',adds_quad_rmse)\n",
    "\n",
    "# To get MAPE of the model using additive seasonality with quadratic trend\n",
    "adds_quad_mape = MAPE(adds_quad_pred, test['Sales'])\n",
    "print('MAPE of the Additive Seasonality (Quad Trend) Model : ',adds_quad_mape)"
   ]
  },
  {
   "cell_type": "markdown",
   "id": "8837adb6",
   "metadata": {},
   "source": [
    "### MULTIPLICATIVE SEASONALITY "
   ]
  },
  {
   "cell_type": "code",
   "execution_count": 51,
   "id": "207090bc",
   "metadata": {
    "ExecuteTime": {
     "end_time": "2023-09-03T18:49:21.915981Z",
     "start_time": "2023-09-03T18:49:21.886026Z"
    }
   },
   "outputs": [
    {
     "data": {
      "text/plain": [
       "38    2841.058902\n",
       "39    2634.665177\n",
       "40    2370.087030\n",
       "41    3019.186717\n",
       "dtype: float64"
      ]
     },
     "execution_count": 51,
     "metadata": {},
     "output_type": "execute_result"
    }
   ],
   "source": [
    "# Fitting the model using multiplicative seasonality and predicting\n",
    "muls_model = smf.ols(\"log ~ Apr+Jan+Jul+Oct\", data=train).fit()\n",
    "muls_pred = np.exp(pd.Series(muls_model.predict(pd.DataFrame(test[['Apr','Jan','Jul','Oct']]))))\n",
    "muls_pred"
   ]
  },
  {
   "cell_type": "code",
   "execution_count": 52,
   "id": "ee6688f3",
   "metadata": {
    "ExecuteTime": {
     "end_time": "2023-09-03T18:49:21.931274Z",
     "start_time": "2023-09-03T18:49:21.918172Z"
    }
   },
   "outputs": [
    {
     "name": "stdout",
     "output_type": "stream",
     "text": [
      "RMSE of the Multiplicative Seasonality Model :  1963.3896400779704\n",
      "MAPE of the Multiplicative Seasonality Model :  41.79212232424083\n"
     ]
    }
   ],
   "source": [
    "# To get RMSE of the model using multiplicative seasonality\n",
    "muls_rmse = RMSE(muls_pred, test['Sales'])\n",
    "print('RMSE of the Multiplicative Seasonality Model : ',muls_rmse)\n",
    "\n",
    "# To get MAPE of the model using multiplicative seasonality \n",
    "muls_mape = MAPE(muls_pred, test['Sales'])\n",
    "print('MAPE of the Multiplicative Seasonality Model : ',muls_mape)"
   ]
  },
  {
   "cell_type": "markdown",
   "id": "3a608183",
   "metadata": {},
   "source": [
    "### MULTIPLICATIVE ADDITIVE SEASONALITY "
   ]
  },
  {
   "cell_type": "code",
   "execution_count": 53,
   "id": "94f2edd7",
   "metadata": {
    "ExecuteTime": {
     "end_time": "2023-09-03T18:49:21.962145Z",
     "start_time": "2023-09-03T18:49:21.933409Z"
    }
   },
   "outputs": [
    {
     "data": {
      "text/plain": [
       "38    4555.076459\n",
       "39    4224.164912\n",
       "40    3983.650879\n",
       "41    5074.659987\n",
       "dtype: float64"
      ]
     },
     "execution_count": 53,
     "metadata": {},
     "output_type": "execute_result"
    }
   ],
   "source": [
    "# Fitting the model using multiplicative additive seasonality and predicting\n",
    "mul_adds_m = smf.ols(\"log ~ t+Apr+Jan+Jul+Oct\", data=train).fit()\n",
    "mul_adds_pred = np.exp(pd.Series(mul_adds_m.predict(pd.DataFrame(test[[\"t\",'Apr','Jan','Jul','Oct']]))))\n",
    "mul_adds_pred"
   ]
  },
  {
   "cell_type": "code",
   "execution_count": 54,
   "id": "fd853695",
   "metadata": {
    "ExecuteTime": {
     "end_time": "2023-09-03T18:49:21.977605Z",
     "start_time": "2023-09-03T18:49:21.964498Z"
    }
   },
   "outputs": [
    {
     "name": "stdout",
     "output_type": "stream",
     "text": [
      "RMSE of the Multiplicative Additive Seasonality Model :  225.5243904982738\n",
      "MAPE of the Multiplicative Additve Seasonality Model :  4.466640824324056\n"
     ]
    }
   ],
   "source": [
    "# To get RMSE of the model using multiplicative seasonality\n",
    "mul_adds_rmse = RMSE(mul_adds_pred, test['Sales'])\n",
    "print('RMSE of the Multiplicative Additive Seasonality Model : ',mul_adds_rmse)\n",
    "\n",
    "# To get MAPE of the model using multiplicative seasonality \n",
    "mul_adds_mape = MAPE(mul_adds_pred, test['Sales'])\n",
    "print('MAPE of the Multiplicative Additve Seasonality Model : ',mul_adds_mape)"
   ]
  },
  {
   "cell_type": "markdown",
   "id": "d570355c",
   "metadata": {},
   "source": [
    "## ARIMA MODEL"
   ]
  },
  {
   "cell_type": "code",
   "execution_count": 55,
   "id": "f52cf477",
   "metadata": {
    "ExecuteTime": {
     "end_time": "2023-09-03T18:49:21.993462Z",
     "start_time": "2023-09-03T18:49:21.979603Z"
    }
   },
   "outputs": [],
   "source": [
    "from math import sqrt\n",
    "from sklearn.metrics import mean_squared_error\n",
    "from statsmodels.tsa.arima.model import ARIMA\n",
    "from statsmodels.tsa.stattools import adfuller"
   ]
  },
  {
   "cell_type": "code",
   "execution_count": 56,
   "id": "b6fc74da",
   "metadata": {
    "ExecuteTime": {
     "end_time": "2023-09-03T18:49:22.023840Z",
     "start_time": "2023-09-03T18:49:21.996499Z"
    }
   },
   "outputs": [
    {
     "data": {
      "text/html": [
       "<div>\n",
       "<style scoped>\n",
       "    .dataframe tbody tr th:only-of-type {\n",
       "        vertical-align: middle;\n",
       "    }\n",
       "\n",
       "    .dataframe tbody tr th {\n",
       "        vertical-align: top;\n",
       "    }\n",
       "\n",
       "    .dataframe thead th {\n",
       "        text-align: right;\n",
       "    }\n",
       "</style>\n",
       "<table border=\"1\" class=\"dataframe\">\n",
       "  <thead>\n",
       "    <tr style=\"text-align: right;\">\n",
       "      <th></th>\n",
       "      <th>Date</th>\n",
       "      <th>Quarter</th>\n",
       "      <th>Sales</th>\n",
       "      <th>Quarter_Year</th>\n",
       "      <th>Quarters</th>\n",
       "      <th>Month</th>\n",
       "      <th>Year</th>\n",
       "      <th>Apr</th>\n",
       "      <th>Jan</th>\n",
       "      <th>Jul</th>\n",
       "      <th>Oct</th>\n",
       "      <th>t</th>\n",
       "      <th>t_sq</th>\n",
       "      <th>log</th>\n",
       "    </tr>\n",
       "  </thead>\n",
       "  <tbody>\n",
       "    <tr>\n",
       "      <th>0</th>\n",
       "      <td>1986-01-01</td>\n",
       "      <td>Q1_86</td>\n",
       "      <td>1734.827000</td>\n",
       "      <td>Q1 1986</td>\n",
       "      <td>Q1</td>\n",
       "      <td>Jan</td>\n",
       "      <td>1986</td>\n",
       "      <td>0</td>\n",
       "      <td>1</td>\n",
       "      <td>0</td>\n",
       "      <td>0</td>\n",
       "      <td>1</td>\n",
       "      <td>1</td>\n",
       "      <td>7.458663</td>\n",
       "    </tr>\n",
       "    <tr>\n",
       "      <th>1</th>\n",
       "      <td>1986-04-01</td>\n",
       "      <td>Q2_86</td>\n",
       "      <td>2244.960999</td>\n",
       "      <td>Q2 1986</td>\n",
       "      <td>Q2</td>\n",
       "      <td>Apr</td>\n",
       "      <td>1986</td>\n",
       "      <td>1</td>\n",
       "      <td>0</td>\n",
       "      <td>0</td>\n",
       "      <td>0</td>\n",
       "      <td>2</td>\n",
       "      <td>4</td>\n",
       "      <td>7.716443</td>\n",
       "    </tr>\n",
       "    <tr>\n",
       "      <th>2</th>\n",
       "      <td>1986-07-01</td>\n",
       "      <td>Q3_86</td>\n",
       "      <td>2533.804993</td>\n",
       "      <td>Q3 1986</td>\n",
       "      <td>Q3</td>\n",
       "      <td>Jul</td>\n",
       "      <td>1986</td>\n",
       "      <td>0</td>\n",
       "      <td>0</td>\n",
       "      <td>1</td>\n",
       "      <td>0</td>\n",
       "      <td>3</td>\n",
       "      <td>9</td>\n",
       "      <td>7.837477</td>\n",
       "    </tr>\n",
       "    <tr>\n",
       "      <th>3</th>\n",
       "      <td>1986-10-01</td>\n",
       "      <td>Q4_86</td>\n",
       "      <td>2154.962997</td>\n",
       "      <td>Q4 1986</td>\n",
       "      <td>Q4</td>\n",
       "      <td>Oct</td>\n",
       "      <td>1986</td>\n",
       "      <td>0</td>\n",
       "      <td>0</td>\n",
       "      <td>0</td>\n",
       "      <td>1</td>\n",
       "      <td>4</td>\n",
       "      <td>16</td>\n",
       "      <td>7.675529</td>\n",
       "    </tr>\n",
       "    <tr>\n",
       "      <th>4</th>\n",
       "      <td>1987-01-01</td>\n",
       "      <td>Q1_87</td>\n",
       "      <td>1547.818996</td>\n",
       "      <td>Q1 1987</td>\n",
       "      <td>Q1</td>\n",
       "      <td>Jan</td>\n",
       "      <td>1987</td>\n",
       "      <td>0</td>\n",
       "      <td>1</td>\n",
       "      <td>0</td>\n",
       "      <td>0</td>\n",
       "      <td>5</td>\n",
       "      <td>25</td>\n",
       "      <td>7.344602</td>\n",
       "    </tr>\n",
       "  </tbody>\n",
       "</table>\n",
       "</div>"
      ],
      "text/plain": [
       "        Date Quarter        Sales Quarter_Year Quarters Month  Year  Apr  Jan  \\\n",
       "0 1986-01-01   Q1_86  1734.827000      Q1 1986       Q1   Jan  1986    0    1   \n",
       "1 1986-04-01   Q2_86  2244.960999      Q2 1986       Q2   Apr  1986    1    0   \n",
       "2 1986-07-01   Q3_86  2533.804993      Q3 1986       Q3   Jul  1986    0    0   \n",
       "3 1986-10-01   Q4_86  2154.962997      Q4 1986       Q4   Oct  1986    0    0   \n",
       "4 1987-01-01   Q1_87  1547.818996      Q1 1987       Q1   Jan  1987    0    1   \n",
       "\n",
       "   Jul  Oct  t  t_sq       log  \n",
       "0    0    0  1     1  7.458663  \n",
       "1    0    0  2     4  7.716443  \n",
       "2    1    0  3     9  7.837477  \n",
       "3    0    1  4    16  7.675529  \n",
       "4    0    0  5    25  7.344602  "
      ]
     },
     "execution_count": 56,
     "metadata": {},
     "output_type": "execute_result"
    }
   ],
   "source": [
    "# making the Date column as DateTime Index for the dataframe\n",
    "data1 = data.copy()\n",
    "data1.set_index('Date',inplace=True)\n",
    "data1.reset_index(inplace=True)\n",
    "data1.head()"
   ]
  },
  {
   "cell_type": "code",
   "execution_count": 57,
   "id": "9a503f23",
   "metadata": {
    "ExecuteTime": {
     "end_time": "2023-09-03T18:49:22.149378Z",
     "start_time": "2023-09-03T18:49:22.026753Z"
    },
    "scrolled": false
   },
   "outputs": [
    {
     "name": "stdout",
     "output_type": "stream",
     "text": [
      "                  Sales\n",
      "Date                   \n",
      "1986-01-01  1734.827000\n",
      "1986-04-01  2244.960999\n",
      "1986-07-01  2533.804993\n",
      "1986-10-01  2154.962997\n",
      "1987-01-01  1547.818996\n"
     ]
    },
    {
     "data": {
      "image/png": "[encoded data removed]",
      "text/plain": [
       "<Figure size 432x216 with 1 Axes>"
      ]
     },
     "metadata": {
      "needs_background": "light"
     },
     "output_type": "display_data"
    }
   ],
   "source": [
    "# Making the data as stationary and printing \n",
    "data2 = data1[[\"Date\", \"Sales\"]]\n",
    "data2.to_csv(\"data3.csv\", index=False)\n",
    "df = pd.read_csv(\"data3.csv\", index_col=0)\n",
    "print(df.head())\n",
    "# visualizing\n",
    "df.plot(figsize=(6,3))\n",
    "plt.show()"
   ]
  },
  {
   "cell_type": "code",
   "execution_count": 58,
   "id": "1b146277",
   "metadata": {
    "ExecuteTime": {
     "end_time": "2023-09-03T18:49:22.164959Z",
     "start_time": "2023-09-03T18:49:22.151468Z"
    }
   },
   "outputs": [],
   "source": [
    "# Evaluating the data\n",
    "testr = adfuller(df['Sales'])"
   ]
  },
  {
   "cell_type": "markdown",
   "id": "ea4b8dd2",
   "metadata": {},
   "source": [
    "Null Hypothesis Ho : It is non-stationary\n",
    "\n",
    "Alter Hypothesis H1 : It is stationary"
   ]
  },
  {
   "cell_type": "code",
   "execution_count": 59,
   "id": "6e0ee85b",
   "metadata": {
    "ExecuteTime": {
     "end_time": "2023-09-03T18:49:22.195953Z",
     "start_time": "2023-09-03T18:49:22.167592Z"
    }
   },
   "outputs": [
    {
     "name": "stdout",
     "output_type": "stream",
     "text": [
      "ADF Test Statistic : 1.3094210153268104\n",
      "p-value : 0.9966611673930905\n",
      "Lags Used : 7\n",
      "No. of Observations Used : 34\n",
      "Weak evidence against null hypothesis, time series has a unit root, indicating it is non-stationary \n"
     ]
    }
   ],
   "source": [
    "def adfuller_test(Sales):\n",
    "    result=adfuller(Sales)\n",
    "    labels = ['ADF Test Statistic','p-value','Lags Used','No. of Observations Used']\n",
    "    \n",
    "    for value,label in zip(result,labels):\n",
    "        print(label+' : '+str(value) )\n",
    "    if result[1] <= 0.05:\n",
    "        print(\"Strong evidence against the null hypothesis(Ho), So reject the null hypothesis. Data has no unit root and is stationary\")\n",
    "    else:\n",
    "        print(\"Weak evidence against null hypothesis, time series has a unit root, indicating it is non-stationary \")\n",
    "        \n",
    "adfuller_test(df['Sales'])"
   ]
  },
  {
   "cell_type": "markdown",
   "id": "c9f9872b",
   "metadata": {},
   "source": [
    "#### Transformations"
   ]
  },
  {
   "cell_type": "code",
   "execution_count": 60,
   "id": "e48cd47d",
   "metadata": {
    "ExecuteTime": {
     "end_time": "2023-09-03T18:49:22.228127Z",
     "start_time": "2023-09-03T18:49:22.198945Z"
    },
    "scrolled": true
   },
   "outputs": [
    {
     "name": "stdout",
     "output_type": "stream",
     "text": [
      "LOG : \n",
      "\n",
      "                   Sales       log\n",
      "Date                             \n",
      "1986-01-01  1734.827000  7.458663\n",
      "1986-04-01  2244.960999  7.716443\n",
      "1986-07-01  2533.804993  7.837477\n",
      "1986-10-01  2154.962997  7.675529\n",
      "1987-01-01  1547.818996  7.344602 \n",
      "\n",
      "ADF Test Statistic : 0.19282043859067174\n",
      "p-value : 0.9718560271303518\n",
      "Lags Used : 6\n",
      "No. of Observations Used : 35\n",
      "Weak evidence against null hypothesis, time series has a unit root, indicating it is non-stationary \n",
      "None\n",
      "\n",
      "\n",
      "\n",
      "SQRT : \n",
      "\n",
      "                   Sales       log       sqrt\n",
      "Date                                        \n",
      "1986-01-01  1734.827000  7.458663  41.651254\n",
      "1986-04-01  2244.960999  7.716443  47.381019\n",
      "1986-07-01  2533.804993  7.837477  50.336915\n",
      "1986-10-01  2154.962997  7.675529  46.421579\n",
      "1987-01-01  1547.818996  7.344602  39.342331 \n",
      "\n",
      "ADF Test Statistic : 0.8285941148596843\n",
      "p-value : 0.9920839871686823\n",
      "Lags Used : 6\n",
      "No. of Observations Used : 35\n",
      "Weak evidence against null hypothesis, time series has a unit root, indicating it is non-stationary \n",
      "None\n",
      "\n",
      "\n",
      "\n",
      "Combination of SQRT & LOG : \n",
      "\n",
      "                   Sales       log       sqrt     log_sq\n",
      "Date                                                   \n",
      "1986-01-01  1734.827000  7.458663  41.651254  41.651254\n",
      "1986-04-01  2244.960999  7.716443  47.381019  47.381019\n",
      "1986-07-01  2533.804993  7.837477  50.336915  50.336915\n",
      "1986-10-01  2154.962997  7.675529  46.421579  46.421579\n",
      "1987-01-01  1547.818996  7.344602  39.342331  39.342331 \n",
      "\n",
      "ADF Test Statistic : 0.8285941148596843\n",
      "p-value : 0.9920839871686823\n",
      "Lags Used : 6\n",
      "No. of Observations Used : 35\n",
      "Weak evidence against null hypothesis, time series has a unit root, indicating it is non-stationary \n"
     ]
    }
   ],
   "source": [
    "# Applying the Transformations on the data\n",
    "\n",
    "# Logarithm\n",
    "df['log'] = np.log(df['Sales'])\n",
    "print('LOG : \\n\\n',df.head(),'\\n')\n",
    "print(adfuller_test(df['log'])) \n",
    "# ignore None in the output as it's resulting due to printing \n",
    "\n",
    "# Square Root\n",
    "df['sqrt'] = np.sqrt(df['Sales'])\n",
    "print('\\n\\n\\nSQRT : \\n\\n',df.head(),'\\n')\n",
    "print(adfuller_test(df['sqrt']))\n",
    "\n",
    "# Combination of SquareRoot and Log\n",
    "df['log_sq'] = np.sqrt(df['Sales'])\n",
    "print('\\n\\n\\nCombination of SQRT & LOG : \\n\\n',df.head(),'\\n')\n",
    "adfuller_test(df['log_sq'])"
   ]
  },
  {
   "cell_type": "code",
   "execution_count": 61,
   "id": "ea2dc565",
   "metadata": {
    "ExecuteTime": {
     "end_time": "2023-09-03T18:49:22.260075Z",
     "start_time": "2023-09-03T18:49:22.229173Z"
    },
    "scrolled": true
   },
   "outputs": [
    {
     "name": "stdout",
     "output_type": "stream",
     "text": [
      "\n",
      "\n",
      "\n",
      "Seasonal Difference : \n",
      "\n",
      "                   Sales       log       sqrt     log_sq  Seasonal_Diff\n",
      "Date                                                                  \n",
      "1986-01-01  1734.827000  7.458663  41.651254  41.651254            NaN\n",
      "1986-04-01  2244.960999  7.716443  47.381019  47.381019            NaN\n",
      "1986-07-01  2533.804993  7.837477  50.336915  50.336915            NaN\n",
      "1986-10-01  2154.962997  7.675529  46.421579  46.421579            NaN\n",
      "1987-01-01  1547.818996  7.344602  39.342331  39.342331    -187.008003\n",
      "1987-04-01  2104.411995  7.651791  45.873871  45.873871    -140.549004\n",
      "1987-07-01  2014.362999  7.608058  44.881655  44.881655    -519.441994\n",
      "1987-10-01  1991.746998  7.596767  44.628993  44.628993    -163.216000\n",
      "1988-01-01  1869.049999  7.533186  43.232511  43.232511     321.231003\n",
      "1988-04-01  2313.631996  7.746574  48.100229  48.100229     209.220001\n",
      "1988-07-01  2128.320000  7.663088  46.133719  46.133719     113.957001\n",
      "1988-10-01  2026.828999  7.614228  45.020318  45.020318      35.082001\n",
      "1989-01-01  1910.603996  7.555175  43.710456  43.710456      41.553997\n",
      "1989-04-01  2331.164993  7.754123  48.282139  48.282139      17.532997\n",
      "1989-07-01  2206.549995  7.699185  46.973929  46.973929      78.229996 \n",
      "\n",
      "ADF Test Statistic : -2.610111749093572\n",
      "p-value : 0.09092533196680103\n",
      "Lags Used : 0\n",
      "No. of Observations Used : 37\n",
      "Weak evidence against null hypothesis, time series has a unit root, indicating it is non-stationary \n",
      "None\n",
      "\n",
      "\n",
      "\n",
      "LOG trnasform with Seasonal Difference : \n",
      "\n",
      "                   Sales       log       sqrt     log_sq  Seasonal_Diff  \\\n",
      "Date                                                                     \n",
      "1986-01-01  1734.827000  7.458663  41.651254  41.651254            NaN   \n",
      "1986-04-01  2244.960999  7.716443  47.381019  47.381019            NaN   \n",
      "1986-07-01  2533.804993  7.837477  50.336915  50.336915            NaN   \n",
      "1986-10-01  2154.962997  7.675529  46.421579  46.421579            NaN   \n",
      "1987-01-01  1547.818996  7.344602  39.342331  39.342331    -187.008003   \n",
      "1987-04-01  2104.411995  7.651791  45.873871  45.873871    -140.549004   \n",
      "1987-07-01  2014.362999  7.608058  44.881655  44.881655    -519.441994   \n",
      "1987-10-01  1991.746998  7.596767  44.628993  44.628993    -163.216000   \n",
      "1988-01-01  1869.049999  7.533186  43.232511  43.232511     321.231003   \n",
      "1988-04-01  2313.631996  7.746574  48.100229  48.100229     209.220001   \n",
      "1988-07-01  2128.320000  7.663088  46.133719  46.133719     113.957001   \n",
      "1988-10-01  2026.828999  7.614228  45.020318  45.020318      35.082001   \n",
      "1989-01-01  1910.603996  7.555175  43.710456  43.710456      41.553997   \n",
      "1989-04-01  2331.164993  7.754123  48.282139  48.282139      17.532997   \n",
      "1989-07-01  2206.549995  7.699185  46.973929  46.973929      78.229996   \n",
      "\n",
      "            log_diff  \n",
      "Date                  \n",
      "1986-01-01       NaN  \n",
      "1986-04-01       NaN  \n",
      "1986-07-01       NaN  \n",
      "1986-10-01       NaN  \n",
      "1987-01-01 -0.114061  \n",
      "1987-04-01 -0.064652  \n",
      "1987-07-01 -0.229419  \n",
      "1987-10-01 -0.078761  \n",
      "1988-01-01  0.188583  \n",
      "1988-04-01  0.094782  \n",
      "1988-07-01  0.055030  \n",
      "1988-10-01  0.017460  \n",
      "1989-01-01  0.021989  \n",
      "1989-04-01  0.007550  \n",
      "1989-07-01  0.036097   \n",
      "\n",
      "ADF Test Statistic : -5.238545695779616\n",
      "p-value : 7.331186128952268e-06\n",
      "Lags Used : 2\n",
      "No. of Observations Used : 35\n",
      "Strong evidence against the null hypothesis(Ho), So reject the null hypothesis. Data has no unit root and is stationary\n"
     ]
    }
   ],
   "source": [
    "# Differencing\n",
    "df['Seasonal_Diff'] = df['Sales']-df['Sales'].shift(4)\n",
    "print('\\n\\n\\nSeasonal Difference : \\n\\n',df.head(15),'\\n')\n",
    "print(adfuller_test(df['Seasonal_Diff'].dropna()))\n",
    "\n",
    "# Log transform with Differencing\n",
    "df['log_diff'] = df['log']-df['log'].shift(4)\n",
    "print('\\n\\n\\nLOG trnasform with Seasonal Difference : \\n\\n',df.head(15),'\\n')\n",
    "adfuller_test(df['log_diff'].dropna())"
   ]
  },
  {
   "cell_type": "code",
   "execution_count": 62,
   "id": "dcddb584",
   "metadata": {
    "ExecuteTime": {
     "end_time": "2023-09-03T18:49:22.479063Z",
     "start_time": "2023-09-03T18:49:22.262286Z"
    },
    "scrolled": true
   },
   "outputs": [
    {
     "data": {
      "image/png": "[encoded data removed]",
      "text/plain": [
       "<Figure size 360x216 with 1 Axes>"
      ]
     },
     "metadata": {
      "needs_background": "light"
     },
     "output_type": "display_data"
    }
   ],
   "source": [
    "plt.figure(figsize=(5,3))\n",
    "plt.plot(df['log_diff'])\n",
    "plt.show()"
   ]
  },
  {
   "cell_type": "markdown",
   "id": "dbc6ad60",
   "metadata": {},
   "source": [
    "#### Splitting the Data"
   ]
  },
  {
   "cell_type": "code",
   "execution_count": 63,
   "id": "e9d4dde6",
   "metadata": {
    "ExecuteTime": {
     "end_time": "2023-09-03T18:49:22.494615Z",
     "start_time": "2023-09-03T18:49:22.482195Z"
    }
   },
   "outputs": [
    {
     "name": "stdout",
     "output_type": "stream",
     "text": [
      "Dataset: 38, Validation: 4\n"
     ]
    }
   ],
   "source": [
    "# Splitting the data\n",
    "\n",
    "df1 = pd.read_csv(\"data3.csv\", index_col=0)\n",
    "split_point = len(df1)-4\n",
    "dataset, validation = df1[0:split_point], df1[split_point:]\n",
    "print(\"Dataset: %d, Validation: %d\" % (len(dataset), len(validation)))\n",
    "\n",
    "dataset.to_csv(\"dataset.csv\", header=False)\n",
    "validation.to_csv(\"validation.csv\", header=False)"
   ]
  },
  {
   "cell_type": "markdown",
   "id": "b937e6b1",
   "metadata": {},
   "source": [
    "#### Base Model"
   ]
  },
  {
   "cell_type": "code",
   "execution_count": 64,
   "id": "a632b0a0",
   "metadata": {
    "ExecuteTime": {
     "end_time": "2023-09-03T18:49:22.541012Z",
     "start_time": "2023-09-03T18:49:22.496609Z"
    }
   },
   "outputs": [
    {
     "name": "stdout",
     "output_type": "stream",
     "text": [
      "Predicted: 2792.754, Expected: 2556.010\n",
      "Predicted: 2556.010, Expected: 2480.974\n",
      "Predicted: 2480.974, Expected: 3039.523\n",
      "Predicted: 3039.523, Expected: 3172.116\n",
      "Predicted: 3172.116, Expected: 2879.001\n",
      "Predicted: 2879.001, Expected: 2772.000\n",
      "Predicted: 2772.000, Expected: 3550.000\n",
      "Predicted: 3550.000, Expected: 3508.000\n",
      "Predicted: 3508.000, Expected: 3243.860\n",
      "Predicted: 3243.860, Expected: 3056.000\n",
      "Predicted: 3056.000, Expected: 3899.000\n",
      "Predicted: 3899.000, Expected: 3629.000\n",
      "Predicted: 3629.000, Expected: 3373.000\n",
      "Predicted: 3373.000, Expected: 3352.000\n",
      "Predicted: 3352.000, Expected: 4342.000\n",
      "Predicted: 4342.000, Expected: 4461.000\n",
      "Predicted: 4461.000, Expected: 4017.000\n",
      "Predicted: 4017.000, Expected: 3854.000\n",
      "Predicted: 3854.000, Expected: 4936.000\n",
      "\n",
      "RMSE: 483.351\n"
     ]
    }
   ],
   "source": [
    "# Persistence / Base Model\n",
    "\n",
    "train = pd.read_csv(\"dataset.csv\", header=None, index_col=0,\n",
    "                     parse_dates=True, squeeze=True)\n",
    "X = train.values\n",
    "X = X.astype(\"float32\")\n",
    "train_size = int(len(X) * 0.50)\n",
    "train, test = X[0:train_size], X[train_size:]\n",
    "\n",
    "history = [X for X in train]\n",
    "predictions = list()\n",
    "for i in range (len(test)):\n",
    "    yhat = history[-1]\n",
    "    predictions.append(yhat)\n",
    "    obs = test[i]\n",
    "    history.append(obs) \n",
    "    print(\"Predicted: %.3f, Expected: %.3f\" % (yhat, obs))\n",
    "        \n",
    "rmse = sqrt(mean_squared_error(test, predictions))\n",
    "print(\"\\nRMSE: %.3f\" % rmse)"
   ]
  },
  {
   "cell_type": "markdown",
   "id": "5f3e9191",
   "metadata": {},
   "source": [
    "#### Building the Model based on the optimized values"
   ]
  },
  {
   "cell_type": "code",
   "execution_count": 65,
   "id": "4bcb0d2a",
   "metadata": {
    "ExecuteTime": {
     "end_time": "2023-09-03T18:49:22.588670Z",
     "start_time": "2023-09-03T18:49:22.543009Z"
    }
   },
   "outputs": [],
   "source": [
    "train = pd.read_csv('dataset.csv', header=None, index_col=0, parse_dates=True, squeeze=True)\n",
    "df = train.values\n",
    "df = df.astype(\"float32\")\n",
    "test = pd.read_csv('validation.csv', header=None, index_col=0, parse_dates=True, squeeze=True)"
   ]
  },
  {
   "cell_type": "code",
   "execution_count": 66,
   "id": "e32ed12e",
   "metadata": {
    "ExecuteTime": {
     "end_time": "2023-09-03T18:49:22.762276Z",
     "start_time": "2023-09-03T18:49:22.589770Z"
    }
   },
   "outputs": [
    {
     "data": {
      "text/plain": [
       "array([5057.42977179, 4683.41192614, 4671.6849056 , 5224.85501605,\n",
       "       5224.85501605, 5224.85501605, 5224.85501605, 5224.85501605,\n",
       "       5224.85501605, 5224.85501605, 5224.85501605, 5224.85501605])"
      ]
     },
     "execution_count": 66,
     "metadata": {},
     "output_type": "execute_result"
    }
   ],
   "source": [
    "arima_model = ARIMA(df, order=(0,1,4)).fit()\n",
    "forecast = arima_model.forecast(steps=12)\n",
    "forecast"
   ]
  },
  {
   "cell_type": "code",
   "execution_count": 67,
   "id": "b97c291e",
   "metadata": {
    "ExecuteTime": {
     "end_time": "2023-09-03T18:49:22.778172Z",
     "start_time": "2023-09-03T18:49:22.764270Z"
    }
   },
   "outputs": [
    {
     "name": "stdout",
     "output_type": "stream",
     "text": [
      "RMSE of the ARIMA Model :  812.4521936944619\n",
      "MAPE of the ARIMA Model :  18.155669182286\n"
     ]
    }
   ],
   "source": [
    "# To get RMSE of the ARIMA model\n",
    "arima_rmse= RMSE(forecast, test[1])\n",
    "print('RMSE of the ARIMA Model : ',arima_rmse)\n",
    "\n",
    "# To get MAPE of the ARIMA model\n",
    "arima_mape = MAPE(forecast, test[1])\n",
    "print('MAPE of the ARIMA Model : ',arima_mape)"
   ]
  },
  {
   "cell_type": "markdown",
   "id": "f33a6acf",
   "metadata": {},
   "source": [
    "## Conclusion "
   ]
  },
  {
   "cell_type": "code",
   "execution_count": 68,
   "id": "35ba82d7",
   "metadata": {
    "ExecuteTime": {
     "end_time": "2023-09-03T18:49:22.809178Z",
     "start_time": "2023-09-03T18:49:22.781167Z"
    }
   },
   "outputs": [
    {
     "data": {
      "text/html": [
       "<div>\n",
       "<style scoped>\n",
       "    .dataframe tbody tr th:only-of-type {\n",
       "        vertical-align: middle;\n",
       "    }\n",
       "\n",
       "    .dataframe tbody tr th {\n",
       "        vertical-align: top;\n",
       "    }\n",
       "\n",
       "    .dataframe thead th {\n",
       "        text-align: right;\n",
       "    }\n",
       "</style>\n",
       "<table border=\"1\" class=\"dataframe\">\n",
       "  <thead>\n",
       "    <tr style=\"text-align: right;\">\n",
       "      <th></th>\n",
       "      <th>Model</th>\n",
       "      <th>RMSE</th>\n",
       "      <th>MAPE</th>\n",
       "    </tr>\n",
       "  </thead>\n",
       "  <tbody>\n",
       "    <tr>\n",
       "      <th>5</th>\n",
       "      <td>holt exponential (Multi)</td>\n",
       "      <td>137.472304</td>\n",
       "      <td>2.841437</td>\n",
       "    </tr>\n",
       "    <tr>\n",
       "      <th>10</th>\n",
       "      <td>multiplicative additive seas</td>\n",
       "      <td>225.524390</td>\n",
       "      <td>4.466641</td>\n",
       "    </tr>\n",
       "    <tr>\n",
       "      <th>8</th>\n",
       "      <td>additive seas with quad</td>\n",
       "      <td>301.738007</td>\n",
       "      <td>5.763698</td>\n",
       "    </tr>\n",
       "    <tr>\n",
       "      <th>6</th>\n",
       "      <td>holt exponential (add)</td>\n",
       "      <td>317.222758</td>\n",
       "      <td>5.923113</td>\n",
       "    </tr>\n",
       "    <tr>\n",
       "      <th>1</th>\n",
       "      <td>exponential</td>\n",
       "      <td>466.247973</td>\n",
       "      <td>8.339472</td>\n",
       "    </tr>\n",
       "    <tr>\n",
       "      <th>2</th>\n",
       "      <td>quadratic</td>\n",
       "      <td>475.561835</td>\n",
       "      <td>9.177743</td>\n",
       "    </tr>\n",
       "    <tr>\n",
       "      <th>4</th>\n",
       "      <td>holt</td>\n",
       "      <td>538.247971</td>\n",
       "      <td>9.426779</td>\n",
       "    </tr>\n",
       "    <tr>\n",
       "      <th>0</th>\n",
       "      <td>linear</td>\n",
       "      <td>591.553296</td>\n",
       "      <td>9.338622</td>\n",
       "    </tr>\n",
       "    <tr>\n",
       "      <th>3</th>\n",
       "      <td>simple exponential</td>\n",
       "      <td>776.480429</td>\n",
       "      <td>13.169737</td>\n",
       "    </tr>\n",
       "    <tr>\n",
       "      <th>11</th>\n",
       "      <td>ARIMA</td>\n",
       "      <td>812.452194</td>\n",
       "      <td>18.155669</td>\n",
       "    </tr>\n",
       "    <tr>\n",
       "      <th>7</th>\n",
       "      <td>additive seas</td>\n",
       "      <td>1860.023815</td>\n",
       "      <td>39.609867</td>\n",
       "    </tr>\n",
       "    <tr>\n",
       "      <th>9</th>\n",
       "      <td>multiplicative seas</td>\n",
       "      <td>1963.389640</td>\n",
       "      <td>41.792122</td>\n",
       "    </tr>\n",
       "  </tbody>\n",
       "</table>\n",
       "</div>"
      ],
      "text/plain": [
       "                           Model         RMSE       MAPE\n",
       "5       holt exponential (Multi)   137.472304   2.841437\n",
       "10  multiplicative additive seas   225.524390   4.466641\n",
       "8        additive seas with quad   301.738007   5.763698\n",
       "6         holt exponential (add)   317.222758   5.923113\n",
       "1                    exponential   466.247973   8.339472\n",
       "2                      quadratic   475.561835   9.177743\n",
       "4                           holt   538.247971   9.426779\n",
       "0                         linear   591.553296   9.338622\n",
       "3             simple exponential   776.480429  13.169737\n",
       "11                         ARIMA   812.452194  18.155669\n",
       "7                  additive seas  1860.023815  39.609867\n",
       "9            multiplicative seas  1963.389640  41.792122"
      ]
     },
     "execution_count": 68,
     "metadata": {},
     "output_type": "execute_result"
    }
   ],
   "source": [
    "Final = pd.DataFrame({\"Model\": pd.Series([\"linear\", \"exponential\", \"quadratic\", \"simple exponential\",\n",
    "                                          \"holt\", \"holt exponential (Multi)\", \"holt exponential (add)\",\n",
    "                                          \"additive seas\", \"additive seas with quad\", \n",
    "                                          \"multiplicative seas\",\"multiplicative additive seas\",\"ARIMA\"]),\n",
    "                      \"RMSE\": pd.Series([lin_rmse, exp_rmse, quad_rmse, sim_exp_rmse, \n",
    "                                         holt_rmse, holt_exp_m_rmse, holt_exp_a_rmse, adds_rmse,\n",
    "                                         adds_quad_rmse, muls_rmse, mul_adds_rmse, arima_rmse]),\n",
    "                      \"MAPE\": pd.Series([lin_mape, exp_mape, quad_mape, sim_exp_mape, \n",
    "                                         holt_mape, holt_exp_m_mape, holt_exp_a_mape, adds_mape,\n",
    "                                         adds_quad_mape, muls_mape, mul_adds_mape, arima_mape])})\n",
    "Final.sort_values([\"RMSE\"])"
   ]
  },
  {
   "cell_type": "markdown",
   "id": "7ccd89fc",
   "metadata": {},
   "source": [
    "    We can observe that the model built with 'HOLTS WINTER EXPONENTIAL SMOOTHING with multiplicative seasonality and additive trend' method gives the best RMSE and MAPE Values.\n",
    "    Hence, we can conclude that this is the best fit model for Forecasting the CocaCola Sales dataset."
   ]
  }
 ],
 "metadata": {
  "kernelspec": {
   "display_name": "Python 3 (ipykernel)",
   "language": "python",
   "name": "python3"
  },
  "language_info": {
   "codemirror_mode": {
    "name": "ipython",
    "version": 3
   },
   "file_extension": ".py",
   "mimetype": "text/x-python",
   "name": "python",
   "nbconvert_exporter": "python",
   "pygments_lexer": "ipython3",
   "version": "3.9.12"
  }
 },
 "nbformat": 4,
 "nbformat_minor": 5
}
